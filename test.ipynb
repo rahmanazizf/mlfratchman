{
 "cells": [
  {
   "cell_type": "code",
   "execution_count": 1,
   "metadata": {},
   "outputs": [],
   "source": [
    "import numpy as np\n",
    "import pandas as pd"
   ]
  },
  {
   "cell_type": "code",
   "execution_count": 2,
   "metadata": {},
   "outputs": [],
   "source": [
    "import random as rd"
   ]
  },
  {
   "cell_type": "code",
   "execution_count": 3,
   "metadata": {},
   "outputs": [],
   "source": [
    "from ml_from_scratch.neighbors import NearestNeighbors"
   ]
  },
  {
   "cell_type": "code",
   "execution_count": 4,
   "metadata": {},
   "outputs": [],
   "source": [
    "kolom_1 = [rd.random()*10 + 5 for i in range(100)]"
   ]
  },
  {
   "cell_type": "code",
   "execution_count": 5,
   "metadata": {},
   "outputs": [
    {
     "data": {
      "text/plain": [
       "[8.663741304498318,\n",
       " 9.742814988648888,\n",
       " 13.743421586561649,\n",
       " 8.660811760550875,\n",
       " 7.383616508702925,\n",
       " 9.60589854272647,\n",
       " 9.162165210347933,\n",
       " 5.808607561891347,\n",
       " 10.523524148139854,\n",
       " 8.530172318951141,\n",
       " 9.4201851737512,\n",
       " 14.106078257648432,\n",
       " 12.921580408508303,\n",
       " 12.1491662080555,\n",
       " 7.565823859294108,\n",
       " 8.026387303907683,\n",
       " 10.099453970839324,\n",
       " 5.6989723149201,\n",
       " 9.879309217260865,\n",
       " 8.00732646233248,\n",
       " 5.875368302663278,\n",
       " 12.436225196328946,\n",
       " 8.37777086904042,\n",
       " 9.673324402876812,\n",
       " 5.941807322148928,\n",
       " 13.56842764021703,\n",
       " 12.950046623348996,\n",
       " 5.053757752948744,\n",
       " 7.475128897460723,\n",
       " 12.160451231094456,\n",
       " 7.126814408087602,\n",
       " 5.542929156250481,\n",
       " 12.063096625085738,\n",
       " 9.155197550097439,\n",
       " 9.862537758362985,\n",
       " 10.085916876544921,\n",
       " 14.958236850792781,\n",
       " 9.566701419015907,\n",
       " 7.810879297573989,\n",
       " 12.962261061939948,\n",
       " 10.745177434672932,\n",
       " 6.436641358820335,\n",
       " 13.763685316714922,\n",
       " 14.501997138909587,\n",
       " 14.871763625521407,\n",
       " 10.938871217803172,\n",
       " 9.870957104482043,\n",
       " 7.462492354661743,\n",
       " 7.719635328412409,\n",
       " 11.384362426494677,\n",
       " 11.70273149104173,\n",
       " 9.14705041201534,\n",
       " 6.778305146384428,\n",
       " 5.19087801572713,\n",
       " 6.325213942425635,\n",
       " 7.369037651135485,\n",
       " 14.648570709056685,\n",
       " 9.772962656223681,\n",
       " 6.7042992426017545,\n",
       " 5.033992810229622,\n",
       " 8.021701449977572,\n",
       " 5.404780325171917,\n",
       " 11.450489862264131,\n",
       " 10.676933987911855,\n",
       " 14.817804437706627,\n",
       " 9.579369679460688,\n",
       " 10.62793171507569,\n",
       " 13.147728596456176,\n",
       " 13.457200154366843,\n",
       " 10.665016919735784,\n",
       " 10.453372243905324,\n",
       " 12.534022020508221,\n",
       " 8.884685481317586,\n",
       " 11.136495722247318,\n",
       " 11.226090847971196,\n",
       " 12.71903519015107,\n",
       " 9.275580925980027,\n",
       " 9.197736932262139,\n",
       " 6.968717713135271,\n",
       " 10.809940457556023,\n",
       " 9.19076256387829,\n",
       " 11.576652545920567,\n",
       " 10.528487163054248,\n",
       " 9.49675828180392,\n",
       " 12.112711040737517,\n",
       " 9.226605269957098,\n",
       " 12.886921063952341,\n",
       " 13.668198565643346,\n",
       " 7.454339694656148,\n",
       " 8.966263265424761,\n",
       " 6.007667863674701,\n",
       " 13.30393905056473,\n",
       " 7.21273892094294,\n",
       " 10.58317316615722,\n",
       " 8.350256509128338,\n",
       " 9.20528468546042,\n",
       " 14.93154211064289,\n",
       " 10.226397122020655,\n",
       " 6.661943360980801,\n",
       " 9.525064604594595]"
      ]
     },
     "execution_count": 5,
     "metadata": {},
     "output_type": "execute_result"
    }
   ],
   "source": [
    "kolom_1"
   ]
  },
  {
   "cell_type": "code",
   "execution_count": 6,
   "metadata": {},
   "outputs": [
    {
     "data": {
      "text/plain": [
       "[13.988613302911064,\n",
       " 12.202645013944853,\n",
       " 14.950265799394076,\n",
       " 10.038715690522437,\n",
       " 12.844665105583685,\n",
       " 13.880819623359544,\n",
       " 12.056690737105448,\n",
       " 10.340081133551415,\n",
       " 12.687877748425452,\n",
       " 6.158203095246453,\n",
       " 13.509916007242506,\n",
       " 9.187885535878227,\n",
       " 13.249315127710723,\n",
       " 6.902097939872224,\n",
       " 13.8385256634732,\n",
       " 7.83770634939433,\n",
       " 11.303417807837235,\n",
       " 14.914005203749925,\n",
       " 13.4475849569464,\n",
       " 8.328152780772928,\n",
       " 8.838054037693365,\n",
       " 13.901528856167959,\n",
       " 14.276297210489151,\n",
       " 5.624841519019553,\n",
       " 13.89758284213276,\n",
       " 10.800187787493442,\n",
       " 8.359346053980332,\n",
       " 6.802213492817836,\n",
       " 12.716905935848423,\n",
       " 5.09126266126104,\n",
       " 9.692063928516664,\n",
       " 10.88738545648047,\n",
       " 7.690411067004536,\n",
       " 10.867381064505421,\n",
       " 13.353691582539561,\n",
       " 12.322286139078962,\n",
       " 6.50021004795891,\n",
       " 5.760374400816084,\n",
       " 8.558397761628866,\n",
       " 5.832884878294557,\n",
       " 12.150838393486984,\n",
       " 5.560378692837124,\n",
       " 5.878946391124752,\n",
       " 12.16696484067416,\n",
       " 14.494978983310702,\n",
       " 12.389117629329105,\n",
       " 6.633402552349985,\n",
       " 13.466095347763904,\n",
       " 8.786904213458389,\n",
       " 7.0380463110798575,\n",
       " 10.93823946513701,\n",
       " 5.5207733241091095,\n",
       " 13.93124675783737,\n",
       " 14.979883941661305,\n",
       " 13.426495897983825,\n",
       " 12.25379972595092,\n",
       " 8.994879554542958,\n",
       " 6.553135566765605,\n",
       " 10.984943662745245,\n",
       " 12.572124065553654,\n",
       " 9.40154829417424,\n",
       " 6.491184706737649,\n",
       " 8.71821467521048,\n",
       " 5.704357240795185,\n",
       " 5.783695813951716,\n",
       " 5.652941493286048,\n",
       " 14.843258914710063,\n",
       " 8.106342536580405,\n",
       " 6.761471845449064,\n",
       " 11.353579149749095,\n",
       " 11.56696057401258,\n",
       " 8.430740183078793,\n",
       " 11.733423621616513,\n",
       " 6.348127164114627,\n",
       " 10.110526066258268,\n",
       " 6.863253095366271,\n",
       " 10.056137447845778,\n",
       " 9.815614381809906,\n",
       " 9.924166070569413,\n",
       " 5.479580509310164,\n",
       " 5.899802054710398,\n",
       " 10.93335009273067,\n",
       " 11.479648605012017,\n",
       " 13.303400853776889,\n",
       " 10.875981227403313,\n",
       " 8.806383806105305,\n",
       " 6.190867968380119,\n",
       " 6.3698210689783865,\n",
       " 5.794010014067167,\n",
       " 11.026295809520375,\n",
       " 14.347085697418509,\n",
       " 5.840490223249217,\n",
       " 14.43417533455529,\n",
       " 6.899276661626082,\n",
       " 10.85430093790988,\n",
       " 9.221069916917049,\n",
       " 9.436549251149476,\n",
       " 12.541847920119626,\n",
       " 6.464751496754197,\n",
       " 11.251910381747944]"
      ]
     },
     "execution_count": 6,
     "metadata": {},
     "output_type": "execute_result"
    }
   ],
   "source": [
    "kolom_2 = [rd.random()*10 + 5 for i in range(100)]\n",
    "kolom_2"
   ]
  },
  {
   "cell_type": "code",
   "execution_count": 7,
   "metadata": {},
   "outputs": [],
   "source": [
    "target = [rd.randint(0, 1) for i in range(100)]"
   ]
  },
  {
   "cell_type": "code",
   "execution_count": 8,
   "metadata": {},
   "outputs": [],
   "source": [
    "dummy = {\n",
    "    'kolom_1': kolom_1,\n",
    "    'kolom_2': kolom_2,\n",
    "    'target': target\n",
    "}"
   ]
  },
  {
   "cell_type": "code",
   "execution_count": 9,
   "metadata": {},
   "outputs": [],
   "source": [
    "data = pd.DataFrame(dummy)"
   ]
  },
  {
   "cell_type": "code",
   "execution_count": 10,
   "metadata": {},
   "outputs": [],
   "source": [
    "test_many = [rd.random()*10+5 for i in range(20)]"
   ]
  },
  {
   "cell_type": "code",
   "execution_count": 11,
   "metadata": {},
   "outputs": [],
   "source": [
    "test = {\n",
    "    'kolom_1': [rd.random()*10 + 5],\n",
    "    'kolom_2': [rd.random()*10 + 5]\n",
    "}"
   ]
  },
  {
   "cell_type": "code",
   "execution_count": 12,
   "metadata": {},
   "outputs": [
    {
     "data": {
      "text/html": [
       "<div>\n",
       "<style scoped>\n",
       "    .dataframe tbody tr th:only-of-type {\n",
       "        vertical-align: middle;\n",
       "    }\n",
       "\n",
       "    .dataframe tbody tr th {\n",
       "        vertical-align: top;\n",
       "    }\n",
       "\n",
       "    .dataframe thead th {\n",
       "        text-align: right;\n",
       "    }\n",
       "</style>\n",
       "<table border=\"1\" class=\"dataframe\">\n",
       "  <thead>\n",
       "    <tr style=\"text-align: right;\">\n",
       "      <th></th>\n",
       "      <th>kolom_1</th>\n",
       "      <th>kolom_2</th>\n",
       "    </tr>\n",
       "  </thead>\n",
       "  <tbody>\n",
       "    <tr>\n",
       "      <th>0</th>\n",
       "      <td>7.159702</td>\n",
       "      <td>9.336178</td>\n",
       "    </tr>\n",
       "  </tbody>\n",
       "</table>\n",
       "</div>"
      ],
      "text/plain": [
       "    kolom_1   kolom_2\n",
       "0  7.159702  9.336178"
      ]
     },
     "execution_count": 12,
     "metadata": {},
     "output_type": "execute_result"
    }
   ],
   "source": [
    "data_test = pd.DataFrame(test)\n",
    "data_test"
   ]
  },
  {
   "cell_type": "code",
   "execution_count": 13,
   "metadata": {},
   "outputs": [],
   "source": [
    "import matplotlib.pyplot as plt"
   ]
  },
  {
   "cell_type": "code",
   "execution_count": 14,
   "metadata": {},
   "outputs": [
    {
     "data": {
      "image/png": "[encoded data removed]",
      "text/plain": [
       "<Figure size 800x600 with 1 Axes>"
      ]
     },
     "metadata": {},
     "output_type": "display_data"
    }
   ],
   "source": [
    "fig, ax = plt.subplots(1, 1, figsize=(8, 6))\n",
    "ax.scatter(data['kolom_1'][data['target'] == 1], data['kolom_2'][data['target'] == 1], c='b')\n",
    "ax.scatter(data['kolom_1'][data['target'] == 0], data['kolom_2'][data['target'] == 0], c='r')\n",
    "ax.scatter(data_test['kolom_1'], data_test['kolom_2'], marker='x')\n",
    "plt.show()"
   ]
  },
  {
   "cell_type": "code",
   "execution_count": 15,
   "metadata": {},
   "outputs": [],
   "source": [
    "train_arr = np.array(data[['kolom_1', 'kolom_2']])\n",
    "test_arr = np.array(data_test)"
   ]
  },
  {
   "cell_type": "code",
   "execution_count": 16,
   "metadata": {},
   "outputs": [
    {
     "data": {
      "text/plain": [
       "array([[ 8.6637413 , 13.9886133 ],\n",
       "       [ 9.74281499, 12.20264501],\n",
       "       [13.74342159, 14.9502658 ],\n",
       "       [ 8.66081176, 10.03871569],\n",
       "       [ 7.38361651, 12.84466511],\n",
       "       [ 9.60589854, 13.88081962],\n",
       "       [ 9.16216521, 12.05669074],\n",
       "       [ 5.80860756, 10.34008113],\n",
       "       [10.52352415, 12.68787775],\n",
       "       [ 8.53017232,  6.1582031 ],\n",
       "       [ 9.42018517, 13.50991601],\n",
       "       [14.10607826,  9.18788554],\n",
       "       [12.92158041, 13.24931513],\n",
       "       [12.14916621,  6.90209794],\n",
       "       [ 7.56582386, 13.83852566],\n",
       "       [ 8.0263873 ,  7.83770635],\n",
       "       [10.09945397, 11.30341781],\n",
       "       [ 5.69897231, 14.9140052 ],\n",
       "       [ 9.87930922, 13.44758496],\n",
       "       [ 8.00732646,  8.32815278],\n",
       "       [ 5.8753683 ,  8.83805404],\n",
       "       [12.4362252 , 13.90152886],\n",
       "       [ 8.37777087, 14.27629721],\n",
       "       [ 9.6733244 ,  5.62484152],\n",
       "       [ 5.94180732, 13.89758284],\n",
       "       [13.56842764, 10.80018779],\n",
       "       [12.95004662,  8.35934605],\n",
       "       [ 5.05375775,  6.80221349],\n",
       "       [ 7.4751289 , 12.71690594],\n",
       "       [12.16045123,  5.09126266],\n",
       "       [ 7.12681441,  9.69206393],\n",
       "       [ 5.54292916, 10.88738546],\n",
       "       [12.06309663,  7.69041107],\n",
       "       [ 9.15519755, 10.86738106],\n",
       "       [ 9.86253776, 13.35369158],\n",
       "       [10.08591688, 12.32228614],\n",
       "       [14.95823685,  6.50021005],\n",
       "       [ 9.56670142,  5.7603744 ],\n",
       "       [ 7.8108793 ,  8.55839776],\n",
       "       [12.96226106,  5.83288488],\n",
       "       [10.74517743, 12.15083839],\n",
       "       [ 6.43664136,  5.56037869],\n",
       "       [13.76368532,  5.87894639],\n",
       "       [14.50199714, 12.16696484],\n",
       "       [14.87176363, 14.49497898],\n",
       "       [10.93887122, 12.38911763],\n",
       "       [ 9.8709571 ,  6.63340255],\n",
       "       [ 7.46249235, 13.46609535],\n",
       "       [ 7.71963533,  8.78690421],\n",
       "       [11.38436243,  7.03804631],\n",
       "       [11.70273149, 10.93823947],\n",
       "       [ 9.14705041,  5.52077332],\n",
       "       [ 6.77830515, 13.93124676],\n",
       "       [ 5.19087802, 14.97988394],\n",
       "       [ 6.32521394, 13.4264959 ],\n",
       "       [ 7.36903765, 12.25379973],\n",
       "       [14.64857071,  8.99487955],\n",
       "       [ 9.77296266,  6.55313557],\n",
       "       [ 6.70429924, 10.98494366],\n",
       "       [ 5.03399281, 12.57212407],\n",
       "       [ 8.02170145,  9.40154829],\n",
       "       [ 5.40478033,  6.49118471],\n",
       "       [11.45048986,  8.71821468],\n",
       "       [10.67693399,  5.70435724],\n",
       "       [14.81780444,  5.78369581],\n",
       "       [ 9.57936968,  5.65294149],\n",
       "       [10.62793172, 14.84325891],\n",
       "       [13.1477286 ,  8.10634254],\n",
       "       [13.45720015,  6.76147185],\n",
       "       [10.66501692, 11.35357915],\n",
       "       [10.45337224, 11.56696057],\n",
       "       [12.53402202,  8.43074018],\n",
       "       [ 8.88468548, 11.73342362],\n",
       "       [11.13649572,  6.34812716],\n",
       "       [11.22609085, 10.11052607],\n",
       "       [12.71903519,  6.8632531 ],\n",
       "       [ 9.27558093, 10.05613745],\n",
       "       [ 9.19773693,  9.81561438],\n",
       "       [ 6.96871771,  9.92416607],\n",
       "       [10.80994046,  5.47958051],\n",
       "       [ 9.19076256,  5.89980205],\n",
       "       [11.57665255, 10.93335009],\n",
       "       [10.52848716, 11.47964861],\n",
       "       [ 9.49675828, 13.30340085],\n",
       "       [12.11271104, 10.87598123],\n",
       "       [ 9.22660527,  8.80638381],\n",
       "       [12.88692106,  6.19086797],\n",
       "       [13.66819857,  6.36982107],\n",
       "       [ 7.45433969,  5.79401001],\n",
       "       [ 8.96626327, 11.02629581],\n",
       "       [ 6.00766786, 14.3470857 ],\n",
       "       [13.30393905,  5.84049022],\n",
       "       [ 7.21273892, 14.43417533],\n",
       "       [10.58317317,  6.89927666],\n",
       "       [ 8.35025651, 10.85430094],\n",
       "       [ 9.20528469,  9.22106992],\n",
       "       [14.93154211,  9.43654925],\n",
       "       [10.22639712, 12.54184792],\n",
       "       [ 6.66194336,  6.4647515 ],\n",
       "       [ 9.5250646 , 11.25191038]])"
      ]
     },
     "execution_count": 16,
     "metadata": {},
     "output_type": "execute_result"
    }
   ],
   "source": [
    "train_arr"
   ]
  },
  {
   "cell_type": "code",
   "execution_count": 17,
   "metadata": {},
   "outputs": [
    {
     "data": {
      "text/plain": [
       "array([[7.15970241, 9.33617815]])"
      ]
     },
     "execution_count": 17,
     "metadata": {},
     "output_type": "execute_result"
    }
   ],
   "source": [
    "test_arr"
   ]
  },
  {
   "cell_type": "code",
   "execution_count": 18,
   "metadata": {},
   "outputs": [],
   "source": [
    "delta_sq = (train_arr - test_arr)**2"
   ]
  },
  {
   "cell_type": "code",
   "execution_count": 19,
   "metadata": {},
   "outputs": [
    {
     "data": {
      "text/plain": [
       "array([[2.26213299e+00, 2.16451528e+01],\n",
       "       [6.67247059e+00, 8.21663228e+00],\n",
       "       [4.33453582e+01, 3.15179801e+01],\n",
       "       [2.25332928e+00, 4.93558995e-01],\n",
       "       [5.01375229e-02, 1.23094807e+01],\n",
       "       [5.98387551e+00, 2.06537661e+01],\n",
       "       [4.00985726e+00, 7.40118873e+00],\n",
       "       [1.82545729e+00, 1.00782120e+00],\n",
       "       [1.13152967e+01, 1.12338902e+01],\n",
       "       [1.87818777e+00, 1.00995255e+01],\n",
       "       [5.10978232e+00, 1.74200877e+01],\n",
       "       [4.82521374e+01, 2.19906996e-02],\n",
       "       [3.31992381e+01, 1.53126410e+01],\n",
       "       [2.48947490e+01, 5.92474647e+00],\n",
       "       [1.64934630e-01, 2.02711331e+01],\n",
       "       [7.51142703e-01, 2.24541774e+00],\n",
       "       [8.64213923e+00, 3.87003187e+00],\n",
       "       [2.13373242e+00, 3.11121546e+01],\n",
       "       [7.39626118e+00, 1.69036659e+01],\n",
       "       [7.18466531e-01, 1.01611515e+00],\n",
       "       [1.64951410e+00, 2.48127632e-01],\n",
       "       [2.78416927e+01, 2.08424271e+01],\n",
       "       [1.48369077e+00, 2.44047763e+01],\n",
       "       [6.31829552e+00, 1.37740196e+01],\n",
       "       [1.48326845e+00, 2.08064128e+01],\n",
       "       [4.10717591e+01, 2.14332422e+00],\n",
       "       [3.35280861e+01, 9.54200945e-01],\n",
       "       [4.43500291e+00, 6.42097689e+00],\n",
       "       [9.94938680e-02, 1.14293204e+01],\n",
       "       [2.50074888e+01, 1.80193075e+01],\n",
       "       [1.08162077e-03, 1.26654687e-01],\n",
       "       [2.61395576e+00, 2.40624411e+00],\n",
       "       [2.40432748e+01, 2.70854929e+00],\n",
       "       [3.98200085e+00, 2.34458236e+00],\n",
       "       [7.30531891e+00, 1.61404142e+01],\n",
       "       [8.56273110e+00, 8.91684092e+00],\n",
       "       [6.08171394e+01, 8.04271508e+00],\n",
       "       [5.79364422e+00, 1.27863725e+01],\n",
       "       [4.24031337e-01, 6.04942334e-01],\n",
       "       [3.36696869e+01, 1.22730638e+01],\n",
       "       [1.28556311e+01, 7.92231228e+00],\n",
       "       [5.22817286e-01, 1.42566615e+01],\n",
       "       [4.36125902e+01, 1.19524514e+01],\n",
       "       [5.39092919e+01, 8.01335328e+00],\n",
       "       [5.94758882e+01, 2.66132260e+01],\n",
       "       [1.42821169e+01, 9.32043946e+00],\n",
       "       [7.35090201e+00, 7.30499593e+00],\n",
       "       [9.16817497e-02, 1.70562161e+01],\n",
       "       [3.13524871e-01, 3.01701858e-01],\n",
       "       [1.78477522e+01, 5.28140995e+00],\n",
       "       [2.06391132e+01, 2.56660046e+00],\n",
       "       [3.94955207e+00, 1.45573140e+01],\n",
       "       [1.45463874e-01, 2.11146555e+01],\n",
       "       [3.87626950e+00, 3.18514151e+01],\n",
       "       [6.96371005e-01, 1.67306993e+01],\n",
       "       [4.38212425e-02, 8.51251566e+00],\n",
       "       [5.60831484e+01, 1.16484732e-01],\n",
       "       [6.82912911e+00, 7.74532602e+00],\n",
       "       [2.07392046e-01, 2.71842771e+00],\n",
       "       [4.51864131e+00, 1.04713460e+01],\n",
       "       [7.43042342e-01, 4.27325567e-03],\n",
       "       [3.07975153e+00, 8.09398770e+00],\n",
       "       [1.84108569e+01, 3.81878857e-01],\n",
       "       [1.23709180e+01, 1.31901231e+01],\n",
       "       [5.86465266e+01, 1.26201308e+01],\n",
       "       [5.85478969e+00, 1.35662323e+01],\n",
       "       [1.20286145e+01, 3.03279385e+01],\n",
       "       [3.58564576e+01, 1.51249564e+00],\n",
       "       [3.96584778e+01, 6.62911256e+00],\n",
       "       [1.22872298e+01, 4.06990679e+00],\n",
       "       [1.08482610e+01, 4.97639022e+00],\n",
       "       [2.88833113e+01, 8.19817913e-01],\n",
       "       [2.97556659e+00, 5.74678585e+00],\n",
       "       [1.58148850e+01, 8.92844870e+00],\n",
       "       [1.65355149e+01, 5.99614694e-01],\n",
       "       [3.09061809e+01, 6.11535833e+00],\n",
       "       [4.47694189e+00, 5.18341390e-01],\n",
       "       [4.15358471e+00, 2.29859100e-01],\n",
       "       [3.64751550e-02, 3.45729794e-01],\n",
       "       [1.33242378e+01, 1.48733454e+01],\n",
       "       [4.12520534e+00, 1.18086807e+01],\n",
       "       [1.95094485e+01, 2.55095821e+00],\n",
       "       [1.13487107e+01, 4.59446559e+00],\n",
       "       [5.46183014e+00, 1.57388560e+01],\n",
       "       [2.45322945e+01, 2.37099352e+00],\n",
       "       [4.27208743e+00, 2.80682048e-01],\n",
       "       [3.28010335e+01, 9.89297614e+00],\n",
       "       [4.23605222e+01, 8.79927434e+00],\n",
       "       [8.68111286e-02, 1.25469551e+01],\n",
       "       [3.26366212e+00, 2.85649770e+00],\n",
       "       [1.32718360e+00, 2.51091944e+01],\n",
       "       [3.77516439e+01, 1.22198341e+01],\n",
       "       [2.81287133e-03, 2.59895753e+01],\n",
       "       [1.17201520e+01, 5.93848887e+00],\n",
       "       [1.41741906e+00, 2.30469680e+00],\n",
       "       [4.18440684e+00, 1.32499055e-02],\n",
       "       [6.04014923e+01, 1.00743578e-02],\n",
       "       [9.40461645e+00, 1.02763187e+01],\n",
       "       [2.47764072e-01, 8.24509103e+00],\n",
       "       [5.59493830e+00, 3.67002998e+00]])"
      ]
     },
     "execution_count": 19,
     "metadata": {},
     "output_type": "execute_result"
    }
   ],
   "source": [
    "delta_sq"
   ]
  },
  {
   "cell_type": "code",
   "execution_count": 20,
   "metadata": {},
   "outputs": [
    {
     "data": {
      "text/plain": [
       "2"
      ]
     },
     "execution_count": 20,
     "metadata": {},
     "output_type": "execute_result"
    }
   ],
   "source": [
    "delta_sq.shape[1]"
   ]
  },
  {
   "cell_type": "code",
   "execution_count": 21,
   "metadata": {},
   "outputs": [
    {
     "data": {
      "text/plain": [
       "array([4.88950773, 3.85864003, 8.65236027, 1.65737391, 3.51562487,\n",
       "       5.16116669, 3.37802398, 1.68323453, 4.74859841, 3.4608833 ,\n",
       "       4.74656402, 6.94795856, 6.96504695, 5.55153091, 4.52062692,\n",
       "       1.73105761, 3.53725474, 5.76592465, 4.92949562, 1.31703518,\n",
       "       1.37754918, 6.97740065, 5.08807106, 4.48244522, 4.72119489,\n",
       "       6.57381801, 5.87216204, 3.29484139, 3.39541076, 6.5594814 ,\n",
       "       0.35740217, 2.24058025, 5.17221656, 2.51527001, 4.84207942,\n",
       "       4.18085781, 8.29818381, 4.31045435, 1.01438339, 6.77810819,\n",
       "       4.55828295, 3.84440878, 7.45419624, 7.8690943 , 9.27842197,\n",
       "       4.85824622, 3.82830223, 4.14100203, 0.7843639 , 4.80927876,\n",
       "       4.81723091, 4.30196072, 4.6108697 , 5.97726397, 4.17457426,\n",
       "       2.92512169, 7.49664146, 3.81765047, 1.71050278, 3.87169049,\n",
       "       0.86447417, 3.34271435, 4.33505892, 5.05579282, 8.44195815,\n",
       "       4.40692886, 6.50819123, 6.11301507, 6.80349839, 4.0443957 ,\n",
       "       3.97802101, 5.45005772, 2.9533629 , 4.97426716, 4.13946006,\n",
       "       6.08453279, 2.23501304, 2.09366755, 0.61822726, 5.31013966,\n",
       "       3.9917272 , 4.69685072, 3.99289072, 4.60442028, 5.18683796,\n",
       "       2.13372198, 6.53406532, 7.15260767, 3.55440097, 2.47389568,\n",
       "       5.14163185, 7.06905071, 5.09827306, 4.20221857, 1.92927858,\n",
       "       2.04881838, 7.7724878 , 4.43632   , 2.91425035, 3.04384104])"
      ]
     },
     "execution_count": 21,
     "metadata": {},
     "output_type": "execute_result"
    }
   ],
   "source": [
    "(delta_sq[:, 0] + delta_sq[:, 1])**0.5"
   ]
  },
  {
   "cell_type": "code",
   "execution_count": 22,
   "metadata": {},
   "outputs": [
    {
     "data": {
      "text/plain": [
       "array([ True,  True,  True,  True,  True,  True,  True,  True,  True,\n",
       "        True,  True,  True,  True,  True,  True,  True,  True,  True,\n",
       "        True,  True,  True,  True,  True,  True,  True,  True,  True,\n",
       "        True,  True,  True,  True,  True,  True,  True,  True,  True,\n",
       "        True,  True,  True,  True,  True,  True,  True,  True,  True,\n",
       "        True,  True,  True,  True,  True,  True,  True,  True,  True,\n",
       "        True,  True,  True,  True,  True,  True,  True,  True,  True,\n",
       "        True,  True,  True,  True,  True,  True,  True,  True,  True,\n",
       "        True,  True,  True,  True,  True,  True,  True,  True,  True,\n",
       "        True,  True,  True,  True,  True,  True,  True,  True,  True,\n",
       "        True,  True,  True,  True,  True,  True,  True,  True,  True,\n",
       "        True])"
      ]
     },
     "execution_count": 22,
     "metadata": {},
     "output_type": "execute_result"
    }
   ],
   "source": [
    "np.sum(delta_sq, axis=1) == delta_sq[:, 0] + delta_sq[:, 1]"
   ]
  },
  {
   "cell_type": "code",
   "execution_count": 23,
   "metadata": {},
   "outputs": [
    {
     "data": {
      "text/plain": [
       "(1, 2)"
      ]
     },
     "execution_count": 23,
     "metadata": {},
     "output_type": "execute_result"
    }
   ],
   "source": [
    "test_arr.shape"
   ]
  },
  {
   "cell_type": "code",
   "execution_count": 24,
   "metadata": {},
   "outputs": [],
   "source": [
    "def calc_dist(X_target:np.ndarray, X_train:np.ndarray) -> np.ndarray:\n",
    "    delta_squared = (X_train - X_target)**2\n",
    "    row_sum = np.sum(delta_squared, axis=1)\n",
    "    return row_sum**0.5"
   ]
  },
  {
   "cell_type": "code",
   "execution_count": 25,
   "metadata": {},
   "outputs": [],
   "source": [
    "dist = calc_dist(test_arr, train_arr)"
   ]
  },
  {
   "cell_type": "code",
   "execution_count": 26,
   "metadata": {},
   "outputs": [
    {
     "data": {
      "text/plain": [
       "[1.0]"
      ]
     },
     "execution_count": 26,
     "metadata": {},
     "output_type": "execute_result"
    }
   ],
   "source": [
    "list(data['target'][list(dist.argsort())[:3]].value_counts(normalize=True))"
   ]
  },
  {
   "cell_type": "code",
   "execution_count": 27,
   "metadata": {},
   "outputs": [
    {
     "data": {
      "text/plain": [
       "1.3170351847124055"
      ]
     },
     "execution_count": 27,
     "metadata": {},
     "output_type": "execute_result"
    }
   ],
   "source": [
    "dist[19]"
   ]
  },
  {
   "cell_type": "code",
   "execution_count": 28,
   "metadata": {},
   "outputs": [
    {
     "data": {
      "text/plain": [
       "(1, 2)"
      ]
     },
     "execution_count": 28,
     "metadata": {},
     "output_type": "execute_result"
    }
   ],
   "source": [
    "test_arr.shape"
   ]
  },
  {
   "cell_type": "code",
   "execution_count": 29,
   "metadata": {},
   "outputs": [
    {
     "data": {
      "text/plain": [
       "array([[2.26213299e+00, 2.16451528e+01],\n",
       "       [6.67247059e+00, 8.21663228e+00],\n",
       "       [4.33453582e+01, 3.15179801e+01],\n",
       "       [2.25332928e+00, 4.93558995e-01],\n",
       "       [5.01375229e-02, 1.23094807e+01],\n",
       "       [5.98387551e+00, 2.06537661e+01],\n",
       "       [4.00985726e+00, 7.40118873e+00],\n",
       "       [1.82545729e+00, 1.00782120e+00],\n",
       "       [1.13152967e+01, 1.12338902e+01],\n",
       "       [1.87818777e+00, 1.00995255e+01],\n",
       "       [5.10978232e+00, 1.74200877e+01],\n",
       "       [4.82521374e+01, 2.19906996e-02],\n",
       "       [3.31992381e+01, 1.53126410e+01],\n",
       "       [2.48947490e+01, 5.92474647e+00],\n",
       "       [1.64934630e-01, 2.02711331e+01],\n",
       "       [7.51142703e-01, 2.24541774e+00],\n",
       "       [8.64213923e+00, 3.87003187e+00],\n",
       "       [2.13373242e+00, 3.11121546e+01],\n",
       "       [7.39626118e+00, 1.69036659e+01],\n",
       "       [7.18466531e-01, 1.01611515e+00],\n",
       "       [1.64951410e+00, 2.48127632e-01],\n",
       "       [2.78416927e+01, 2.08424271e+01],\n",
       "       [1.48369077e+00, 2.44047763e+01],\n",
       "       [6.31829552e+00, 1.37740196e+01],\n",
       "       [1.48326845e+00, 2.08064128e+01],\n",
       "       [4.10717591e+01, 2.14332422e+00],\n",
       "       [3.35280861e+01, 9.54200945e-01],\n",
       "       [4.43500291e+00, 6.42097689e+00],\n",
       "       [9.94938680e-02, 1.14293204e+01],\n",
       "       [2.50074888e+01, 1.80193075e+01],\n",
       "       [1.08162077e-03, 1.26654687e-01],\n",
       "       [2.61395576e+00, 2.40624411e+00],\n",
       "       [2.40432748e+01, 2.70854929e+00],\n",
       "       [3.98200085e+00, 2.34458236e+00],\n",
       "       [7.30531891e+00, 1.61404142e+01],\n",
       "       [8.56273110e+00, 8.91684092e+00],\n",
       "       [6.08171394e+01, 8.04271508e+00],\n",
       "       [5.79364422e+00, 1.27863725e+01],\n",
       "       [4.24031337e-01, 6.04942334e-01],\n",
       "       [3.36696869e+01, 1.22730638e+01],\n",
       "       [1.28556311e+01, 7.92231228e+00],\n",
       "       [5.22817286e-01, 1.42566615e+01],\n",
       "       [4.36125902e+01, 1.19524514e+01],\n",
       "       [5.39092919e+01, 8.01335328e+00],\n",
       "       [5.94758882e+01, 2.66132260e+01],\n",
       "       [1.42821169e+01, 9.32043946e+00],\n",
       "       [7.35090201e+00, 7.30499593e+00],\n",
       "       [9.16817497e-02, 1.70562161e+01],\n",
       "       [3.13524871e-01, 3.01701858e-01],\n",
       "       [1.78477522e+01, 5.28140995e+00],\n",
       "       [2.06391132e+01, 2.56660046e+00],\n",
       "       [3.94955207e+00, 1.45573140e+01],\n",
       "       [1.45463874e-01, 2.11146555e+01],\n",
       "       [3.87626950e+00, 3.18514151e+01],\n",
       "       [6.96371005e-01, 1.67306993e+01],\n",
       "       [4.38212425e-02, 8.51251566e+00],\n",
       "       [5.60831484e+01, 1.16484732e-01],\n",
       "       [6.82912911e+00, 7.74532602e+00],\n",
       "       [2.07392046e-01, 2.71842771e+00],\n",
       "       [4.51864131e+00, 1.04713460e+01],\n",
       "       [7.43042342e-01, 4.27325567e-03],\n",
       "       [3.07975153e+00, 8.09398770e+00],\n",
       "       [1.84108569e+01, 3.81878857e-01],\n",
       "       [1.23709180e+01, 1.31901231e+01],\n",
       "       [5.86465266e+01, 1.26201308e+01],\n",
       "       [5.85478969e+00, 1.35662323e+01],\n",
       "       [1.20286145e+01, 3.03279385e+01],\n",
       "       [3.58564576e+01, 1.51249564e+00],\n",
       "       [3.96584778e+01, 6.62911256e+00],\n",
       "       [1.22872298e+01, 4.06990679e+00],\n",
       "       [1.08482610e+01, 4.97639022e+00],\n",
       "       [2.88833113e+01, 8.19817913e-01],\n",
       "       [2.97556659e+00, 5.74678585e+00],\n",
       "       [1.58148850e+01, 8.92844870e+00],\n",
       "       [1.65355149e+01, 5.99614694e-01],\n",
       "       [3.09061809e+01, 6.11535833e+00],\n",
       "       [4.47694189e+00, 5.18341390e-01],\n",
       "       [4.15358471e+00, 2.29859100e-01],\n",
       "       [3.64751550e-02, 3.45729794e-01],\n",
       "       [1.33242378e+01, 1.48733454e+01],\n",
       "       [4.12520534e+00, 1.18086807e+01],\n",
       "       [1.95094485e+01, 2.55095821e+00],\n",
       "       [1.13487107e+01, 4.59446559e+00],\n",
       "       [5.46183014e+00, 1.57388560e+01],\n",
       "       [2.45322945e+01, 2.37099352e+00],\n",
       "       [4.27208743e+00, 2.80682048e-01],\n",
       "       [3.28010335e+01, 9.89297614e+00],\n",
       "       [4.23605222e+01, 8.79927434e+00],\n",
       "       [8.68111286e-02, 1.25469551e+01],\n",
       "       [3.26366212e+00, 2.85649770e+00],\n",
       "       [1.32718360e+00, 2.51091944e+01],\n",
       "       [3.77516439e+01, 1.22198341e+01],\n",
       "       [2.81287133e-03, 2.59895753e+01],\n",
       "       [1.17201520e+01, 5.93848887e+00],\n",
       "       [1.41741906e+00, 2.30469680e+00],\n",
       "       [4.18440684e+00, 1.32499055e-02],\n",
       "       [6.04014923e+01, 1.00743578e-02],\n",
       "       [9.40461645e+00, 1.02763187e+01],\n",
       "       [2.47764072e-01, 8.24509103e+00],\n",
       "       [5.59493830e+00, 3.67002998e+00]])"
      ]
     },
     "execution_count": 29,
     "metadata": {},
     "output_type": "execute_result"
    }
   ],
   "source": [
    "delta_sq"
   ]
  },
  {
   "cell_type": "code",
   "execution_count": 30,
   "metadata": {},
   "outputs": [
    {
     "data": {
      "text/plain": [
       "[0,\n",
       " 1,\n",
       " 1,\n",
       " 0,\n",
       " 0,\n",
       " 1,\n",
       " 1,\n",
       " 0,\n",
       " 0,\n",
       " 1,\n",
       " 1,\n",
       " 1,\n",
       " 0,\n",
       " 0,\n",
       " 1,\n",
       " 0,\n",
       " 0,\n",
       " 1,\n",
       " 0,\n",
       " 0,\n",
       " 0,\n",
       " 0,\n",
       " 1,\n",
       " 1,\n",
       " 0,\n",
       " 1,\n",
       " 0,\n",
       " 0,\n",
       " 0,\n",
       " 0,\n",
       " 0,\n",
       " 1,\n",
       " 0,\n",
       " 0,\n",
       " 0,\n",
       " 1,\n",
       " 1,\n",
       " 1,\n",
       " 1,\n",
       " 0,\n",
       " 0,\n",
       " 1,\n",
       " 0,\n",
       " 1,\n",
       " 0,\n",
       " 0,\n",
       " 0,\n",
       " 1,\n",
       " 1,\n",
       " 1,\n",
       " 1,\n",
       " 1,\n",
       " 0,\n",
       " 1,\n",
       " 0,\n",
       " 0,\n",
       " 0,\n",
       " 0,\n",
       " 0,\n",
       " 1,\n",
       " 1,\n",
       " 0,\n",
       " 0,\n",
       " 0,\n",
       " 0,\n",
       " 0,\n",
       " 1,\n",
       " 1,\n",
       " 0,\n",
       " 1,\n",
       " 1,\n",
       " 1,\n",
       " 1,\n",
       " 0,\n",
       " 1,\n",
       " 1,\n",
       " 0,\n",
       " 1,\n",
       " 0,\n",
       " 0,\n",
       " 0,\n",
       " 0,\n",
       " 0,\n",
       " 1,\n",
       " 0,\n",
       " 0,\n",
       " 1,\n",
       " 0,\n",
       " 0,\n",
       " 1,\n",
       " 1,\n",
       " 1,\n",
       " 0,\n",
       " 0,\n",
       " 1,\n",
       " 0,\n",
       " 1,\n",
       " 0,\n",
       " 0,\n",
       " 1]"
      ]
     },
     "execution_count": 30,
     "metadata": {},
     "output_type": "execute_result"
    }
   ],
   "source": [
    "choiche = [rd.choice([1, 0]) for i in range(100)]\n",
    "choiche"
   ]
  },
  {
   "cell_type": "code",
   "execution_count": 31,
   "metadata": {},
   "outputs": [],
   "source": [
    "df = pd.DataFrame(np.array(choiche), columns=['choice'])"
   ]
  },
  {
   "cell_type": "code",
   "execution_count": 32,
   "metadata": {},
   "outputs": [],
   "source": [
    "dfi = pd.DataFrame(df.value_counts(normalize=True)).reset_index()\n",
    "dfarr = np.array(dfi).T"
   ]
  },
  {
   "cell_type": "code",
   "execution_count": 33,
   "metadata": {},
   "outputs": [
    {
     "data": {
      "text/plain": [
       "array([0.  , 0.56])"
      ]
     },
     "execution_count": 33,
     "metadata": {},
     "output_type": "execute_result"
    }
   ],
   "source": [
    "dfarr[:, 0]"
   ]
  },
  {
   "cell_type": "code",
   "execution_count": 34,
   "metadata": {},
   "outputs": [
    {
     "data": {
      "text/plain": [
       "array([[-0.70871394,  1.47329649],\n",
       "       [-0.4457729 , -0.15199444],\n",
       "       [ 1.74063735,  2.66823204],\n",
       "       [-0.70923881, -1.08673933],\n",
       "       [-0.84059146,  0.3433743 ],\n",
       "       [-0.48682642,  1.35330621],\n",
       "       [-0.60451592, -0.25068983],\n",
       "       [-0.73474822, -1.02449676],\n",
       "       [-0.16897106,  0.21319261],\n",
       "       [-0.73160447,  0.07589732],\n",
       "       [-0.53893921,  0.96192518],\n",
       "       [ 2.03317587, -1.14381455],\n",
       "       [ 1.13573322,  0.70685509],\n",
       "       [ 0.64062577, -0.42938771],\n",
       "       [-0.83374735,  1.30699508],\n",
       "       [-0.79879806, -0.87470703],\n",
       "       [-0.32834272, -0.6780755 ],\n",
       "       [-0.71636909,  2.61911386],\n",
       "       [-0.40262104,  0.89942123],\n",
       "       [-0.80074619, -1.02349292],\n",
       "       [-0.74523782, -1.11644457],\n",
       "       [ 0.81632036,  1.37614037],\n",
       "       [-0.75512409,  1.80730134],\n",
       "       [-0.46688855,  0.52063149],\n",
       "       [-0.75514927,  1.37178146],\n",
       "       [ 1.60508706, -0.88706369],\n",
       "       [ 1.1553389 , -1.03098657],\n",
       "       [-0.57916906, -0.36932758],\n",
       "       [-0.83764888,  0.23684607],\n",
       "       [ 0.64734723,  1.03445041],\n",
       "       [-0.84351614, -1.13114677],\n",
       "       [-0.68773853, -0.85524177],\n",
       "       [ 0.58986151, -0.81865294],\n",
       "       [-0.6061767 , -0.86270486],\n",
       "       [-0.40804295,  0.80704276],\n",
       "       [-0.33307697, -0.06724626],\n",
       "       [ 2.78229193, -0.17304412],\n",
       "       [-0.49816787,  0.40109383],\n",
       "       [-0.81830019, -1.0732583 ],\n",
       "       [ 1.16378103,  0.33896666],\n",
       "       [-0.07713747, -0.18761681],\n",
       "       [-0.81241065,  0.57904698],\n",
       "       [ 1.75656952,  0.30016207],\n",
       "       [ 2.37045121, -0.17659786],\n",
       "       [ 2.70232753,  2.0745961 ],\n",
       "       [ 0.00790855, -0.01839761],\n",
       "       [-0.40532532, -0.26233231],\n",
       "       [-0.83811463,  0.91788479],\n",
       "       [-0.82488851, -1.10996033],\n",
       "       [ 0.22048907, -0.50725251],\n",
       "       [ 0.38690793, -0.8358334 ],\n",
       "       [-0.60811127,  0.61543577],\n",
       "       [-0.83490818,  1.40908893],\n",
       "       [-0.61248032,  2.70858859],\n",
       "       [-0.80206351,  0.8784866 ],\n",
       "       [-0.84096804, -0.11618286],\n",
       "       [ 2.50005491, -1.13237767],\n",
       "       [-0.43643303, -0.20903794],\n",
       "       [-0.83121607, -0.81745733],\n",
       "       [-0.5741826 ,  0.12089978],\n",
       "       [-0.79928099, -1.14595894],\n",
       "       [-0.65996813, -0.16683846],\n",
       "       [ 0.25406095, -1.10025629],\n",
       "       [-0.10603571,  0.44996089],\n",
       "       [ 2.65288162,  0.38097314],\n",
       "       [-0.49452242,  0.49548242],\n",
       "       [-0.12644359,  2.52419802],\n",
       "       [ 1.29415467, -0.96341462],\n",
       "       [ 1.52082829, -0.34413634],\n",
       "       [-0.11102514, -0.65388408],\n",
       "       [-0.19681539, -0.54416989],\n",
       "       [ 0.87842088, -1.04725132],\n",
       "       [-0.66617956, -0.45092678],\n",
       "       [ 0.09929104, -0.06584134],\n",
       "       [ 0.14225446, -1.07390312],\n",
       "       [ 0.99902287, -0.40631743],\n",
       "       [-0.57666868, -1.08373985],\n",
       "       [-0.595947  , -1.11865566],\n",
       "       [-0.841406  , -1.10463151],\n",
       "       [-0.04919949,  0.65368592],\n",
       "       [-0.59763896,  0.28276109],\n",
       "       [ 0.31955816, -0.83772662],\n",
       "       [-0.16697895, -0.59039528],\n",
       "       [-0.51795038,  0.75844106],\n",
       "       [ 0.6190165 , -0.85950825],\n",
       "       [-0.58888195, -1.11250442],\n",
       "       [ 1.11199256,  0.05089808],\n",
       "       [ 1.68192216, -0.08147567],\n",
       "       [-0.83840501,  0.37211649],\n",
       "       [-0.64900352, -0.80074634],\n",
       "       [-0.76445493,  1.89255901],\n",
       "       [ 1.40714427,  0.33252413],\n",
       "       [-0.84341292,  1.99911393],\n",
       "       [-0.14483389, -0.42772443],\n",
       "       [-0.75907516, -0.86753232],\n",
       "       [-0.59410941, -1.14487247],\n",
       "       [ 2.75751136, -1.14525681],\n",
       "       [-0.2828844 ,  0.09729509],\n",
       "       [-0.82880912, -0.14855   ],\n",
       "       [-0.51001457, -0.70228228]])"
      ]
     },
     "execution_count": 34,
     "metadata": {},
     "output_type": "execute_result"
    }
   ],
   "source": [
    "(delta_sq - np.mean(delta_sq, axis=0))/np.std(delta_sq, axis=0)"
   ]
  },
  {
   "cell_type": "code",
   "execution_count": 35,
   "metadata": {},
   "outputs": [
    {
     "ename": "ModuleNotFoundError",
     "evalue": "No module named 'neighbors'",
     "output_type": "error",
     "traceback": [
      "\u001b[1;31m---------------------------------------------------------------------------\u001b[0m",
      "\u001b[1;31mModuleNotFoundError\u001b[0m                       Traceback (most recent call last)",
      "Cell \u001b[1;32mIn[35], line 1\u001b[0m\n\u001b[1;32m----> 1\u001b[0m \u001b[39mfrom\u001b[39;00m \u001b[39mneighbors\u001b[39;00m\u001b[39m.\u001b[39;00m\u001b[39m_base\u001b[39;00m \u001b[39mimport\u001b[39;00m NearestNeighbors\n\u001b[0;32m      2\u001b[0m \u001b[39mfrom\u001b[39;00m \u001b[39mneighbors\u001b[39;00m\u001b[39m.\u001b[39;00m\u001b[39mclassifier\u001b[39;00m \u001b[39mimport\u001b[39;00m KNNClassifier\n",
      "\u001b[1;31mModuleNotFoundError\u001b[0m: No module named 'neighbors'"
     ]
    }
   ],
   "source": [
    "from neighbors._base import NearestNeighbors\n",
    "from neighbors.classifier import KNNClassifier"
   ]
  },
  {
   "cell_type": "code",
   "execution_count": null,
   "metadata": {},
   "outputs": [],
   "source": [
    "knn = KNNClassifier()"
   ]
  },
  {
   "cell_type": "code",
   "execution_count": null,
   "metadata": {},
   "outputs": [],
   "source": [
    "def func(x):\n",
    "    if not x:\n",
    "        return\n",
    "    print(\"true\")"
   ]
  },
  {
   "cell_type": "code",
   "execution_count": null,
   "metadata": {},
   "outputs": [],
   "source": [
    "x = func(False)"
   ]
  },
  {
   "cell_type": "code",
   "execution_count": null,
   "metadata": {},
   "outputs": [],
   "source": [
    "knn.fit(delta_sq, choiche)"
   ]
  },
  {
   "cell_type": "code",
   "execution_count": null,
   "metadata": {},
   "outputs": [],
   "source": []
  },
  {
   "cell_type": "code",
   "execution_count": null,
   "metadata": {},
   "outputs": [
    {
     "data": {
      "text/plain": [
       "array([[0],\n",
       "       [0],\n",
       "       [0],\n",
       "       [1],\n",
       "       [1],\n",
       "       [0],\n",
       "       [1],\n",
       "       [1],\n",
       "       [1],\n",
       "       [1],\n",
       "       [0],\n",
       "       [0],\n",
       "       [0],\n",
       "       [1],\n",
       "       [0],\n",
       "       [1],\n",
       "       [1],\n",
       "       [0],\n",
       "       [1],\n",
       "       [0],\n",
       "       [0],\n",
       "       [0],\n",
       "       [1],\n",
       "       [0],\n",
       "       [1],\n",
       "       [1],\n",
       "       [1],\n",
       "       [0],\n",
       "       [0],\n",
       "       [0],\n",
       "       [1],\n",
       "       [0],\n",
       "       [0],\n",
       "       [0],\n",
       "       [0],\n",
       "       [0],\n",
       "       [1],\n",
       "       [0],\n",
       "       [0],\n",
       "       [0],\n",
       "       [1],\n",
       "       [0],\n",
       "       [1],\n",
       "       [1],\n",
       "       [1],\n",
       "       [0],\n",
       "       [0],\n",
       "       [1],\n",
       "       [1],\n",
       "       [1],\n",
       "       [0],\n",
       "       [1],\n",
       "       [1],\n",
       "       [0],\n",
       "       [1],\n",
       "       [0],\n",
       "       [1],\n",
       "       [0],\n",
       "       [0],\n",
       "       [0],\n",
       "       [1],\n",
       "       [0],\n",
       "       [1],\n",
       "       [1],\n",
       "       [1],\n",
       "       [1],\n",
       "       [1],\n",
       "       [0],\n",
       "       [0],\n",
       "       [0],\n",
       "       [0],\n",
       "       [1],\n",
       "       [1],\n",
       "       [1],\n",
       "       [0],\n",
       "       [1],\n",
       "       [1],\n",
       "       [0],\n",
       "       [0],\n",
       "       [0],\n",
       "       [1],\n",
       "       [1],\n",
       "       [0],\n",
       "       [1],\n",
       "       [0],\n",
       "       [0],\n",
       "       [0],\n",
       "       [1],\n",
       "       [0],\n",
       "       [1],\n",
       "       [0],\n",
       "       [0],\n",
       "       [0],\n",
       "       [1],\n",
       "       [1],\n",
       "       [1],\n",
       "       [0],\n",
       "       [1],\n",
       "       [0],\n",
       "       [0]])"
      ]
     },
     "execution_count": 171,
     "metadata": {},
     "output_type": "execute_result"
    }
   ],
   "source": [
    "knn._output_data"
   ]
  },
  {
   "cell_type": "code",
   "execution_count": null,
   "metadata": {},
   "outputs": [],
   "source": [
    "test = np.array([[ 1.51676512, -2.47909951],\n",
    "       [ 4.92804763, -2.95066551],\n",
    "       [ 2.25077705,  0.92468329],\n",
    "       [ 1.25077705,  0.92468329]\n",
    "       ])"
   ]
  },
  {
   "cell_type": "code",
   "execution_count": null,
   "metadata": {},
   "outputs": [
    {
     "data": {
      "text/plain": [
       "(2,)"
      ]
     },
     "execution_count": 173,
     "metadata": {},
     "output_type": "execute_result"
    }
   ],
   "source": [
    "test[0].shape"
   ]
  },
  {
   "cell_type": "code",
   "execution_count": null,
   "metadata": {},
   "outputs": [
    {
     "name": "stdout",
     "output_type": "stream",
     "text": [
      "[1.]\n",
      "[1. 1.]\n",
      "[1. 1. 0.]\n",
      "[1. 1. 0. 0.]\n"
     ]
    },
    {
     "data": {
      "text/plain": [
       "array([1., 1., 0., 0.])"
      ]
     },
     "execution_count": 174,
     "metadata": {},
     "output_type": "execute_result"
    }
   ],
   "source": [
    "knn.predict(test)"
   ]
  },
  {
   "cell_type": "code",
   "execution_count": null,
   "metadata": {},
   "outputs": [
    {
     "name": "stdout",
     "output_type": "stream",
     "text": [
      "0\n",
      "1\n"
     ]
    }
   ],
   "source": [
    "for cls in np.unique(knn._output_data):\n",
    "    print(cls)"
   ]
  },
  {
   "cell_type": "code",
   "execution_count": null,
   "metadata": {},
   "outputs": [
    {
     "ename": "TypeError",
     "evalue": "KNNClassifier._predict_proba() got an unexpected keyword argument 'axis'",
     "output_type": "error",
     "traceback": [
      "\u001b[1;31m---------------------------------------------------------------------------\u001b[0m",
      "\u001b[1;31mTypeError\u001b[0m                                 Traceback (most recent call last)",
      "\u001b[1;32mc:\\Users\\Rahman Aziz F\\Desktop\\new\\mlfratch\\test.ipynb Cell 45\u001b[0m in \u001b[0;36m<cell line: 1>\u001b[1;34m()\u001b[0m\n\u001b[1;32m----> <a href='vscode-notebook-cell:/c%3A/Users/Rahman%20Aziz%20F/Desktop/new/mlfratch/test.ipynb#X62sZmlsZQ%3D%3D?line=0'>1</a>\u001b[0m out \u001b[39m=\u001b[39m knn\u001b[39m.\u001b[39;49m_predict_proba(test, axis\u001b[39m=\u001b[39;49m\u001b[39m0\u001b[39;49m)\n",
      "\u001b[1;31mTypeError\u001b[0m: KNNClassifier._predict_proba() got an unexpected keyword argument 'axis'"
     ]
    }
   ],
   "source": [
    "out = knn._predict_proba(test, axis=0)"
   ]
  },
  {
   "cell_type": "code",
   "execution_count": null,
   "metadata": {},
   "outputs": [
    {
     "data": {
      "text/plain": [
       "array([[0.        , 1.        ],\n",
       "       [0.66666667, 0.33333333]])"
      ]
     },
     "execution_count": 74,
     "metadata": {},
     "output_type": "execute_result"
    }
   ],
   "source": [
    "out"
   ]
  },
  {
   "cell_type": "code",
   "execution_count": null,
   "metadata": {},
   "outputs": [
    {
     "data": {
      "text/plain": [
       "0"
      ]
     },
     "execution_count": 81,
     "metadata": {},
     "output_type": "execute_result"
    }
   ],
   "source": [
    "np.argmax(out[1, :])"
   ]
  },
  {
   "cell_type": "code",
   "execution_count": null,
   "metadata": {},
   "outputs": [
    {
     "data": {
      "text/plain": [
       "0.0"
      ]
     },
     "execution_count": 84,
     "metadata": {},
     "output_type": "execute_result"
    }
   ],
   "source": [
    "out[0, np.argmax(out[1, :])]"
   ]
  },
  {
   "cell_type": "code",
   "execution_count": null,
   "metadata": {},
   "outputs": [
    {
     "data": {
      "text/plain": [
       "array([1.])"
      ]
     },
     "execution_count": 73,
     "metadata": {},
     "output_type": "execute_result"
    }
   ],
   "source": [
    "x = np.array([])\n",
    "np.append(x, [1])"
   ]
  },
  {
   "cell_type": "code",
   "execution_count": null,
   "metadata": {},
   "outputs": [
    {
     "ename": "",
     "evalue": "",
     "output_type": "error",
     "traceback": [
      "\u001b[1;31mThe kernel failed to start as a dll could not be loaded.\n",
      "\u001b[1;31mClick <a href='https://aka.ms/kernelFailuresDllLoad'>here</a> for more info."
     ]
    }
   ],
   "source": [
    "pd.DataFrame(out).value_counts(normalize=True).get('yes', 0)"
   ]
  },
  {
   "cell_type": "code",
   "execution_count": null,
   "metadata": {},
   "outputs": [
    {
     "ename": "",
     "evalue": "",
     "output_type": "error",
     "traceback": [
      "\u001b[1;31mThe kernel failed to start as a dll could not be loaded.\n",
      "\u001b[1;31mClick <a href='https://aka.ms/kernelFailuresDllLoad'>here</a> for more info."
     ]
    }
   ],
   "source": [
    "x=np.array(choiche)"
   ]
  },
  {
   "cell_type": "code",
   "execution_count": null,
   "metadata": {},
   "outputs": [
    {
     "ename": "",
     "evalue": "",
     "output_type": "error",
     "traceback": [
      "\u001b[1;31mThe kernel failed to start as a dll could not be loaded.\n",
      "\u001b[1;31mClick <a href='https://aka.ms/kernelFailuresDllLoad'>here</a> for more info."
     ]
    }
   ],
   "source": []
  },
  {
   "cell_type": "code",
   "execution_count": null,
   "metadata": {},
   "outputs": [
    {
     "ename": "",
     "evalue": "",
     "output_type": "error",
     "traceback": [
      "\u001b[1;31mThe kernel failed to start as a dll could not be loaded.\n",
      "\u001b[1;31mClick <a href='https://aka.ms/kernelFailuresDllLoad'>here</a> for more info."
     ]
    }
   ],
   "source": [
    "set(x.tolist())"
   ]
  },
  {
   "cell_type": "code",
   "execution_count": null,
   "metadata": {},
   "outputs": [
    {
     "ename": "",
     "evalue": "",
     "output_type": "error",
     "traceback": [
      "\u001b[1;31mThe kernel failed to start as a dll could not be loaded.\n",
      "\u001b[1;31mClick <a href='https://aka.ms/kernelFailuresDllLoad'>here</a> for more info."
     ]
    }
   ],
   "source": [
    "outt = np.zeros(shape=(2, 3))"
   ]
  },
  {
   "cell_type": "code",
   "execution_count": null,
   "metadata": {},
   "outputs": [
    {
     "ename": "",
     "evalue": "",
     "output_type": "error",
     "traceback": [
      "\u001b[1;31mThe kernel failed to start as a dll could not be loaded.\n",
      "\u001b[1;31mClick <a href='https://aka.ms/kernelFailuresDllLoad'>here</a> for more info."
     ]
    }
   ],
   "source": [
    "outt[0, 0] = 5"
   ]
  },
  {
   "cell_type": "code",
   "execution_count": null,
   "metadata": {},
   "outputs": [
    {
     "ename": "",
     "evalue": "",
     "output_type": "error",
     "traceback": [
      "\u001b[1;31mThe kernel failed to start as a dll could not be loaded.\n",
      "\u001b[1;31mClick <a href='https://aka.ms/kernelFailuresDllLoad'>here</a> for more info."
     ]
    }
   ],
   "source": [
    "outt[0, :]"
   ]
  },
  {
   "cell_type": "code",
   "execution_count": null,
   "metadata": {},
   "outputs": [
    {
     "ename": "",
     "evalue": "",
     "output_type": "error",
     "traceback": [
      "\u001b[1;31mThe kernel failed to start as a dll could not be loaded.\n",
      "\u001b[1;31mClick <a href='https://aka.ms/kernelFailuresDllLoad'>here</a> for more info."
     ]
    }
   ],
   "source": [
    "import hashlib"
   ]
  },
  {
   "cell_type": "code",
   "execution_count": null,
   "metadata": {},
   "outputs": [
    {
     "ename": "",
     "evalue": "",
     "output_type": "error",
     "traceback": [
      "\u001b[1;31mThe kernel failed to start as a dll could not be loaded.\n",
      "\u001b[1;31mClick <a href='https://aka.ms/kernelFailuresDllLoad'>here</a> for more info."
     ]
    }
   ],
   "source": []
  },
  {
   "cell_type": "code",
   "execution_count": null,
   "metadata": {},
   "outputs": [
    {
     "ename": "",
     "evalue": "",
     "output_type": "error",
     "traceback": [
      "\u001b[1;31mThe kernel failed to start as a dll could not be loaded.\n",
      "\u001b[1;31mClick <a href='https://aka.ms/kernelFailuresDllLoad'>here</a> for more info."
     ]
    }
   ],
   "source": [
    "hashlib.sha256(\"hello world\".encode()).hexdigest()"
   ]
  },
  {
   "cell_type": "code",
   "execution_count": null,
   "metadata": {},
   "outputs": [
    {
     "ename": "",
     "evalue": "",
     "output_type": "error",
     "traceback": [
      "\u001b[1;31mThe kernel failed to start as a dll could not be loaded.\n",
      "\u001b[1;31mClick <a href='https://aka.ms/kernelFailuresDllLoad'>here</a> for more info."
     ]
    }
   ],
   "source": [
    "hashlib.sha256(\"hello world-rahmanazizf\".encode()).hexdigest()"
   ]
  },
  {
   "cell_type": "code",
   "execution_count": null,
   "metadata": {},
   "outputs": [
    {
     "ename": "",
     "evalue": "",
     "output_type": "error",
     "traceback": [
      "\u001b[1;31mThe kernel failed to start as a dll could not be loaded.\n",
      "\u001b[1;31mClick <a href='https://aka.ms/kernelFailuresDllLoad'>here</a> for more info."
     ]
    }
   ],
   "source": [
    "rd.choices(asc)"
   ]
  },
  {
   "cell_type": "code",
   "execution_count": null,
   "metadata": {},
   "outputs": [
    {
     "ename": "",
     "evalue": "",
     "output_type": "error",
     "traceback": [
      "\u001b[1;31mThe kernel failed to start as a dll could not be loaded.\n",
      "\u001b[1;31mClick <a href='https://aka.ms/kernelFailuresDllLoad'>here</a> for more info."
     ]
    }
   ],
   "source": [
    "import string"
   ]
  },
  {
   "cell_type": "code",
   "execution_count": null,
   "metadata": {},
   "outputs": [
    {
     "ename": "",
     "evalue": "",
     "output_type": "error",
     "traceback": [
      "\u001b[1;31mThe kernel failed to start as a dll could not be loaded.\n",
      "\u001b[1;31mClick <a href='https://aka.ms/kernelFailuresDllLoad'>here</a> for more info."
     ]
    }
   ],
   "source": [
    "string.ascii_letters"
   ]
  },
  {
   "cell_type": "code",
   "execution_count": null,
   "metadata": {},
   "outputs": [
    {
     "ename": "",
     "evalue": "",
     "output_type": "error",
     "traceback": [
      "\u001b[1;31mThe kernel failed to start as a dll could not be loaded.\n",
      "\u001b[1;31mClick <a href='https://aka.ms/kernelFailuresDllLoad'>here</a> for more info."
     ]
    }
   ],
   "source": [
    "string.digits"
   ]
  },
  {
   "cell_type": "code",
   "execution_count": null,
   "metadata": {},
   "outputs": [
    {
     "ename": "",
     "evalue": "",
     "output_type": "error",
     "traceback": [
      "\u001b[1;31mThe kernel failed to start as a dll could not be loaded.\n",
      "\u001b[1;31mClick <a href='https://aka.ms/kernelFailuresDllLoad'>here</a> for more info."
     ]
    }
   ],
   "source": [
    "\"\".join(rd.choices(string.ascii_letters+string.digits, k=5))"
   ]
  },
  {
   "cell_type": "code",
   "execution_count": 1,
   "metadata": {},
   "outputs": [],
   "source": [
    "import pandas as pd\n",
    "import numpy as np"
   ]
  },
  {
   "cell_type": "code",
   "execution_count": 2,
   "metadata": {},
   "outputs": [],
   "source": [
    "from sklearn.preprocessing import LabelEncoder"
   ]
  },
  {
   "cell_type": "code",
   "execution_count": 3,
   "metadata": {},
   "outputs": [
    {
     "data": {
      "text/html": [
       "<style>#sk-container-id-1 {color: black;}#sk-container-id-1 pre{padding: 0;}#sk-container-id-1 div.sk-toggleable {background-color: white;}#sk-container-id-1 label.sk-toggleable__label {cursor: pointer;display: block;width: 100%;margin-bottom: 0;padding: 0.3em;box-sizing: border-box;text-align: center;}#sk-container-id-1 label.sk-toggleable__label-arrow:before {content: \"▸\";float: left;margin-right: 0.25em;color: #696969;}#sk-container-id-1 label.sk-toggleable__label-arrow:hover:before {color: black;}#sk-container-id-1 div.sk-estimator:hover label.sk-toggleable__label-arrow:before {color: black;}#sk-container-id-1 div.sk-toggleable__content {max-height: 0;max-width: 0;overflow: hidden;text-align: left;background-color: #f0f8ff;}#sk-container-id-1 div.sk-toggleable__content pre {margin: 0.2em;color: black;border-radius: 0.25em;background-color: #f0f8ff;}#sk-container-id-1 input.sk-toggleable__control:checked~div.sk-toggleable__content {max-height: 200px;max-width: 100%;overflow: auto;}#sk-container-id-1 input.sk-toggleable__control:checked~label.sk-toggleable__label-arrow:before {content: \"▾\";}#sk-container-id-1 div.sk-estimator input.sk-toggleable__control:checked~label.sk-toggleable__label {background-color: #d4ebff;}#sk-container-id-1 div.sk-label input.sk-toggleable__control:checked~label.sk-toggleable__label {background-color: #d4ebff;}#sk-container-id-1 input.sk-hidden--visually {border: 0;clip: rect(1px 1px 1px 1px);clip: rect(1px, 1px, 1px, 1px);height: 1px;margin: -1px;overflow: hidden;padding: 0;position: absolute;width: 1px;}#sk-container-id-1 div.sk-estimator {font-family: monospace;background-color: #f0f8ff;border: 1px dotted black;border-radius: 0.25em;box-sizing: border-box;margin-bottom: 0.5em;}#sk-container-id-1 div.sk-estimator:hover {background-color: #d4ebff;}#sk-container-id-1 div.sk-parallel-item::after {content: \"\";width: 100%;border-bottom: 1px solid gray;flex-grow: 1;}#sk-container-id-1 div.sk-label:hover label.sk-toggleable__label {background-color: #d4ebff;}#sk-container-id-1 div.sk-serial::before {content: \"\";position: absolute;border-left: 1px solid gray;box-sizing: border-box;top: 0;bottom: 0;left: 50%;z-index: 0;}#sk-container-id-1 div.sk-serial {display: flex;flex-direction: column;align-items: center;background-color: white;padding-right: 0.2em;padding-left: 0.2em;position: relative;}#sk-container-id-1 div.sk-item {position: relative;z-index: 1;}#sk-container-id-1 div.sk-parallel {display: flex;align-items: stretch;justify-content: center;background-color: white;position: relative;}#sk-container-id-1 div.sk-item::before, #sk-container-id-1 div.sk-parallel-item::before {content: \"\";position: absolute;border-left: 1px solid gray;box-sizing: border-box;top: 0;bottom: 0;left: 50%;z-index: -1;}#sk-container-id-1 div.sk-parallel-item {display: flex;flex-direction: column;z-index: 1;position: relative;background-color: white;}#sk-container-id-1 div.sk-parallel-item:first-child::after {align-self: flex-end;width: 50%;}#sk-container-id-1 div.sk-parallel-item:last-child::after {align-self: flex-start;width: 50%;}#sk-container-id-1 div.sk-parallel-item:only-child::after {width: 0;}#sk-container-id-1 div.sk-dashed-wrapped {border: 1px dashed gray;margin: 0 0.4em 0.5em 0.4em;box-sizing: border-box;padding-bottom: 0.4em;background-color: white;}#sk-container-id-1 div.sk-label label {font-family: monospace;font-weight: bold;display: inline-block;line-height: 1.2em;}#sk-container-id-1 div.sk-label-container {text-align: center;}#sk-container-id-1 div.sk-container {/* jupyter's `normalize.less` sets `[hidden] { display: none; }` but bootstrap.min.css set `[hidden] { display: none !important; }` so we also need the `!important` here to be able to override the default hidden behavior on the sphinx rendered scikit-learn.org. See: https://github.com/scikit-learn/scikit-learn/issues/21755 */display: inline-block !important;position: relative;}#sk-container-id-1 div.sk-text-repr-fallback {display: none;}</style><div id=\"sk-container-id-1\" class=\"sk-top-container\"><div class=\"sk-text-repr-fallback\"><pre>LabelEncoder()</pre><b>In a Jupyter environment, please rerun this cell to show the HTML representation or trust the notebook. <br />On GitHub, the HTML representation is unable to render, please try loading this page with nbviewer.org.</b></div><div class=\"sk-container\" hidden><div class=\"sk-item\"><div class=\"sk-estimator sk-toggleable\"><input class=\"sk-toggleable__control sk-hidden--visually\" id=\"sk-estimator-id-1\" type=\"checkbox\" checked><label for=\"sk-estimator-id-1\" class=\"sk-toggleable__label sk-toggleable__label-arrow\">LabelEncoder</label><div class=\"sk-toggleable__content\"><pre>LabelEncoder()</pre></div></div></div></div></div>"
      ],
      "text/plain": [
       "LabelEncoder()"
      ]
     },
     "execution_count": 3,
     "metadata": {},
     "output_type": "execute_result"
    }
   ],
   "source": [
    "LabelEncoder()"
   ]
  },
  {
   "cell_type": "code",
   "execution_count": 4,
   "metadata": {},
   "outputs": [
    {
     "data": {
      "text/html": [
       "<div>\n",
       "<style scoped>\n",
       "    .dataframe tbody tr th:only-of-type {\n",
       "        vertical-align: middle;\n",
       "    }\n",
       "\n",
       "    .dataframe tbody tr th {\n",
       "        vertical-align: top;\n",
       "    }\n",
       "\n",
       "    .dataframe thead th {\n",
       "        text-align: right;\n",
       "    }\n",
       "</style>\n",
       "<table border=\"1\" class=\"dataframe\">\n",
       "  <thead>\n",
       "    <tr style=\"text-align: right;\">\n",
       "      <th></th>\n",
       "      <th>SepalLengthCm</th>\n",
       "      <th>SepalWidthCm</th>\n",
       "      <th>PetalLengthCm</th>\n",
       "      <th>PetalWidthCm</th>\n",
       "      <th>Species</th>\n",
       "    </tr>\n",
       "  </thead>\n",
       "  <tbody>\n",
       "    <tr>\n",
       "      <th>0</th>\n",
       "      <td>5.1</td>\n",
       "      <td>3.5</td>\n",
       "      <td>1.4</td>\n",
       "      <td>0.2</td>\n",
       "      <td>Iris-setosa</td>\n",
       "    </tr>\n",
       "    <tr>\n",
       "      <th>1</th>\n",
       "      <td>4.9</td>\n",
       "      <td>3.0</td>\n",
       "      <td>1.4</td>\n",
       "      <td>0.2</td>\n",
       "      <td>Iris-setosa</td>\n",
       "    </tr>\n",
       "    <tr>\n",
       "      <th>2</th>\n",
       "      <td>4.7</td>\n",
       "      <td>3.2</td>\n",
       "      <td>1.3</td>\n",
       "      <td>0.2</td>\n",
       "      <td>Iris-setosa</td>\n",
       "    </tr>\n",
       "    <tr>\n",
       "      <th>3</th>\n",
       "      <td>4.6</td>\n",
       "      <td>3.1</td>\n",
       "      <td>1.5</td>\n",
       "      <td>0.2</td>\n",
       "      <td>Iris-setosa</td>\n",
       "    </tr>\n",
       "    <tr>\n",
       "      <th>4</th>\n",
       "      <td>5.0</td>\n",
       "      <td>3.6</td>\n",
       "      <td>1.4</td>\n",
       "      <td>0.2</td>\n",
       "      <td>Iris-setosa</td>\n",
       "    </tr>\n",
       "  </tbody>\n",
       "</table>\n",
       "</div>"
      ],
      "text/plain": [
       "   SepalLengthCm  SepalWidthCm  PetalLengthCm  PetalWidthCm      Species\n",
       "0            5.1           3.5            1.4           0.2  Iris-setosa\n",
       "1            4.9           3.0            1.4           0.2  Iris-setosa\n",
       "2            4.7           3.2            1.3           0.2  Iris-setosa\n",
       "3            4.6           3.1            1.5           0.2  Iris-setosa\n",
       "4            5.0           3.6            1.4           0.2  Iris-setosa"
      ]
     },
     "execution_count": 4,
     "metadata": {},
     "output_type": "execute_result"
    }
   ],
   "source": [
    "data = pd.read_csv(\"Iris.csv\").drop('Id', axis=1)\n",
    "data.head()"
   ]
  },
  {
   "cell_type": "code",
   "execution_count": 5,
   "metadata": {},
   "outputs": [],
   "source": [
    "from ml_from_scratch.neighbors import KNNClassifier"
   ]
  },
  {
   "cell_type": "code",
   "execution_count": 6,
   "metadata": {},
   "outputs": [],
   "source": [
    "clf = KNNClassifier(k=5)"
   ]
  },
  {
   "cell_type": "code",
   "execution_count": 7,
   "metadata": {},
   "outputs": [],
   "source": [
    "from sklearn.model_selection import train_test_split"
   ]
  },
  {
   "cell_type": "code",
   "execution_count": 8,
   "metadata": {},
   "outputs": [],
   "source": [
    "y = data.loc[:, ['Species']]\n",
    "X = data.iloc[:, :-1]"
   ]
  },
  {
   "cell_type": "code",
   "execution_count": 9,
   "metadata": {},
   "outputs": [
    {
     "data": {
      "text/plain": [
       "(150,)"
      ]
     },
     "execution_count": 9,
     "metadata": {},
     "output_type": "execute_result"
    }
   ],
   "source": [
    "np.array(y).reshape(len(y),).shape"
   ]
  },
  {
   "cell_type": "code",
   "execution_count": 10,
   "metadata": {},
   "outputs": [
    {
     "data": {
      "text/plain": [
       "array([0, 0, 0, 0, 0, 0, 0, 0, 0, 0, 0, 0, 0, 0, 0, 0, 0, 0, 0, 0, 0, 0,\n",
       "       0, 0, 0, 0, 0, 0, 0, 0, 0, 0, 0, 0, 0, 0, 0, 0, 0, 0, 0, 0, 0, 0,\n",
       "       0, 0, 0, 0, 0, 0, 1, 1, 1, 1, 1, 1, 1, 1, 1, 1, 1, 1, 1, 1, 1, 1,\n",
       "       1, 1, 1, 1, 1, 1, 1, 1, 1, 1, 1, 1, 1, 1, 1, 1, 1, 1, 1, 1, 1, 1,\n",
       "       1, 1, 1, 1, 1, 1, 1, 1, 1, 1, 1, 1, 2, 2, 2, 2, 2, 2, 2, 2, 2, 2,\n",
       "       2, 2, 2, 2, 2, 2, 2, 2, 2, 2, 2, 2, 2, 2, 2, 2, 2, 2, 2, 2, 2, 2,\n",
       "       2, 2, 2, 2, 2, 2, 2, 2, 2, 2, 2, 2, 2, 2, 2, 2, 2, 2])"
      ]
     },
     "execution_count": 10,
     "metadata": {},
     "output_type": "execute_result"
    }
   ],
   "source": [
    "le = LabelEncoder()\n",
    "y_enc = le.fit_transform(np.array(y).reshape(len(y),))\n",
    "y_enc"
   ]
  },
  {
   "cell_type": "code",
   "execution_count": 11,
   "metadata": {},
   "outputs": [],
   "source": [
    "X_train, X_test, y_train, y_test = train_test_split(X, y_enc, test_size=0.2, random_state=42, stratify=y_enc)"
   ]
  },
  {
   "cell_type": "code",
   "execution_count": 12,
   "metadata": {},
   "outputs": [],
   "source": [
    "clf.fit(X_train, y_train)"
   ]
  },
  {
   "cell_type": "code",
   "execution_count": 13,
   "metadata": {},
   "outputs": [
    {
     "data": {
      "text/plain": [
       "3"
      ]
     },
     "execution_count": 13,
     "metadata": {},
     "output_type": "execute_result"
    }
   ],
   "source": [
    "len(np.unique(y_test))"
   ]
  },
  {
   "cell_type": "code",
   "execution_count": 14,
   "metadata": {},
   "outputs": [
    {
     "name": "stdout",
     "output_type": "stream",
     "text": [
      "[[0. 0. 0.]\n",
      " [0. 0. 0.]]\n",
      "neighbor_proba [[ 0.  1.  2.]\n",
      " [nan nan  1.]]\n",
      "[[0. 0. 0.]\n",
      " [0. 0. 0.]]\n",
      "neighbor_proba [[ 0.  1.  2.]\n",
      " [nan nan  1.]]\n",
      "[[0. 0. 0.]\n",
      " [0. 0. 0.]]\n",
      "neighbor_proba [[ 0.  1.  2.]\n",
      " [nan nan  1.]]\n",
      "[[0. 0. 0.]\n",
      " [0. 0. 0.]]\n",
      "neighbor_proba [[ 0.  1.  2.]\n",
      " [nan nan  1.]]\n",
      "[[0. 0. 0.]\n",
      " [0. 0. 0.]]\n",
      "neighbor_proba [[ 0.  1.  2.]\n",
      " [nan nan  1.]]\n",
      "[[0. 0. 0.]\n",
      " [0. 0. 0.]]\n",
      "neighbor_proba [[ 0.  1.  2.]\n",
      " [nan nan  1.]]\n",
      "[[0. 0. 0.]\n",
      " [0. 0. 0.]]\n",
      "neighbor_proba [[ 0.  1.  2.]\n",
      " [nan nan  1.]]\n",
      "[[0. 0. 0.]\n",
      " [0. 0. 0.]]\n",
      "neighbor_proba [[ 0.  1.  2.]\n",
      " [nan nan  1.]]\n",
      "[[0. 0. 0.]\n",
      " [0. 0. 0.]]\n",
      "neighbor_proba [[ 0.  1.  2.]\n",
      " [nan nan  1.]]\n",
      "[[0. 0. 0.]\n",
      " [0. 0. 0.]]\n",
      "neighbor_proba [[ 0.  1.  2.]\n",
      " [nan nan  1.]]\n",
      "[[0. 0. 0.]\n",
      " [0. 0. 0.]]\n",
      "neighbor_proba [[ 0.  1.  2.]\n",
      " [nan nan  1.]]\n",
      "[[0. 0. 0.]\n",
      " [0. 0. 0.]]\n",
      "neighbor_proba [[ 0.  1.  2.]\n",
      " [nan nan  1.]]\n",
      "[[0. 0. 0.]\n",
      " [0. 0. 0.]]\n",
      "neighbor_proba [[ 0.  1.  2.]\n",
      " [nan nan  1.]]\n",
      "[[0. 0. 0.]\n",
      " [0. 0. 0.]]\n",
      "neighbor_proba [[ 0.  1.  2.]\n",
      " [nan nan  1.]]\n",
      "[[0. 0. 0.]\n",
      " [0. 0. 0.]]\n",
      "neighbor_proba [[ 0.  1.  2.]\n",
      " [nan nan  1.]]\n",
      "[[0. 0. 0.]\n",
      " [0. 0. 0.]]\n",
      "neighbor_proba [[ 0.  1.  2.]\n",
      " [nan nan  1.]]\n",
      "[[0. 0. 0.]\n",
      " [0. 0. 0.]]\n",
      "neighbor_proba [[ 0.  1.  2.]\n",
      " [nan nan  1.]]\n",
      "[[0. 0. 0.]\n",
      " [0. 0. 0.]]\n",
      "neighbor_proba [[ 0.  1.  2.]\n",
      " [nan nan  1.]]\n",
      "[[0. 0. 0.]\n",
      " [0. 0. 0.]]\n",
      "neighbor_proba [[ 0.  1.  2.]\n",
      " [nan nan  1.]]\n",
      "[[0. 0. 0.]\n",
      " [0. 0. 0.]]\n",
      "neighbor_proba [[ 0.  1.  2.]\n",
      " [nan nan  1.]]\n",
      "[[0. 0. 0.]\n",
      " [0. 0. 0.]]\n",
      "neighbor_proba [[ 0.  1.  2.]\n",
      " [nan nan  1.]]\n",
      "[[0. 0. 0.]\n",
      " [0. 0. 0.]]\n",
      "neighbor_proba [[ 0.  1.  2.]\n",
      " [nan nan  1.]]\n",
      "[[0. 0. 0.]\n",
      " [0. 0. 0.]]\n",
      "neighbor_proba [[ 0.  1.  2.]\n",
      " [nan nan  1.]]\n",
      "[[0. 0. 0.]\n",
      " [0. 0. 0.]]\n",
      "neighbor_proba [[ 0.  1.  2.]\n",
      " [nan nan  1.]]\n",
      "[[0. 0. 0.]\n",
      " [0. 0. 0.]]\n",
      "neighbor_proba [[ 0.  1.  2.]\n",
      " [nan nan  1.]]\n",
      "[[0. 0. 0.]\n",
      " [0. 0. 0.]]\n",
      "neighbor_proba [[ 0.  1.  2.]\n",
      " [nan nan  1.]]\n",
      "[[0. 0. 0.]\n",
      " [0. 0. 0.]]\n",
      "neighbor_proba [[ 0.  1.  2.]\n",
      " [nan nan  1.]]\n",
      "[[0. 0. 0.]\n",
      " [0. 0. 0.]]\n",
      "neighbor_proba [[ 0.  1.  2.]\n",
      " [nan nan  1.]]\n",
      "[[0. 0. 0.]\n",
      " [0. 0. 0.]]\n",
      "neighbor_proba [[ 0.  1.  2.]\n",
      " [nan nan  1.]]\n",
      "[[0. 0. 0.]\n",
      " [0. 0. 0.]]\n",
      "neighbor_proba [[ 0.  1.  2.]\n",
      " [nan nan  1.]]\n"
     ]
    }
   ],
   "source": [
    "y_pred = clf.predict(X_test)"
   ]
  },
  {
   "cell_type": "code",
   "execution_count": 15,
   "metadata": {},
   "outputs": [],
   "source": [
    "y_ori = le.inverse_transform(y_pred.astype(int))"
   ]
  },
  {
   "cell_type": "code",
   "execution_count": 16,
   "metadata": {},
   "outputs": [
    {
     "data": {
      "text/plain": [
       "array([], dtype=float64)"
      ]
     },
     "execution_count": 16,
     "metadata": {},
     "output_type": "execute_result"
    }
   ],
   "source": [
    "y_ori"
   ]
  },
  {
   "cell_type": "code",
   "execution_count": 17,
   "metadata": {},
   "outputs": [
    {
     "data": {
      "text/plain": [
       "array(['Iris-setosa', 'Iris-virginica', 'Iris-versicolor',\n",
       "       'Iris-versicolor', 'Iris-setosa', 'Iris-versicolor', 'Iris-setosa',\n",
       "       'Iris-setosa', 'Iris-virginica', 'Iris-versicolor',\n",
       "       'Iris-virginica', 'Iris-virginica', 'Iris-virginica',\n",
       "       'Iris-versicolor', 'Iris-setosa', 'Iris-setosa', 'Iris-setosa',\n",
       "       'Iris-versicolor', 'Iris-versicolor', 'Iris-virginica',\n",
       "       'Iris-setosa', 'Iris-virginica', 'Iris-versicolor',\n",
       "       'Iris-virginica', 'Iris-virginica', 'Iris-versicolor',\n",
       "       'Iris-versicolor', 'Iris-setosa', 'Iris-virginica', 'Iris-setosa'],\n",
       "      dtype=object)"
      ]
     },
     "execution_count": 17,
     "metadata": {},
     "output_type": "execute_result"
    }
   ],
   "source": [
    "y_act = le.inverse_transform(np.array(y_test))\n",
    "y_act"
   ]
  }
 ],
 "metadata": {
  "kernelspec": {
   "display_name": "Python 3",
   "language": "python",
   "name": "python3"
  },
  "language_info": {
   "codemirror_mode": {
    "name": "ipython",
    "version": 3
   },
   "file_extension": ".py",
   "mimetype": "text/x-python",
   "name": "python",
   "nbconvert_exporter": "python",
   "pygments_lexer": "ipython3",
   "version": "3.11.3"
  },
  "orig_nbformat": 4
 },
 "nbformat": 4,
 "nbformat_minor": 2
}
