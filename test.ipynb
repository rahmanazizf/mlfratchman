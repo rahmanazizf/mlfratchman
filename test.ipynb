{
 "cells": [
  {
   "cell_type": "code",
   "execution_count": 1,
   "metadata": {},
   "outputs": [],
   "source": [
    "import numpy as np\n",
    "import pandas as pd"
   ]
  },
  {
   "cell_type": "code",
   "execution_count": 2,
   "metadata": {},
   "outputs": [],
   "source": [
    "import random as rd"
   ]
  },
  {
   "cell_type": "code",
   "execution_count": 3,
   "metadata": {},
   "outputs": [],
   "source": [
    "kolom_1 = [rd.random()*10 + 5 for i in range(100)]"
   ]
  },
  {
   "cell_type": "code",
   "execution_count": 4,
   "metadata": {},
   "outputs": [
    {
     "data": {
      "text/plain": [
       "[12.399825898868553,\n",
       " 6.0088662891535884,\n",
       " 13.924090454381307,\n",
       " 6.12545385739411,\n",
       " 5.394543214513793,\n",
       " 8.07376291525801,\n",
       " 14.936450298756535,\n",
       " 8.83895822053605,\n",
       " 12.677657598483759,\n",
       " 8.82779225514658,\n",
       " 14.593056697837469,\n",
       " 11.49982559642158,\n",
       " 5.553573494158006,\n",
       " 8.13963287694223,\n",
       " 7.642912609993651,\n",
       " 11.728080400949928,\n",
       " 8.230659533590838,\n",
       " 14.230001936174638,\n",
       " 13.686408031079853,\n",
       " 8.701207232050763,\n",
       " 9.056383396853686,\n",
       " 9.293826061110222,\n",
       " 14.978931677155815,\n",
       " 13.434923806569811,\n",
       " 10.529274680982905,\n",
       " 13.341375276172533,\n",
       " 9.9785536047534,\n",
       " 9.884643837121088,\n",
       " 10.96397847616393,\n",
       " 14.422218765143697,\n",
       " 14.815563680294835,\n",
       " 10.979014518648441,\n",
       " 9.307265674512653,\n",
       " 14.161446926373612,\n",
       " 9.643675542508985,\n",
       " 13.983855127570022,\n",
       " 11.91435519005267,\n",
       " 7.116155729058052,\n",
       " 6.39799968294616,\n",
       " 12.690908352316308,\n",
       " 5.1301099689614045,\n",
       " 8.992335619383201,\n",
       " 7.473544191534418,\n",
       " 5.804058361322516,\n",
       " 8.227963988966511,\n",
       " 7.038387581410435,\n",
       " 14.446188900949583,\n",
       " 11.392269726306145,\n",
       " 8.461532081261932,\n",
       " 13.641554721957835,\n",
       " 12.710070928840366,\n",
       " 14.289740117976095,\n",
       " 10.280307352140387,\n",
       " 9.66412590388547,\n",
       " 13.479030191431638,\n",
       " 7.192564048949153,\n",
       " 14.763420633531553,\n",
       " 9.53484724874198,\n",
       " 8.177866194321103,\n",
       " 14.330266286372806,\n",
       " 11.795264970033204,\n",
       " 12.530795344708768,\n",
       " 13.68049630869039,\n",
       " 8.763100470832354,\n",
       " 13.499536624713201,\n",
       " 5.4790930657470085,\n",
       " 8.813486917978263,\n",
       " 10.547878047989673,\n",
       " 11.903669851574858,\n",
       " 7.208854241289492,\n",
       " 12.321739652791607,\n",
       " 12.422420354764078,\n",
       " 5.521466566997484,\n",
       " 7.34217003832379,\n",
       " 11.299922341018412,\n",
       " 5.679637973783511,\n",
       " 12.604859925136264,\n",
       " 8.20581161644828,\n",
       " 13.511757774072688,\n",
       " 14.748828897308002,\n",
       " 10.695367696683855,\n",
       " 9.568149006622168,\n",
       " 7.286958308289875,\n",
       " 9.869497026036331,\n",
       " 7.077403604445383,\n",
       " 8.782697400194426,\n",
       " 7.090171648577314,\n",
       " 9.444470374219794,\n",
       " 9.761952834670815,\n",
       " 14.588388494090893,\n",
       " 14.976371326127293,\n",
       " 11.223797902158774,\n",
       " 5.424837565205368,\n",
       " 11.158256480566516,\n",
       " 13.069715153505543,\n",
       " 12.984602735982333,\n",
       " 6.6292374272407795,\n",
       " 9.326087352804876,\n",
       " 12.718474294938307,\n",
       " 8.040134748762434]"
      ]
     },
     "execution_count": 4,
     "metadata": {},
     "output_type": "execute_result"
    }
   ],
   "source": [
    "kolom_1"
   ]
  },
  {
   "cell_type": "code",
   "execution_count": 5,
   "metadata": {},
   "outputs": [
    {
     "data": {
      "text/plain": [
       "[10.875221820696435,\n",
       " 9.061271080642086,\n",
       " 12.824716742005045,\n",
       " 7.51682657623698,\n",
       " 9.35903197806233,\n",
       " 6.868964411548717,\n",
       " 10.117609159790735,\n",
       " 9.033505312778392,\n",
       " 11.59924912022834,\n",
       " 13.397101923115178,\n",
       " 12.999749885007194,\n",
       " 10.717276852897372,\n",
       " 5.117922528044013,\n",
       " 5.123104633456496,\n",
       " 6.152536146690027,\n",
       " 10.474565788577522,\n",
       " 11.653979775488114,\n",
       " 6.641894840286411,\n",
       " 9.32536677546492,\n",
       " 5.631558453600691,\n",
       " 5.279637253080212,\n",
       " 5.439750504130063,\n",
       " 10.838858364258774,\n",
       " 6.348267791482744,\n",
       " 10.663752945267222,\n",
       " 8.181280150278454,\n",
       " 12.013483205861554,\n",
       " 8.975459854887312,\n",
       " 12.173520946798746,\n",
       " 7.19678171930507,\n",
       " 7.706031362666513,\n",
       " 14.192053943600783,\n",
       " 5.182029809531292,\n",
       " 11.66975251148492,\n",
       " 9.764777293585238,\n",
       " 7.6817366997122996,\n",
       " 7.733507215640222,\n",
       " 5.558027994685627,\n",
       " 12.695125441951776,\n",
       " 5.489425432072793,\n",
       " 9.40367711879716,\n",
       " 12.77444834034318,\n",
       " 12.571236343926149,\n",
       " 11.184786801821126,\n",
       " 6.680446008949734,\n",
       " 9.474829345054582,\n",
       " 12.941485946832353,\n",
       " 13.902303676488192,\n",
       " 10.385816391751229,\n",
       " 8.998051757429813,\n",
       " 7.19212984236314,\n",
       " 8.846329745608745,\n",
       " 9.400265969866602,\n",
       " 10.251442218565252,\n",
       " 7.950855344157988,\n",
       " 9.939364205411387,\n",
       " 7.450370075949385,\n",
       " 7.961935375505417,\n",
       " 14.81562541123023,\n",
       " 11.39061692617203,\n",
       " 14.97798811693205,\n",
       " 5.824363901660643,\n",
       " 7.439689669276914,\n",
       " 5.87218115073505,\n",
       " 10.063302284054632,\n",
       " 5.8180152308003,\n",
       " 8.822105926885342,\n",
       " 10.470867569947465,\n",
       " 5.5723623130356685,\n",
       " 13.411471749678974,\n",
       " 8.875819509983735,\n",
       " 12.302618063954629,\n",
       " 10.055754457843445,\n",
       " 11.062067885965785,\n",
       " 13.78800278365966,\n",
       " 14.783384777339325,\n",
       " 5.126079418522165,\n",
       " 8.678555739827088,\n",
       " 10.458597777125815,\n",
       " 7.694982245198623,\n",
       " 13.594213852625913,\n",
       " 9.647202965219916,\n",
       " 5.4744066118352395,\n",
       " 12.350118363646985,\n",
       " 12.678150142478877,\n",
       " 11.398158127628525,\n",
       " 11.754687093990851,\n",
       " 10.60390051584164,\n",
       " 14.13355066072233,\n",
       " 11.27181679310731,\n",
       " 10.134156076119337,\n",
       " 12.572983901915272,\n",
       " 12.280813942656167,\n",
       " 14.783964190285174,\n",
       " 14.847800812255693,\n",
       " 14.470159867288865,\n",
       " 9.428067113086083,\n",
       " 6.355250626510296,\n",
       " 9.140972496199597,\n",
       " 14.975189521907744]"
      ]
     },
     "execution_count": 5,
     "metadata": {},
     "output_type": "execute_result"
    }
   ],
   "source": [
    "kolom_2 = [rd.random()*10 + 5 for i in range(100)]\n",
    "kolom_2"
   ]
  },
  {
   "cell_type": "code",
   "execution_count": 6,
   "metadata": {},
   "outputs": [],
   "source": [
    "target = [rd.randint(0, 1) for i in range(100)]"
   ]
  },
  {
   "cell_type": "code",
   "execution_count": 7,
   "metadata": {},
   "outputs": [],
   "source": [
    "dummy = {\n",
    "    'kolom_1': kolom_1,\n",
    "    'kolom_2': kolom_2,\n",
    "    'target': target\n",
    "}"
   ]
  },
  {
   "cell_type": "code",
   "execution_count": 8,
   "metadata": {},
   "outputs": [],
   "source": [
    "data = pd.DataFrame(dummy)"
   ]
  },
  {
   "cell_type": "code",
   "execution_count": 9,
   "metadata": {},
   "outputs": [],
   "source": [
    "test_many = [rd.random()*10+5 for i in range(20)]"
   ]
  },
  {
   "cell_type": "code",
   "execution_count": 10,
   "metadata": {},
   "outputs": [],
   "source": [
    "test = {\n",
    "    'kolom_1': [rd.random()*10 + 5],\n",
    "    'kolom_2': [rd.random()*10 + 5]\n",
    "}"
   ]
  },
  {
   "cell_type": "code",
   "execution_count": 11,
   "metadata": {},
   "outputs": [
    {
     "data": {
      "text/html": [
       "<div>\n",
       "<style scoped>\n",
       "    .dataframe tbody tr th:only-of-type {\n",
       "        vertical-align: middle;\n",
       "    }\n",
       "\n",
       "    .dataframe tbody tr th {\n",
       "        vertical-align: top;\n",
       "    }\n",
       "\n",
       "    .dataframe thead th {\n",
       "        text-align: right;\n",
       "    }\n",
       "</style>\n",
       "<table border=\"1\" class=\"dataframe\">\n",
       "  <thead>\n",
       "    <tr style=\"text-align: right;\">\n",
       "      <th></th>\n",
       "      <th>kolom_1</th>\n",
       "      <th>kolom_2</th>\n",
       "    </tr>\n",
       "  </thead>\n",
       "  <tbody>\n",
       "    <tr>\n",
       "      <th>0</th>\n",
       "      <td>12.758641</td>\n",
       "      <td>11.84918</td>\n",
       "    </tr>\n",
       "  </tbody>\n",
       "</table>\n",
       "</div>"
      ],
      "text/plain": [
       "     kolom_1   kolom_2\n",
       "0  12.758641  11.84918"
      ]
     },
     "execution_count": 11,
     "metadata": {},
     "output_type": "execute_result"
    }
   ],
   "source": [
    "data_test = pd.DataFrame(test)\n",
    "data_test"
   ]
  },
  {
   "cell_type": "code",
   "execution_count": 12,
   "metadata": {},
   "outputs": [],
   "source": [
    "import matplotlib.pyplot as plt"
   ]
  },
  {
   "cell_type": "code",
   "execution_count": 13,
   "metadata": {},
   "outputs": [
    {
     "data": {
      "image/png": "[encoded data removed]",
      "text/plain": [
       "<Figure size 576x432 with 1 Axes>"
      ]
     },
     "metadata": {
      "needs_background": "light"
     },
     "output_type": "display_data"
    }
   ],
   "source": [
    "fig, ax = plt.subplots(1, 1, figsize=(8, 6))\n",
    "ax.scatter(data['kolom_1'][data['target'] == 1], data['kolom_2'][data['target'] == 1], c='b')\n",
    "ax.scatter(data['kolom_1'][data['target'] == 0], data['kolom_2'][data['target'] == 0], c='r')\n",
    "ax.scatter(data_test['kolom_1'], data_test['kolom_2'], marker='x')\n",
    "plt.show()"
   ]
  },
  {
   "cell_type": "code",
   "execution_count": 14,
   "metadata": {},
   "outputs": [],
   "source": [
    "train_arr = np.array(data[['kolom_1', 'kolom_2']])\n",
    "test_arr = np.array(data_test)"
   ]
  },
  {
   "cell_type": "code",
   "execution_count": 15,
   "metadata": {},
   "outputs": [
    {
     "data": {
      "text/plain": [
       "array([[12.3998259 , 10.87522182],\n",
       "       [ 6.00886629,  9.06127108],\n",
       "       [13.92409045, 12.82471674],\n",
       "       [ 6.12545386,  7.51682658],\n",
       "       [ 5.39454321,  9.35903198],\n",
       "       [ 8.07376292,  6.86896441],\n",
       "       [14.9364503 , 10.11760916],\n",
       "       [ 8.83895822,  9.03350531],\n",
       "       [12.6776576 , 11.59924912],\n",
       "       [ 8.82779226, 13.39710192],\n",
       "       [14.5930567 , 12.99974989],\n",
       "       [11.4998256 , 10.71727685],\n",
       "       [ 5.55357349,  5.11792253],\n",
       "       [ 8.13963288,  5.12310463],\n",
       "       [ 7.64291261,  6.15253615],\n",
       "       [11.7280804 , 10.47456579],\n",
       "       [ 8.23065953, 11.65397978],\n",
       "       [14.23000194,  6.64189484],\n",
       "       [13.68640803,  9.32536678],\n",
       "       [ 8.70120723,  5.63155845],\n",
       "       [ 9.0563834 ,  5.27963725],\n",
       "       [ 9.29382606,  5.4397505 ],\n",
       "       [14.97893168, 10.83885836],\n",
       "       [13.43492381,  6.34826779],\n",
       "       [10.52927468, 10.66375295],\n",
       "       [13.34137528,  8.18128015],\n",
       "       [ 9.9785536 , 12.01348321],\n",
       "       [ 9.88464384,  8.97545985],\n",
       "       [10.96397848, 12.17352095],\n",
       "       [14.42221877,  7.19678172],\n",
       "       [14.81556368,  7.70603136],\n",
       "       [10.97901452, 14.19205394],\n",
       "       [ 9.30726567,  5.18202981],\n",
       "       [14.16144693, 11.66975251],\n",
       "       [ 9.64367554,  9.76477729],\n",
       "       [13.98385513,  7.6817367 ],\n",
       "       [11.91435519,  7.73350722],\n",
       "       [ 7.11615573,  5.55802799],\n",
       "       [ 6.39799968, 12.69512544],\n",
       "       [12.69090835,  5.48942543],\n",
       "       [ 5.13010997,  9.40367712],\n",
       "       [ 8.99233562, 12.77444834],\n",
       "       [ 7.47354419, 12.57123634],\n",
       "       [ 5.80405836, 11.1847868 ],\n",
       "       [ 8.22796399,  6.68044601],\n",
       "       [ 7.03838758,  9.47482935],\n",
       "       [14.4461889 , 12.94148595],\n",
       "       [11.39226973, 13.90230368],\n",
       "       [ 8.46153208, 10.38581639],\n",
       "       [13.64155472,  8.99805176],\n",
       "       [12.71007093,  7.19212984],\n",
       "       [14.28974012,  8.84632975],\n",
       "       [10.28030735,  9.40026597],\n",
       "       [ 9.6641259 , 10.25144222],\n",
       "       [13.47903019,  7.95085534],\n",
       "       [ 7.19256405,  9.93936421],\n",
       "       [14.76342063,  7.45037008],\n",
       "       [ 9.53484725,  7.96193538],\n",
       "       [ 8.17786619, 14.81562541],\n",
       "       [14.33026629, 11.39061693],\n",
       "       [11.79526497, 14.97798812],\n",
       "       [12.53079534,  5.8243639 ],\n",
       "       [13.68049631,  7.43968967],\n",
       "       [ 8.76310047,  5.87218115],\n",
       "       [13.49953662, 10.06330228],\n",
       "       [ 5.47909307,  5.81801523],\n",
       "       [ 8.81348692,  8.82210593],\n",
       "       [10.54787805, 10.47086757],\n",
       "       [11.90366985,  5.57236231],\n",
       "       [ 7.20885424, 13.41147175],\n",
       "       [12.32173965,  8.87581951],\n",
       "       [12.42242035, 12.30261806],\n",
       "       [ 5.52146657, 10.05575446],\n",
       "       [ 7.34217004, 11.06206789],\n",
       "       [11.29992234, 13.78800278],\n",
       "       [ 5.67963797, 14.78338478],\n",
       "       [12.60485993,  5.12607942],\n",
       "       [ 8.20581162,  8.67855574],\n",
       "       [13.51175777, 10.45859778],\n",
       "       [14.7488289 ,  7.69498225],\n",
       "       [10.6953677 , 13.59421385],\n",
       "       [ 9.56814901,  9.64720297],\n",
       "       [ 7.28695831,  5.47440661],\n",
       "       [ 9.86949703, 12.35011836],\n",
       "       [ 7.0774036 , 12.67815014],\n",
       "       [ 8.7826974 , 11.39815813],\n",
       "       [ 7.09017165, 11.75468709],\n",
       "       [ 9.44447037, 10.60390052],\n",
       "       [ 9.76195283, 14.13355066],\n",
       "       [14.58838849, 11.27181679],\n",
       "       [14.97637133, 10.13415608],\n",
       "       [11.2237979 , 12.5729839 ],\n",
       "       [ 5.42483757, 12.28081394],\n",
       "       [11.15825648, 14.78396419],\n",
       "       [13.06971515, 14.84780081],\n",
       "       [12.98460274, 14.47015987],\n",
       "       [ 6.62923743,  9.42806711],\n",
       "       [ 9.32608735,  6.35525063],\n",
       "       [12.71847429,  9.1409725 ],\n",
       "       [ 8.04013475, 14.97518952]])"
      ]
     },
     "execution_count": 15,
     "metadata": {},
     "output_type": "execute_result"
    }
   ],
   "source": [
    "train_arr"
   ]
  },
  {
   "cell_type": "code",
   "execution_count": 16,
   "metadata": {},
   "outputs": [
    {
     "data": {
      "text/plain": [
       "array([[12.75864071, 11.84917983]])"
      ]
     },
     "execution_count": 16,
     "metadata": {},
     "output_type": "execute_result"
    }
   ],
   "source": [
    "test_arr"
   ]
  },
  {
   "cell_type": "code",
   "execution_count": 17,
   "metadata": {},
   "outputs": [],
   "source": [
    "delta_sq = (train_arr - test_arr)**2"
   ]
  },
  {
   "cell_type": "code",
   "execution_count": 18,
   "metadata": {},
   "outputs": [
    {
     "data": {
      "text/plain": [
       "array([[1.28748069e-01, 9.48594196e-01],\n",
       "       [4.55594547e+01, 7.77243517e+00],\n",
       "       [1.35827311e+00, 9.51672274e-01],\n",
       "       [4.39991678e+01, 1.87692847e+01],\n",
       "       [5.42299319e+01, 6.20083631e+00],\n",
       "       [2.19480800e+01, 2.48025456e+01],\n",
       "       [4.74285460e+00, 2.99833697e+00],\n",
       "       [1.53639108e+01, 7.92802297e+00],\n",
       "       [6.55826437e-03, 6.24653578e-02],\n",
       "       [1.54515696e+01, 2.39606282e+00],\n",
       "       [3.36508202e+00, 1.32381146e+00],\n",
       "       [1.58461549e+00, 1.28120434e+00],\n",
       "       [5.19129936e+01, 4.53098248e+01],\n",
       "       [2.13352334e+01, 4.52400875e+01],\n",
       "       [2.61706740e+01, 3.24517492e+01],\n",
       "       [1.06205455e+00, 1.88956375e+00],\n",
       "       [2.05026135e+01, 3.81030598e-02],\n",
       "       [2.16490386e+00, 2.71158169e+01],\n",
       "       [8.60752202e-01, 6.36963231e+00],\n",
       "       [1.64627664e+01, 3.86588155e+01],\n",
       "       [1.37067092e+01, 4.31588896e+01],\n",
       "       [1.20049406e+01, 4.10807842e+01],\n",
       "       [4.92969198e+00, 1.02074946e+00],\n",
       "       [4.57358827e-01, 3.02600332e+01],\n",
       "       [4.97007289e+00, 1.40523689e+00],\n",
       "       [3.39579574e-01, 1.34534880e+01],\n",
       "       [7.72888431e+00, 2.69956006e-02],\n",
       "       [8.25985803e+00, 8.25826647e+00],\n",
       "       [3.22081253e+00, 1.05197163e-01],\n",
       "       [2.76749195e+00, 2.16448081e+01],\n",
       "       [4.23093211e+00, 1.71656792e+01],\n",
       "       [3.16706938e+00, 5.48905913e+00],\n",
       "       [1.19119896e+01, 4.44508893e+01],\n",
       "       [1.96786528e+00, 3.21941612e-02],\n",
       "       [9.70300800e+00, 4.34473392e+00],\n",
       "       [1.50115037e+00, 1.73675822e+01],\n",
       "       [7.12818039e-01, 1.69387610e+01],\n",
       "       [3.18376368e+01, 3.95785914e+01],\n",
       "       [4.04577543e+01, 7.15623985e-01],\n",
       "       [4.58767230e-03, 4.04464760e+01],\n",
       "       [5.81944813e+01, 5.98048349e+00],\n",
       "       [1.41850540e+01, 8.56121823e-01],\n",
       "       [2.79322452e+01, 5.21365615e-01],\n",
       "       [4.83662156e+01, 4.41418091e-01],\n",
       "       [2.05270316e+01, 2.67158093e+01],\n",
       "       [3.27212959e+01, 5.63754021e+00],\n",
       "       [2.84781890e+00, 1.19313266e+00],\n",
       "       [1.86696967e+00, 4.21531754e+00],\n",
       "       [1.84651426e+01, 2.14143254e+00],\n",
       "       [7.79537152e-01, 8.12893126e+00],\n",
       "       [2.35902365e-03, 2.16881146e+01],\n",
       "       [2.34426540e+00, 9.01710861e+00],\n",
       "       [6.14213623e+00, 5.99717908e+00],\n",
       "       [9.57602189e+00, 2.55276546e+00],\n",
       "       [5.18961005e-01, 1.51969338e+01],\n",
       "       [3.09812094e+01, 3.64739571e+00],\n",
       "       [4.01914254e+00, 1.93495272e+01],\n",
       "       [1.03928443e+01, 1.51106694e+01],\n",
       "       [2.09834952e+01, 8.79979941e+00],\n",
       "       [2.47000695e+00, 2.10279933e-01],\n",
       "       [9.28092817e-01, 9.78944132e+00],\n",
       "       [5.19135105e-02, 3.62984069e+01],\n",
       "       [8.49817745e-01, 1.94436034e+01],\n",
       "       [1.59643418e+01, 3.57245132e+01],\n",
       "       [5.48926756e-01, 3.18935860e+00],\n",
       "       [5.29918139e+01, 3.63749464e+01],\n",
       "       [1.55642384e+01, 9.16317639e+00],\n",
       "       [4.88747155e+00, 1.89974468e+00],\n",
       "       [7.30975169e-01, 3.93984381e+01],\n",
       "       [3.08001298e+01, 2.44075605e+00],\n",
       "       [1.90882534e-01, 8.84087157e+00],\n",
       "       [1.13044127e-01, 2.05606236e-01],\n",
       "       [5.23766896e+01, 3.21637455e+00],\n",
       "       [2.93381545e+01, 6.19545206e-01],\n",
       "       [2.12785928e+00, 3.75903446e+00],\n",
       "       [5.01122797e+01, 8.60955870e+00],\n",
       "       [2.36485298e-02, 4.52000791e+01],\n",
       "       [2.07282528e+01, 1.00528571e+01],\n",
       "       [5.67185312e-01, 1.93371844e+00],\n",
       "       [3.96084902e+00, 1.72573575e+01],\n",
       "       [4.25709553e+00, 3.04514375e+00],\n",
       "       [1.01792373e+01, 4.84870210e+00],\n",
       "       [2.99393083e+01, 4.06377335e+01],\n",
       "       [8.34715123e+00, 2.50939418e-01],\n",
       "       [3.22764551e+01, 6.87191785e-01],\n",
       "       [1.58081252e+01, 2.03420573e-01],\n",
       "       [3.21315415e+01, 8.92887643e-03],\n",
       "       [1.09837250e+01, 1.55072056e+00],\n",
       "       [8.98013822e+00, 5.21835011e+00],\n",
       "       [3.34797695e+00, 3.33348072e-01],\n",
       "       [4.91832909e+00, 2.94130646e+00],\n",
       "       [2.35574245e+00, 5.23892340e-01],\n",
       "       [5.37846686e+01, 1.86308011e-01],\n",
       "       [2.56122968e+00, 8.61295926e+00],\n",
       "       [9.67673093e-02, 8.99172782e+00],\n",
       "       [5.10588371e-02, 6.86953638e+00],\n",
       "       [3.75695846e+01, 5.86178677e+00],\n",
       "       [1.17824226e+01, 3.01832581e+01],\n",
       "       [1.61334091e-03, 7.33438694e+00],\n",
       "       [2.22642985e+01, 9.77193662e+00]])"
      ]
     },
     "execution_count": 18,
     "metadata": {},
     "output_type": "execute_result"
    }
   ],
   "source": [
    "delta_sq"
   ]
  },
  {
   "cell_type": "code",
   "execution_count": 19,
   "metadata": {},
   "outputs": [
    {
     "data": {
      "text/plain": [
       "2"
      ]
     },
     "execution_count": 19,
     "metadata": {},
     "output_type": "execute_result"
    }
   ],
   "source": [
    "delta_sq.shape[1]"
   ]
  },
  {
   "cell_type": "code",
   "execution_count": 20,
   "metadata": {},
   "outputs": [
    {
     "data": {
      "text/plain": [
       "array([1.03795099, 7.30286861, 1.51985045, 7.92265439, 7.77372293,\n",
       "       6.83744291, 2.78229969, 4.82617175, 0.26272347, 4.22464583,\n",
       "       2.1653853 , 1.69287325, 9.8601632 , 8.15937013, 7.65652814,\n",
       "       1.71802745, 4.53218673, 5.41116631, 2.68893743, 7.42439102,\n",
       "       7.54092825, 7.28599511, 2.43935267, 5.54232731, 2.52493758,\n",
       "       3.71390194, 2.78493804, 4.06424956, 1.82373509, 4.9408805 ,\n",
       "       4.62564712, 2.94212993, 7.50752149, 1.41423458, 3.74803174,\n",
       "       4.34381544, 4.20137824, 8.45081228, 6.41664852, 6.36011506,\n",
       "       8.01092783, 3.87829548, 5.33419261, 6.98624604, 6.87334277,\n",
       "       6.19345106, 2.01021182, 2.46622935, 4.53944656, 2.98470575,\n",
       "       4.65730325, 3.37066373, 3.48415202, 3.48264086, 3.96432778,\n",
       "       5.88460747, 4.8341152 , 5.05010037, 5.45740731, 1.63715817,\n",
       "       3.27376452, 6.02912269, 4.50482199, 7.18949616, 1.9334646 ,\n",
       "       9.4533994 , 4.97266677, 2.60522863, 6.33477808, 5.76549095,\n",
       "       3.00528769, 0.56449124, 7.45607565, 5.47336275, 2.42629218,\n",
       "       7.66301758, 6.72485893, 5.54807263, 1.58142459, 4.60632246,\n",
       "       2.70226558, 3.87658863, 8.40101433, 2.9322501 , 5.74139764,\n",
       "       4.00144296, 5.6692566 , 3.54040189, 3.76808815, 1.91867794,\n",
       "       2.80350416, 1.69694867, 7.34649417, 3.34278162, 3.01471311,\n",
       "       2.63070242, 6.5902482 , 6.47809236, 2.70850517, 5.66005611])"
      ]
     },
     "execution_count": 20,
     "metadata": {},
     "output_type": "execute_result"
    }
   ],
   "source": [
    "(delta_sq[:, 0] + delta_sq[:, 1])**0.5"
   ]
  },
  {
   "cell_type": "code",
   "execution_count": 21,
   "metadata": {},
   "outputs": [
    {
     "data": {
      "text/plain": [
       "array([ True,  True,  True,  True,  True,  True,  True,  True,  True,\n",
       "        True,  True,  True,  True,  True,  True,  True,  True,  True,\n",
       "        True,  True,  True,  True,  True,  True,  True,  True,  True,\n",
       "        True,  True,  True,  True,  True,  True,  True,  True,  True,\n",
       "        True,  True,  True,  True,  True,  True,  True,  True,  True,\n",
       "        True,  True,  True,  True,  True,  True,  True,  True,  True,\n",
       "        True,  True,  True,  True,  True,  True,  True,  True,  True,\n",
       "        True,  True,  True,  True,  True,  True,  True,  True,  True,\n",
       "        True,  True,  True,  True,  True,  True,  True,  True,  True,\n",
       "        True,  True,  True,  True,  True,  True,  True,  True,  True,\n",
       "        True,  True,  True,  True,  True,  True,  True,  True,  True,\n",
       "        True])"
      ]
     },
     "execution_count": 21,
     "metadata": {},
     "output_type": "execute_result"
    }
   ],
   "source": [
    "np.sum(delta_sq, axis=1) == delta_sq[:, 0] + delta_sq[:, 1]"
   ]
  },
  {
   "cell_type": "code",
   "execution_count": 22,
   "metadata": {},
   "outputs": [
    {
     "data": {
      "text/plain": [
       "(1, 2)"
      ]
     },
     "execution_count": 22,
     "metadata": {},
     "output_type": "execute_result"
    }
   ],
   "source": [
    "test_arr.shape"
   ]
  },
  {
   "cell_type": "code",
   "execution_count": 23,
   "metadata": {},
   "outputs": [],
   "source": [
    "def calc_dist(X_target:np.ndarray, X_train:np.ndarray) -> np.ndarray:\n",
    "    delta_squared = (X_train - X_target)**2\n",
    "    row_sum = np.sum(delta_squared, axis=1)\n",
    "    return row_sum**0.5"
   ]
  },
  {
   "cell_type": "code",
   "execution_count": 24,
   "metadata": {},
   "outputs": [],
   "source": [
    "dist = calc_dist(test_arr, train_arr)"
   ]
  },
  {
   "cell_type": "code",
   "execution_count": 25,
   "metadata": {},
   "outputs": [
    {
     "data": {
      "text/plain": [
       "[1.0]"
      ]
     },
     "execution_count": 25,
     "metadata": {},
     "output_type": "execute_result"
    }
   ],
   "source": [
    "list(data['target'][list(dist.argsort())[:3]].value_counts(normalize=True))"
   ]
  },
  {
   "cell_type": "code",
   "execution_count": 26,
   "metadata": {},
   "outputs": [
    {
     "data": {
      "text/plain": [
       "7.424391016203106"
      ]
     },
     "execution_count": 26,
     "metadata": {},
     "output_type": "execute_result"
    }
   ],
   "source": [
    "dist[19]"
   ]
  },
  {
   "cell_type": "code",
   "execution_count": 27,
   "metadata": {},
   "outputs": [
    {
     "data": {
      "text/plain": [
       "(1, 2)"
      ]
     },
     "execution_count": 27,
     "metadata": {},
     "output_type": "execute_result"
    }
   ],
   "source": [
    "test_arr.shape"
   ]
  },
  {
   "cell_type": "code",
   "execution_count": 28,
   "metadata": {},
   "outputs": [
    {
     "data": {
      "text/plain": [
       "array([[1.28748069e-01, 9.48594196e-01],\n",
       "       [4.55594547e+01, 7.77243517e+00],\n",
       "       [1.35827311e+00, 9.51672274e-01],\n",
       "       [4.39991678e+01, 1.87692847e+01],\n",
       "       [5.42299319e+01, 6.20083631e+00],\n",
       "       [2.19480800e+01, 2.48025456e+01],\n",
       "       [4.74285460e+00, 2.99833697e+00],\n",
       "       [1.53639108e+01, 7.92802297e+00],\n",
       "       [6.55826437e-03, 6.24653578e-02],\n",
       "       [1.54515696e+01, 2.39606282e+00],\n",
       "       [3.36508202e+00, 1.32381146e+00],\n",
       "       [1.58461549e+00, 1.28120434e+00],\n",
       "       [5.19129936e+01, 4.53098248e+01],\n",
       "       [2.13352334e+01, 4.52400875e+01],\n",
       "       [2.61706740e+01, 3.24517492e+01],\n",
       "       [1.06205455e+00, 1.88956375e+00],\n",
       "       [2.05026135e+01, 3.81030598e-02],\n",
       "       [2.16490386e+00, 2.71158169e+01],\n",
       "       [8.60752202e-01, 6.36963231e+00],\n",
       "       [1.64627664e+01, 3.86588155e+01],\n",
       "       [1.37067092e+01, 4.31588896e+01],\n",
       "       [1.20049406e+01, 4.10807842e+01],\n",
       "       [4.92969198e+00, 1.02074946e+00],\n",
       "       [4.57358827e-01, 3.02600332e+01],\n",
       "       [4.97007289e+00, 1.40523689e+00],\n",
       "       [3.39579574e-01, 1.34534880e+01],\n",
       "       [7.72888431e+00, 2.69956006e-02],\n",
       "       [8.25985803e+00, 8.25826647e+00],\n",
       "       [3.22081253e+00, 1.05197163e-01],\n",
       "       [2.76749195e+00, 2.16448081e+01],\n",
       "       [4.23093211e+00, 1.71656792e+01],\n",
       "       [3.16706938e+00, 5.48905913e+00],\n",
       "       [1.19119896e+01, 4.44508893e+01],\n",
       "       [1.96786528e+00, 3.21941612e-02],\n",
       "       [9.70300800e+00, 4.34473392e+00],\n",
       "       [1.50115037e+00, 1.73675822e+01],\n",
       "       [7.12818039e-01, 1.69387610e+01],\n",
       "       [3.18376368e+01, 3.95785914e+01],\n",
       "       [4.04577543e+01, 7.15623985e-01],\n",
       "       [4.58767230e-03, 4.04464760e+01],\n",
       "       [5.81944813e+01, 5.98048349e+00],\n",
       "       [1.41850540e+01, 8.56121823e-01],\n",
       "       [2.79322452e+01, 5.21365615e-01],\n",
       "       [4.83662156e+01, 4.41418091e-01],\n",
       "       [2.05270316e+01, 2.67158093e+01],\n",
       "       [3.27212959e+01, 5.63754021e+00],\n",
       "       [2.84781890e+00, 1.19313266e+00],\n",
       "       [1.86696967e+00, 4.21531754e+00],\n",
       "       [1.84651426e+01, 2.14143254e+00],\n",
       "       [7.79537152e-01, 8.12893126e+00],\n",
       "       [2.35902365e-03, 2.16881146e+01],\n",
       "       [2.34426540e+00, 9.01710861e+00],\n",
       "       [6.14213623e+00, 5.99717908e+00],\n",
       "       [9.57602189e+00, 2.55276546e+00],\n",
       "       [5.18961005e-01, 1.51969338e+01],\n",
       "       [3.09812094e+01, 3.64739571e+00],\n",
       "       [4.01914254e+00, 1.93495272e+01],\n",
       "       [1.03928443e+01, 1.51106694e+01],\n",
       "       [2.09834952e+01, 8.79979941e+00],\n",
       "       [2.47000695e+00, 2.10279933e-01],\n",
       "       [9.28092817e-01, 9.78944132e+00],\n",
       "       [5.19135105e-02, 3.62984069e+01],\n",
       "       [8.49817745e-01, 1.94436034e+01],\n",
       "       [1.59643418e+01, 3.57245132e+01],\n",
       "       [5.48926756e-01, 3.18935860e+00],\n",
       "       [5.29918139e+01, 3.63749464e+01],\n",
       "       [1.55642384e+01, 9.16317639e+00],\n",
       "       [4.88747155e+00, 1.89974468e+00],\n",
       "       [7.30975169e-01, 3.93984381e+01],\n",
       "       [3.08001298e+01, 2.44075605e+00],\n",
       "       [1.90882534e-01, 8.84087157e+00],\n",
       "       [1.13044127e-01, 2.05606236e-01],\n",
       "       [5.23766896e+01, 3.21637455e+00],\n",
       "       [2.93381545e+01, 6.19545206e-01],\n",
       "       [2.12785928e+00, 3.75903446e+00],\n",
       "       [5.01122797e+01, 8.60955870e+00],\n",
       "       [2.36485298e-02, 4.52000791e+01],\n",
       "       [2.07282528e+01, 1.00528571e+01],\n",
       "       [5.67185312e-01, 1.93371844e+00],\n",
       "       [3.96084902e+00, 1.72573575e+01],\n",
       "       [4.25709553e+00, 3.04514375e+00],\n",
       "       [1.01792373e+01, 4.84870210e+00],\n",
       "       [2.99393083e+01, 4.06377335e+01],\n",
       "       [8.34715123e+00, 2.50939418e-01],\n",
       "       [3.22764551e+01, 6.87191785e-01],\n",
       "       [1.58081252e+01, 2.03420573e-01],\n",
       "       [3.21315415e+01, 8.92887643e-03],\n",
       "       [1.09837250e+01, 1.55072056e+00],\n",
       "       [8.98013822e+00, 5.21835011e+00],\n",
       "       [3.34797695e+00, 3.33348072e-01],\n",
       "       [4.91832909e+00, 2.94130646e+00],\n",
       "       [2.35574245e+00, 5.23892340e-01],\n",
       "       [5.37846686e+01, 1.86308011e-01],\n",
       "       [2.56122968e+00, 8.61295926e+00],\n",
       "       [9.67673093e-02, 8.99172782e+00],\n",
       "       [5.10588371e-02, 6.86953638e+00],\n",
       "       [3.75695846e+01, 5.86178677e+00],\n",
       "       [1.17824226e+01, 3.01832581e+01],\n",
       "       [1.61334091e-03, 7.33438694e+00],\n",
       "       [2.22642985e+01, 9.77193662e+00]])"
      ]
     },
     "execution_count": 28,
     "metadata": {},
     "output_type": "execute_result"
    }
   ],
   "source": [
    "delta_sq"
   ]
  },
  {
   "cell_type": "code",
   "execution_count": 31,
   "metadata": {},
   "outputs": [
    {
     "data": {
      "text/plain": [
       "['yes',\n",
       " 'yes',\n",
       " 'no',\n",
       " 'yes',\n",
       " 'no',\n",
       " 'yes',\n",
       " 'yes',\n",
       " 'yes',\n",
       " 'yes',\n",
       " 'no',\n",
       " 'no',\n",
       " 'yes',\n",
       " 'no',\n",
       " 'yes',\n",
       " 'no',\n",
       " 'yes',\n",
       " 'no',\n",
       " 'yes',\n",
       " 'no',\n",
       " 'yes']"
      ]
     },
     "execution_count": 31,
     "metadata": {},
     "output_type": "execute_result"
    }
   ],
   "source": [
    "choiche = [rd.choice(['yes', 'no']) for i in range(20)]\n",
    "choiche"
   ]
  },
  {
   "cell_type": "code",
   "execution_count": 34,
   "metadata": {},
   "outputs": [],
   "source": [
    "df = pd.DataFrame(np.array(choiche), columns=['choice'])"
   ]
  },
  {
   "cell_type": "code",
   "execution_count": 42,
   "metadata": {},
   "outputs": [],
   "source": [
    "dfi = pd.DataFrame(df.value_counts(normalize=True)).reset_index()\n",
    "dfarr = np.array(dfi).T"
   ]
  },
  {
   "cell_type": "code",
   "execution_count": 47,
   "metadata": {},
   "outputs": [
    {
     "data": {
      "text/plain": [
       "array(['yes', 0.6], dtype=object)"
      ]
     },
     "execution_count": 47,
     "metadata": {},
     "output_type": "execute_result"
    }
   ],
   "source": [
    "dfarr[:, 0]"
   ]
  }
 ],
 "metadata": {
  "kernelspec": {
   "display_name": "Python 3",
   "language": "python",
   "name": "python3"
  },
  "language_info": {
   "codemirror_mode": {
    "name": "ipython",
    "version": 3
   },
   "file_extension": ".py",
   "mimetype": "text/x-python",
   "name": "python",
   "nbconvert_exporter": "python",
   "pygments_lexer": "ipython3",
   "version": "3.10.7"
  },
  "orig_nbformat": 4
 },
 "nbformat": 4,
 "nbformat_minor": 2
}
