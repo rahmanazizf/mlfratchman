{
 "cells": [
  {
   "cell_type": "code",
   "execution_count": 133,
   "metadata": {},
   "outputs": [],
   "source": [
    "import numpy as np\n",
    "import pandas as pd"
   ]
  },
  {
   "cell_type": "code",
   "execution_count": null,
   "metadata": {},
   "outputs": [],
   "source": [
    "buat branch baru dengan ini lalu merge"
   ]
  },
  {
   "cell_type": "code",
   "execution_count": 134,
   "metadata": {},
   "outputs": [],
   "source": [
    "import random as rd"
   ]
  },
  {
   "cell_type": "code",
   "execution_count": 135,
   "metadata": {},
   "outputs": [],
   "source": [
    "kolom_1 = [rd.random()*10 + 5 for i in range(100)]"
   ]
  },
  {
   "cell_type": "code",
   "execution_count": 136,
   "metadata": {},
   "outputs": [
    {
     "data": {
      "text/plain": [
       "[7.224142718126508,\n",
       " 13.54034269999287,\n",
       " 8.909033301977718,\n",
       " 7.5240095329566605,\n",
       " 13.767252621566104,\n",
       " 11.339741588890563,\n",
       " 12.099351840802926,\n",
       " 9.78498971179894,\n",
       " 9.908018270695825,\n",
       " 5.334441100399267,\n",
       " 6.06556298983953,\n",
       " 11.233996654173255,\n",
       " 14.05492770713318,\n",
       " 12.918393328755855,\n",
       " 6.410970045142623,\n",
       " 7.058329348816495,\n",
       " 10.7952640463388,\n",
       " 9.362345635267666,\n",
       " 12.440207762754678,\n",
       " 11.457977896178445,\n",
       " 8.941761194995923,\n",
       " 7.376906905995523,\n",
       " 6.801162731298699,\n",
       " 9.48379627735169,\n",
       " 14.848104964975576,\n",
       " 12.916765291561209,\n",
       " 9.96719778054006,\n",
       " 11.615054703052849,\n",
       " 8.5595796489093,\n",
       " 6.460660862875763,\n",
       " 7.21241817606058,\n",
       " 10.492671948217758,\n",
       " 7.493763291431098,\n",
       " 11.255576351905479,\n",
       " 7.320906909153452,\n",
       " 12.245703459642364,\n",
       " 13.938786080831878,\n",
       " 8.892451029398327,\n",
       " 8.45829788345536,\n",
       " 7.111078076562887,\n",
       " 11.850338237499699,\n",
       " 14.619291833762496,\n",
       " 12.111932427166602,\n",
       " 7.702796627984311,\n",
       " 8.574052078981687,\n",
       " 10.697401311008093,\n",
       " 13.023864400958544,\n",
       " 12.149810934077912,\n",
       " 12.344829459027999,\n",
       " 5.85397701443298,\n",
       " 7.2360409667051755,\n",
       " 11.32727849258741,\n",
       " 8.211670899933422,\n",
       " 7.818276236743108,\n",
       " 5.914732439818835,\n",
       " 6.359659181970968,\n",
       " 9.559695897343,\n",
       " 7.576368453289835,\n",
       " 14.545718726125603,\n",
       " 11.664370962375322,\n",
       " 5.0858219358499825,\n",
       " 13.684981317224572,\n",
       " 9.624936044255698,\n",
       " 11.03594140867392,\n",
       " 9.134000096457845,\n",
       " 14.04183379502347,\n",
       " 7.189537858714149,\n",
       " 6.9254804954939475,\n",
       " 7.9531697554343195,\n",
       " 9.669416213759137,\n",
       " 10.721939193234071,\n",
       " 9.884457900539807,\n",
       " 9.302821632229755,\n",
       " 5.210807625989111,\n",
       " 5.384042710292491,\n",
       " 13.705462945052554,\n",
       " 10.447830348199947,\n",
       " 12.41078867234134,\n",
       " 11.698480723162877,\n",
       " 9.242116565521048,\n",
       " 11.703615402870412,\n",
       " 8.789892143865648,\n",
       " 6.383120881336223,\n",
       " 8.395925886235279,\n",
       " 9.65769888758804,\n",
       " 14.332718555512514,\n",
       " 13.509366660179465,\n",
       " 9.302394228573698,\n",
       " 14.627901901689922,\n",
       " 14.366115152438187,\n",
       " 5.508303884217154,\n",
       " 5.7720921557415,\n",
       " 8.508528140014722,\n",
       " 7.200529637992172,\n",
       " 11.716614415575055,\n",
       " 8.751969840226106,\n",
       " 9.699114562595724,\n",
       " 11.614505929089756,\n",
       " 6.257464820118103,\n",
       " 5.577305436553695]"
      ]
     },
     "execution_count": 136,
     "metadata": {},
     "output_type": "execute_result"
    }
   ],
   "source": [
    "kolom_1"
   ]
  },
  {
   "cell_type": "code",
   "execution_count": 137,
   "metadata": {},
   "outputs": [
    {
     "data": {
      "text/plain": [
       "[8.499092643267272,\n",
       " 12.71329241212371,\n",
       " 12.400305952494342,\n",
       " 10.869050111880716,\n",
       " 10.602676296787603,\n",
       " 9.966164069055662,\n",
       " 13.295188226405761,\n",
       " 10.711471102035812,\n",
       " 9.31047903932069,\n",
       " 10.307078964392087,\n",
       " 13.828428591563132,\n",
       " 10.592116868641327,\n",
       " 8.376749817302235,\n",
       " 8.730312948279336,\n",
       " 9.449648373909762,\n",
       " 12.914485083233384,\n",
       " 9.678310453469592,\n",
       " 5.272746418418304,\n",
       " 10.293945608075706,\n",
       " 7.27790648429216,\n",
       " 7.305152344574058,\n",
       " 12.018489011661595,\n",
       " 6.147890013741265,\n",
       " 14.107662000885924,\n",
       " 11.380852860824719,\n",
       " 5.703192552497011,\n",
       " 7.7744543533298325,\n",
       " 10.199203741264267,\n",
       " 10.194925675326527,\n",
       " 9.896662608505657,\n",
       " 8.191963696366543,\n",
       " 7.551306381935664,\n",
       " 9.179968897381304,\n",
       " 9.017142059375777,\n",
       " 8.135043850911128,\n",
       " 9.45673216913917,\n",
       " 7.581900500734134,\n",
       " 12.77955847954359,\n",
       " 8.80319468498266,\n",
       " 12.593163313482748,\n",
       " 14.937409532049923,\n",
       " 14.203874007562762,\n",
       " 12.48872028175676,\n",
       " 11.69797870987173,\n",
       " 7.043152752091731,\n",
       " 11.283097110135799,\n",
       " 13.181608176340388,\n",
       " 7.317753438946286,\n",
       " 10.203309409381538,\n",
       " 5.697870905642038,\n",
       " 9.90485891838323,\n",
       " 14.50506745901602,\n",
       " 11.565943438499852,\n",
       " 11.88254197637617,\n",
       " 12.225870856254,\n",
       " 8.703748880568057,\n",
       " 6.0158285856941385,\n",
       " 6.286575949990083,\n",
       " 9.699162819305453,\n",
       " 8.363397116114063,\n",
       " 12.337152959795658,\n",
       " 9.793916110660064,\n",
       " 6.5910769382390075,\n",
       " 8.126919088372025,\n",
       " 8.556185570294641,\n",
       " 14.864165089503992,\n",
       " 12.15629177773923,\n",
       " 13.626854245194405,\n",
       " 9.446824685483788,\n",
       " 13.941238954192709,\n",
       " 10.96851482848519,\n",
       " 8.920609728966411,\n",
       " 10.25758498075712,\n",
       " 14.617132635621592,\n",
       " 10.477990239165017,\n",
       " 7.067539163496162,\n",
       " 10.628665299175317,\n",
       " 5.497839547491649,\n",
       " 14.631737465172565,\n",
       " 14.943688548064356,\n",
       " 12.40797690047794,\n",
       " 12.096503484413239,\n",
       " 6.385331386372696,\n",
       " 8.956841227037648,\n",
       " 14.86765409088857,\n",
       " 9.64519384948518,\n",
       " 14.345967238542565,\n",
       " 8.42427318846958,\n",
       " 13.416530352519835,\n",
       " 12.131349766943494,\n",
       " 11.6632879069161,\n",
       " 10.38096742312255,\n",
       " 14.03839987011574,\n",
       " 9.575188229632765,\n",
       " 6.8814591435954195,\n",
       " 11.030098107041256,\n",
       " 8.229415342905263,\n",
       " 12.528474251140782,\n",
       " 10.104368621872611,\n",
       " 11.977306574359847]"
      ]
     },
     "execution_count": 137,
     "metadata": {},
     "output_type": "execute_result"
    }
   ],
   "source": [
    "kolom_2 = [rd.random()*10 + 5 for i in range(100)]\n",
    "kolom_2"
   ]
  },
  {
   "cell_type": "code",
   "execution_count": 138,
   "metadata": {},
   "outputs": [],
   "source": [
    "target = [rd.randint(0, 1) for i in range(100)]"
   ]
  },
  {
   "cell_type": "code",
   "execution_count": 139,
   "metadata": {},
   "outputs": [],
   "source": [
    "dummy = {\n",
    "    'kolom_1': kolom_1,\n",
    "    'kolom_2': kolom_2,\n",
    "    'target': target\n",
    "}"
   ]
  },
  {
   "cell_type": "code",
   "execution_count": 140,
   "metadata": {},
   "outputs": [],
   "source": [
    "data = pd.DataFrame(dummy)"
   ]
  },
  {
   "cell_type": "code",
   "execution_count": 141,
   "metadata": {},
   "outputs": [],
   "source": [
    "test_many = [rd.random()*10+5 for i in range(20)]"
   ]
  },
  {
   "cell_type": "code",
   "execution_count": 142,
   "metadata": {},
   "outputs": [],
   "source": [
    "test = {\n",
    "    'kolom_1': [rd.random()*10 + 5],\n",
    "    'kolom_2': [rd.random()*10 + 5]\n",
    "}"
   ]
  },
  {
   "cell_type": "code",
   "execution_count": 143,
   "metadata": {},
   "outputs": [
    {
     "data": {
      "text/html": [
       "<div>\n",
       "<style scoped>\n",
       "    .dataframe tbody tr th:only-of-type {\n",
       "        vertical-align: middle;\n",
       "    }\n",
       "\n",
       "    .dataframe tbody tr th {\n",
       "        vertical-align: top;\n",
       "    }\n",
       "\n",
       "    .dataframe thead th {\n",
       "        text-align: right;\n",
       "    }\n",
       "</style>\n",
       "<table border=\"1\" class=\"dataframe\">\n",
       "  <thead>\n",
       "    <tr style=\"text-align: right;\">\n",
       "      <th></th>\n",
       "      <th>kolom_1</th>\n",
       "      <th>kolom_2</th>\n",
       "    </tr>\n",
       "  </thead>\n",
       "  <tbody>\n",
       "    <tr>\n",
       "      <th>0</th>\n",
       "      <td>13.374174</td>\n",
       "      <td>12.838046</td>\n",
       "    </tr>\n",
       "  </tbody>\n",
       "</table>\n",
       "</div>"
      ],
      "text/plain": [
       "     kolom_1    kolom_2\n",
       "0  13.374174  12.838046"
      ]
     },
     "execution_count": 143,
     "metadata": {},
     "output_type": "execute_result"
    }
   ],
   "source": [
    "data_test = pd.DataFrame(test)\n",
    "data_test"
   ]
  },
  {
   "cell_type": "code",
   "execution_count": 144,
   "metadata": {},
   "outputs": [],
   "source": [
    "import matplotlib.pyplot as plt"
   ]
  },
  {
   "cell_type": "code",
   "execution_count": 145,
   "metadata": {},
   "outputs": [
    {
     "data": {
      "image/png": "[encoded data removed]",
      "text/plain": [
       "<Figure size 576x432 with 1 Axes>"
      ]
     },
     "metadata": {
      "needs_background": "light"
     },
     "output_type": "display_data"
    }
   ],
   "source": [
    "fig, ax = plt.subplots(1, 1, figsize=(8, 6))\n",
    "ax.scatter(data['kolom_1'][data['target'] == 1], data['kolom_2'][data['target'] == 1], c='b')\n",
    "ax.scatter(data['kolom_1'][data['target'] == 0], data['kolom_2'][data['target'] == 0], c='r')\n",
    "ax.scatter(data_test['kolom_1'], data_test['kolom_2'], marker='x')\n",
    "plt.show()"
   ]
  },
  {
   "cell_type": "code",
   "execution_count": 146,
   "metadata": {},
   "outputs": [],
   "source": [
    "train_arr = np.array(data[['kolom_1', 'kolom_2']])\n",
    "test_arr = np.array(data_test)"
   ]
  },
  {
   "cell_type": "code",
   "execution_count": 147,
   "metadata": {},
   "outputs": [
    {
     "data": {
      "text/plain": [
       "array([[ 7.22414272,  8.49909264],\n",
       "       [13.5403427 , 12.71329241],\n",
       "       [ 8.9090333 , 12.40030595],\n",
       "       [ 7.52400953, 10.86905011],\n",
       "       [13.76725262, 10.6026763 ],\n",
       "       [11.33974159,  9.96616407],\n",
       "       [12.09935184, 13.29518823],\n",
       "       [ 9.78498971, 10.7114711 ],\n",
       "       [ 9.90801827,  9.31047904],\n",
       "       [ 5.3344411 , 10.30707896],\n",
       "       [ 6.06556299, 13.82842859],\n",
       "       [11.23399665, 10.59211687],\n",
       "       [14.05492771,  8.37674982],\n",
       "       [12.91839333,  8.73031295],\n",
       "       [ 6.41097005,  9.44964837],\n",
       "       [ 7.05832935, 12.91448508],\n",
       "       [10.79526405,  9.67831045],\n",
       "       [ 9.36234564,  5.27274642],\n",
       "       [12.44020776, 10.29394561],\n",
       "       [11.4579779 ,  7.27790648],\n",
       "       [ 8.94176119,  7.30515234],\n",
       "       [ 7.37690691, 12.01848901],\n",
       "       [ 6.80116273,  6.14789001],\n",
       "       [ 9.48379628, 14.107662  ],\n",
       "       [14.84810496, 11.38085286],\n",
       "       [12.91676529,  5.70319255],\n",
       "       [ 9.96719778,  7.77445435],\n",
       "       [11.6150547 , 10.19920374],\n",
       "       [ 8.55957965, 10.19492568],\n",
       "       [ 6.46066086,  9.89666261],\n",
       "       [ 7.21241818,  8.1919637 ],\n",
       "       [10.49267195,  7.55130638],\n",
       "       [ 7.49376329,  9.1799689 ],\n",
       "       [11.25557635,  9.01714206],\n",
       "       [ 7.32090691,  8.13504385],\n",
       "       [12.24570346,  9.45673217],\n",
       "       [13.93878608,  7.5819005 ],\n",
       "       [ 8.89245103, 12.77955848],\n",
       "       [ 8.45829788,  8.80319468],\n",
       "       [ 7.11107808, 12.59316331],\n",
       "       [11.85033824, 14.93740953],\n",
       "       [14.61929183, 14.20387401],\n",
       "       [12.11193243, 12.48872028],\n",
       "       [ 7.70279663, 11.69797871],\n",
       "       [ 8.57405208,  7.04315275],\n",
       "       [10.69740131, 11.28309711],\n",
       "       [13.0238644 , 13.18160818],\n",
       "       [12.14981093,  7.31775344],\n",
       "       [12.34482946, 10.20330941],\n",
       "       [ 5.85397701,  5.69787091],\n",
       "       [ 7.23604097,  9.90485892],\n",
       "       [11.32727849, 14.50506746],\n",
       "       [ 8.2116709 , 11.56594344],\n",
       "       [ 7.81827624, 11.88254198],\n",
       "       [ 5.91473244, 12.22587086],\n",
       "       [ 6.35965918,  8.70374888],\n",
       "       [ 9.5596959 ,  6.01582859],\n",
       "       [ 7.57636845,  6.28657595],\n",
       "       [14.54571873,  9.69916282],\n",
       "       [11.66437096,  8.36339712],\n",
       "       [ 5.08582194, 12.33715296],\n",
       "       [13.68498132,  9.79391611],\n",
       "       [ 9.62493604,  6.59107694],\n",
       "       [11.03594141,  8.12691909],\n",
       "       [ 9.1340001 ,  8.55618557],\n",
       "       [14.0418338 , 14.86416509],\n",
       "       [ 7.18953786, 12.15629178],\n",
       "       [ 6.9254805 , 13.62685425],\n",
       "       [ 7.95316976,  9.44682469],\n",
       "       [ 9.66941621, 13.94123895],\n",
       "       [10.72193919, 10.96851483],\n",
       "       [ 9.8844579 ,  8.92060973],\n",
       "       [ 9.30282163, 10.25758498],\n",
       "       [ 5.21080763, 14.61713264],\n",
       "       [ 5.38404271, 10.47799024],\n",
       "       [13.70546295,  7.06753916],\n",
       "       [10.44783035, 10.6286653 ],\n",
       "       [12.41078867,  5.49783955],\n",
       "       [11.69848072, 14.63173747],\n",
       "       [ 9.24211657, 14.94368855],\n",
       "       [11.7036154 , 12.4079769 ],\n",
       "       [ 8.78989214, 12.09650348],\n",
       "       [ 6.38312088,  6.38533139],\n",
       "       [ 8.39592589,  8.95684123],\n",
       "       [ 9.65769889, 14.86765409],\n",
       "       [14.33271856,  9.64519385],\n",
       "       [13.50936666, 14.34596724],\n",
       "       [ 9.30239423,  8.42427319],\n",
       "       [14.6279019 , 13.41653035],\n",
       "       [14.36611515, 12.13134977],\n",
       "       [ 5.50830388, 11.66328791],\n",
       "       [ 5.77209216, 10.38096742],\n",
       "       [ 8.50852814, 14.03839987],\n",
       "       [ 7.20052964,  9.57518823],\n",
       "       [11.71661442,  6.88145914],\n",
       "       [ 8.75196984, 11.03009811],\n",
       "       [ 9.69911456,  8.22941534],\n",
       "       [11.61450593, 12.52847425],\n",
       "       [ 6.25746482, 10.10436862],\n",
       "       [ 5.57730544, 11.97730657]])"
      ]
     },
     "execution_count": 147,
     "metadata": {},
     "output_type": "execute_result"
    }
   ],
   "source": [
    "train_arr"
   ]
  },
  {
   "cell_type": "code",
   "execution_count": 148,
   "metadata": {},
   "outputs": [
    {
     "data": {
      "text/plain": [
       "array([[13.37417395, 12.83804631]])"
      ]
     },
     "execution_count": 148,
     "metadata": {},
     "output_type": "execute_result"
    }
   ],
   "source": [
    "test_arr"
   ]
  },
  {
   "cell_type": "code",
   "execution_count": 149,
   "metadata": {},
   "outputs": [],
   "source": [
    "delta_sq = (train_arr - test_arr)**2"
   ]
  },
  {
   "cell_type": "code",
   "execution_count": 150,
   "metadata": {},
   "outputs": [
    {
     "data": {
      "text/plain": [
       "array([[3.78228841e+01, 1.88265189e+01],\n",
       "       [2.76120544e-02, 1.55635347e-02],\n",
       "       [1.99374810e+01, 1.91616620e-01],\n",
       "       [3.42244237e+01, 3.87694602e+00],\n",
       "       [1.54510844e-01, 4.99687909e+00],\n",
       "       [4.13891502e+00, 8.24770760e+00],\n",
       "       [1.62517140e+00, 2.08978733e-01],\n",
       "       [1.28822435e+01, 4.52232211e+00],\n",
       "       [1.20142352e+01, 1.24437308e+01],\n",
       "       [6.46373042e+01, 6.40579570e+00],\n",
       "       [5.34157941e+01, 9.80857066e-01],\n",
       "       [4.58035885e+00, 5.04419905e+00],\n",
       "       [4.63425682e-01, 1.99031664e+01],\n",
       "       [2.07735972e-01, 1.68734734e+01],\n",
       "       [4.84862086e+01, 1.14812406e+01],\n",
       "       [3.98898930e+01, 5.84288624e-03],\n",
       "       [6.65077628e+00, 9.98393068e+00],\n",
       "       [1.60947664e+01, 5.72337624e+01],\n",
       "       [8.72292834e-01, 6.47244838e+00],\n",
       "       [3.67180731e+00, 3.09151549e+01],\n",
       "       [1.96462828e+01, 3.06129156e+01],\n",
       "       [3.59672120e+01, 6.71674163e-01],\n",
       "       [4.32044764e+01, 4.47581913e+01],\n",
       "       [1.51350384e+01, 1.61192401e+00],\n",
       "       [2.17247265e+00, 2.12341274e+00],\n",
       "       [2.09222678e-01, 5.09061381e+01],\n",
       "       [1.16074866e+01, 2.56399635e+01],\n",
       "       [3.09450052e+00, 6.96349010e+00],\n",
       "       [2.31803183e+01, 6.98608668e+00],\n",
       "       [4.77966632e+01, 8.65173807e+00],\n",
       "       [3.79672342e+01, 2.15860836e+01],\n",
       "       [8.30305377e+00, 2.79496191e+01],\n",
       "       [3.45792295e+01, 1.33815303e+01],\n",
       "       [4.48845577e+00, 1.45993093e+01],\n",
       "       [3.66420418e+01, 2.21182321e+01],\n",
       "       [1.27344564e+00, 1.14332853e+01],\n",
       "       [3.18786861e-01, 2.76270688e+01],\n",
       "       [2.00858403e+01, 3.42082617e-03],\n",
       "       [2.41658375e+01, 1.62800276e+01],\n",
       "       [3.92263699e+01, 5.99676814e-02],\n",
       "       [2.32207527e+00, 4.40732594e+00],\n",
       "       [1.55031855e+00, 1.86548530e+00],\n",
       "       [1.59325365e+00, 1.22028673e-01],\n",
       "       [3.21645207e+01, 1.29975413e+00],\n",
       "       [2.30411699e+01, 3.35807913e+01],\n",
       "       [7.16511175e+00, 2.41786701e+00],\n",
       "       [1.22716778e-01, 1.18034757e-01],\n",
       "       [1.49906479e+00, 3.04736334e+01],\n",
       "       [1.05955008e+00, 6.94183853e+00],\n",
       "       [5.65533619e+01, 5.09821048e+01],\n",
       "       [3.76766765e+01, 8.60358827e+00],\n",
       "       [4.18978100e+00, 2.77895952e+00],\n",
       "       [2.66514377e+01, 1.61824571e+00],\n",
       "       [3.08679994e+01, 9.12988529e-01],\n",
       "       [5.56432676e+01, 3.74758785e-01],\n",
       "       [4.92034174e+01, 1.70924152e+01],\n",
       "       [1.45502428e+01, 4.65426547e+01],\n",
       "       [3.36145485e+01, 4.29217639e+01],\n",
       "       [1.37251717e+00, 9.85258956e+00],\n",
       "       [2.92342625e+00, 2.00224854e+01],\n",
       "       [6.86967791e+01, 2.50894147e-01],\n",
       "       [9.66012213e-02, 9.26672866e+00],\n",
       "       [1.40567849e+01, 3.90246263e+01],\n",
       "       [5.46733140e+00, 2.21947197e+01],\n",
       "       [1.79790743e+01, 1.83343314e+01],\n",
       "       [4.45769672e-01, 4.10515731e+00],\n",
       "       [3.82497235e+01, 4.64789241e-01],\n",
       "       [4.15856472e+01, 6.22217961e-01],\n",
       "       [2.93872864e+01, 1.15003841e+01],\n",
       "       [1.37252299e+01, 1.21703401e+00],\n",
       "       [7.03434919e+00, 3.49514796e+00],\n",
       "       [1.21781181e+01, 1.53463094e+01],\n",
       "       [1.65759097e+01, 6.65878067e+00],\n",
       "       [6.66405497e+01, 3.16514816e+00],\n",
       "       [6.38421972e+01, 5.56986465e+00],\n",
       "       [1.09752400e-01, 3.32987527e+01],\n",
       "       [8.56348686e+00, 4.88136445e+00],\n",
       "       [9.28111188e-01, 5.38786353e+01],\n",
       "       [2.80794778e+00, 3.21732796e+00],\n",
       "       [1.70738982e+01, 4.43372924e+00],\n",
       "       [2.79076585e+00, 1.84959696e-01],\n",
       "       [2.10156397e+01, 5.49885760e-01],\n",
       "       [4.88748230e+01, 4.16375299e+01],\n",
       "       [2.47829538e+01, 1.50637529e+01],\n",
       "       [1.38121869e+01, 4.11930775e+00],\n",
       "       [9.18807766e-01, 1.01943068e+01],\n",
       "       [1.82770696e-02, 2.27382553e+00],\n",
       "       [1.65793901e+01, 1.94813932e+01],\n",
       "       [1.57183378e+00, 3.34643789e-01],\n",
       "       [9.83947355e-01, 4.99420002e-01],\n",
       "       [6.18719118e+01, 1.38005730e+00],\n",
       "       [5.77916476e+01, 6.03723665e+00],\n",
       "       [2.36745091e+01, 1.44084867e+00],\n",
       "       [3.81138841e+01, 1.06462428e+01],\n",
       "       [2.74750360e+00, 3.54809307e+01],\n",
       "       [2.13647708e+01, 3.26867670e+00],\n",
       "       [1.35060615e+01, 2.12394794e+01],\n",
       "       [3.09643153e+00, 9.58348589e-02],\n",
       "       [5.06475488e+01, 7.47299370e+00],\n",
       "       [6.07911586e+01, 7.40872890e-01]])"
      ]
     },
     "execution_count": 150,
     "metadata": {},
     "output_type": "execute_result"
    }
   ],
   "source": [
    "delta_sq"
   ]
  },
  {
   "cell_type": "code",
   "execution_count": 151,
   "metadata": {},
   "outputs": [
    {
     "data": {
      "text/plain": [
       "2"
      ]
     },
     "execution_count": 151,
     "metadata": {},
     "output_type": "execute_result"
    }
   ],
   "source": [
    "delta_sq.shape[1]"
   ]
  },
  {
   "cell_type": "code",
   "execution_count": 152,
   "metadata": {},
   "outputs": [
    {
     "data": {
      "text/plain": [
       "array([ 7.52657977,  0.20778737,  4.48654629,  6.1726307 ,  2.26966736,\n",
       "        3.5194634 ,  1.35430799,  4.17187794,  4.94549957,  8.4287069 ,\n",
       "        7.37540854,  3.10234716,  4.51293608,  4.13294197,  7.74386526,\n",
       "        6.31630714,  4.07856678,  8.56320786,  2.7101183 ,  5.88106812,\n",
       "        7.08937222,  6.05300637,  9.37884149,  4.09230527,  2.07265178,\n",
       "        7.14950074,  6.10306891,  3.17143353,  5.49239519,  7.51321511,\n",
       "        7.71707962,  6.02101925,  6.92537074,  4.36895469,  7.66552503,\n",
       "        3.56465019,  5.28638398,  4.48210454,  6.35970637,  6.26788143,\n",
       "        2.59410894,  1.84818934,  1.30968787,  5.78483144,  7.52475656,\n",
       "        3.09563867,  0.49066438,  5.65444057,  2.82867259, 10.36993089,\n",
       "        6.80296   ,  2.63983721,  5.31692424,  5.6374629 ,  7.48451912,\n",
       "        8.14222529,  7.81619456,  8.74850344,  3.35038904,  4.7901891 ,\n",
       "        8.30347356,  3.05995586,  7.28569909,  5.25947251,  6.02606054,\n",
       "        2.13329018,  6.22209874,  6.49675805,  6.39434676,  3.86552246,\n",
       "        3.24491867,  5.24637279,  4.82023758,  8.35498042,  8.33139015,\n",
       "        5.78000909,  3.66672215,  7.40315787,  2.45464371,  4.63763166,\n",
       "        1.72502914,  4.64386966,  9.51379802,  6.31242478,  4.23455955,\n",
       "        3.33363384,  1.51396915,  6.00506313,  1.38075254,  1.21793569,\n",
       "        7.95311066,  7.98929811,  5.0115225 ,  6.98284519,  6.18291471,\n",
       "        4.9632094 ,  5.89453483,  1.78669147,  7.623683  ,  7.84423556])"
      ]
     },
     "execution_count": 152,
     "metadata": {},
     "output_type": "execute_result"
    }
   ],
   "source": [
    "(delta_sq[:, 0] + delta_sq[:, 1])**0.5"
   ]
  },
  {
   "cell_type": "code",
   "execution_count": 153,
   "metadata": {},
   "outputs": [
    {
     "data": {
      "text/plain": [
       "array([ True,  True,  True,  True,  True,  True,  True,  True,  True,\n",
       "        True,  True,  True,  True,  True,  True,  True,  True,  True,\n",
       "        True,  True,  True,  True,  True,  True,  True,  True,  True,\n",
       "        True,  True,  True,  True,  True,  True,  True,  True,  True,\n",
       "        True,  True,  True,  True,  True,  True,  True,  True,  True,\n",
       "        True,  True,  True,  True,  True,  True,  True,  True,  True,\n",
       "        True,  True,  True,  True,  True,  True,  True,  True,  True,\n",
       "        True,  True,  True,  True,  True,  True,  True,  True,  True,\n",
       "        True,  True,  True,  True,  True,  True,  True,  True,  True,\n",
       "        True,  True,  True,  True,  True,  True,  True,  True,  True,\n",
       "        True,  True,  True,  True,  True,  True,  True,  True,  True,\n",
       "        True])"
      ]
     },
     "execution_count": 153,
     "metadata": {},
     "output_type": "execute_result"
    }
   ],
   "source": [
    "np.sum(delta_sq, axis=1) == delta_sq[:, 0] + delta_sq[:, 1]"
   ]
  },
  {
   "cell_type": "code",
   "execution_count": 154,
   "metadata": {},
   "outputs": [
    {
     "data": {
      "text/plain": [
       "(1, 2)"
      ]
     },
     "execution_count": 154,
     "metadata": {},
     "output_type": "execute_result"
    }
   ],
   "source": [
    "test_arr.shape"
   ]
  },
  {
   "cell_type": "code",
   "execution_count": 155,
   "metadata": {},
   "outputs": [],
   "source": [
    "def calc_dist(X_target:np.ndarray, X_train:np.ndarray) -> np.ndarray:\n",
    "    delta_squared = (X_train - X_target)**2\n",
    "    row_sum = np.sum(delta_squared, axis=1)\n",
    "    return row_sum**0.5"
   ]
  },
  {
   "cell_type": "code",
   "execution_count": 156,
   "metadata": {},
   "outputs": [],
   "source": [
    "dist = calc_dist(test_arr, train_arr)"
   ]
  },
  {
   "cell_type": "code",
   "execution_count": 157,
   "metadata": {},
   "outputs": [
    {
     "data": {
      "text/plain": [
       "[1.0]"
      ]
     },
     "execution_count": 157,
     "metadata": {},
     "output_type": "execute_result"
    }
   ],
   "source": [
    "list(data['target'][list(dist.argsort())[:3]].value_counts(normalize=True))"
   ]
  },
  {
   "cell_type": "code",
   "execution_count": 158,
   "metadata": {},
   "outputs": [
    {
     "data": {
      "text/plain": [
       "5.881068115065839"
      ]
     },
     "execution_count": 158,
     "metadata": {},
     "output_type": "execute_result"
    }
   ],
   "source": [
    "dist[19]"
   ]
  },
  {
   "cell_type": "code",
   "execution_count": 159,
   "metadata": {},
   "outputs": [
    {
     "data": {
      "text/plain": [
       "(1, 2)"
      ]
     },
     "execution_count": 159,
     "metadata": {},
     "output_type": "execute_result"
    }
   ],
   "source": [
    "test_arr.shape"
   ]
  },
  {
   "cell_type": "code",
   "execution_count": 160,
   "metadata": {},
   "outputs": [
    {
     "data": {
      "text/plain": [
       "array([[3.78228841e+01, 1.88265189e+01],\n",
       "       [2.76120544e-02, 1.55635347e-02],\n",
       "       [1.99374810e+01, 1.91616620e-01],\n",
       "       [3.42244237e+01, 3.87694602e+00],\n",
       "       [1.54510844e-01, 4.99687909e+00],\n",
       "       [4.13891502e+00, 8.24770760e+00],\n",
       "       [1.62517140e+00, 2.08978733e-01],\n",
       "       [1.28822435e+01, 4.52232211e+00],\n",
       "       [1.20142352e+01, 1.24437308e+01],\n",
       "       [6.46373042e+01, 6.40579570e+00],\n",
       "       [5.34157941e+01, 9.80857066e-01],\n",
       "       [4.58035885e+00, 5.04419905e+00],\n",
       "       [4.63425682e-01, 1.99031664e+01],\n",
       "       [2.07735972e-01, 1.68734734e+01],\n",
       "       [4.84862086e+01, 1.14812406e+01],\n",
       "       [3.98898930e+01, 5.84288624e-03],\n",
       "       [6.65077628e+00, 9.98393068e+00],\n",
       "       [1.60947664e+01, 5.72337624e+01],\n",
       "       [8.72292834e-01, 6.47244838e+00],\n",
       "       [3.67180731e+00, 3.09151549e+01],\n",
       "       [1.96462828e+01, 3.06129156e+01],\n",
       "       [3.59672120e+01, 6.71674163e-01],\n",
       "       [4.32044764e+01, 4.47581913e+01],\n",
       "       [1.51350384e+01, 1.61192401e+00],\n",
       "       [2.17247265e+00, 2.12341274e+00],\n",
       "       [2.09222678e-01, 5.09061381e+01],\n",
       "       [1.16074866e+01, 2.56399635e+01],\n",
       "       [3.09450052e+00, 6.96349010e+00],\n",
       "       [2.31803183e+01, 6.98608668e+00],\n",
       "       [4.77966632e+01, 8.65173807e+00],\n",
       "       [3.79672342e+01, 2.15860836e+01],\n",
       "       [8.30305377e+00, 2.79496191e+01],\n",
       "       [3.45792295e+01, 1.33815303e+01],\n",
       "       [4.48845577e+00, 1.45993093e+01],\n",
       "       [3.66420418e+01, 2.21182321e+01],\n",
       "       [1.27344564e+00, 1.14332853e+01],\n",
       "       [3.18786861e-01, 2.76270688e+01],\n",
       "       [2.00858403e+01, 3.42082617e-03],\n",
       "       [2.41658375e+01, 1.62800276e+01],\n",
       "       [3.92263699e+01, 5.99676814e-02],\n",
       "       [2.32207527e+00, 4.40732594e+00],\n",
       "       [1.55031855e+00, 1.86548530e+00],\n",
       "       [1.59325365e+00, 1.22028673e-01],\n",
       "       [3.21645207e+01, 1.29975413e+00],\n",
       "       [2.30411699e+01, 3.35807913e+01],\n",
       "       [7.16511175e+00, 2.41786701e+00],\n",
       "       [1.22716778e-01, 1.18034757e-01],\n",
       "       [1.49906479e+00, 3.04736334e+01],\n",
       "       [1.05955008e+00, 6.94183853e+00],\n",
       "       [5.65533619e+01, 5.09821048e+01],\n",
       "       [3.76766765e+01, 8.60358827e+00],\n",
       "       [4.18978100e+00, 2.77895952e+00],\n",
       "       [2.66514377e+01, 1.61824571e+00],\n",
       "       [3.08679994e+01, 9.12988529e-01],\n",
       "       [5.56432676e+01, 3.74758785e-01],\n",
       "       [4.92034174e+01, 1.70924152e+01],\n",
       "       [1.45502428e+01, 4.65426547e+01],\n",
       "       [3.36145485e+01, 4.29217639e+01],\n",
       "       [1.37251717e+00, 9.85258956e+00],\n",
       "       [2.92342625e+00, 2.00224854e+01],\n",
       "       [6.86967791e+01, 2.50894147e-01],\n",
       "       [9.66012213e-02, 9.26672866e+00],\n",
       "       [1.40567849e+01, 3.90246263e+01],\n",
       "       [5.46733140e+00, 2.21947197e+01],\n",
       "       [1.79790743e+01, 1.83343314e+01],\n",
       "       [4.45769672e-01, 4.10515731e+00],\n",
       "       [3.82497235e+01, 4.64789241e-01],\n",
       "       [4.15856472e+01, 6.22217961e-01],\n",
       "       [2.93872864e+01, 1.15003841e+01],\n",
       "       [1.37252299e+01, 1.21703401e+00],\n",
       "       [7.03434919e+00, 3.49514796e+00],\n",
       "       [1.21781181e+01, 1.53463094e+01],\n",
       "       [1.65759097e+01, 6.65878067e+00],\n",
       "       [6.66405497e+01, 3.16514816e+00],\n",
       "       [6.38421972e+01, 5.56986465e+00],\n",
       "       [1.09752400e-01, 3.32987527e+01],\n",
       "       [8.56348686e+00, 4.88136445e+00],\n",
       "       [9.28111188e-01, 5.38786353e+01],\n",
       "       [2.80794778e+00, 3.21732796e+00],\n",
       "       [1.70738982e+01, 4.43372924e+00],\n",
       "       [2.79076585e+00, 1.84959696e-01],\n",
       "       [2.10156397e+01, 5.49885760e-01],\n",
       "       [4.88748230e+01, 4.16375299e+01],\n",
       "       [2.47829538e+01, 1.50637529e+01],\n",
       "       [1.38121869e+01, 4.11930775e+00],\n",
       "       [9.18807766e-01, 1.01943068e+01],\n",
       "       [1.82770696e-02, 2.27382553e+00],\n",
       "       [1.65793901e+01, 1.94813932e+01],\n",
       "       [1.57183378e+00, 3.34643789e-01],\n",
       "       [9.83947355e-01, 4.99420002e-01],\n",
       "       [6.18719118e+01, 1.38005730e+00],\n",
       "       [5.77916476e+01, 6.03723665e+00],\n",
       "       [2.36745091e+01, 1.44084867e+00],\n",
       "       [3.81138841e+01, 1.06462428e+01],\n",
       "       [2.74750360e+00, 3.54809307e+01],\n",
       "       [2.13647708e+01, 3.26867670e+00],\n",
       "       [1.35060615e+01, 2.12394794e+01],\n",
       "       [3.09643153e+00, 9.58348589e-02],\n",
       "       [5.06475488e+01, 7.47299370e+00],\n",
       "       [6.07911586e+01, 7.40872890e-01]])"
      ]
     },
     "execution_count": 160,
     "metadata": {},
     "output_type": "execute_result"
    }
   ],
   "source": [
    "delta_sq"
   ]
  },
  {
   "cell_type": "code",
   "execution_count": 161,
   "metadata": {},
   "outputs": [
    {
     "data": {
      "text/plain": [
       "[0,\n",
       " 0,\n",
       " 0,\n",
       " 1,\n",
       " 1,\n",
       " 0,\n",
       " 1,\n",
       " 1,\n",
       " 1,\n",
       " 1,\n",
       " 0,\n",
       " 0,\n",
       " 0,\n",
       " 1,\n",
       " 0,\n",
       " 1,\n",
       " 1,\n",
       " 0,\n",
       " 1,\n",
       " 0,\n",
       " 0,\n",
       " 0,\n",
       " 1,\n",
       " 0,\n",
       " 1,\n",
       " 1,\n",
       " 1,\n",
       " 0,\n",
       " 0,\n",
       " 0,\n",
       " 1,\n",
       " 0,\n",
       " 0,\n",
       " 0,\n",
       " 0,\n",
       " 0,\n",
       " 1,\n",
       " 0,\n",
       " 0,\n",
       " 0,\n",
       " 1,\n",
       " 0,\n",
       " 1,\n",
       " 1,\n",
       " 1,\n",
       " 0,\n",
       " 0,\n",
       " 1,\n",
       " 1,\n",
       " 1,\n",
       " 0,\n",
       " 1,\n",
       " 1,\n",
       " 0,\n",
       " 1,\n",
       " 0,\n",
       " 1,\n",
       " 0,\n",
       " 0,\n",
       " 0,\n",
       " 1,\n",
       " 0,\n",
       " 1,\n",
       " 1,\n",
       " 1,\n",
       " 1,\n",
       " 1,\n",
       " 0,\n",
       " 0,\n",
       " 0,\n",
       " 0,\n",
       " 1,\n",
       " 1,\n",
       " 1,\n",
       " 0,\n",
       " 1,\n",
       " 1,\n",
       " 0,\n",
       " 0,\n",
       " 0,\n",
       " 1,\n",
       " 1,\n",
       " 0,\n",
       " 1,\n",
       " 0,\n",
       " 0,\n",
       " 0,\n",
       " 1,\n",
       " 0,\n",
       " 1,\n",
       " 0,\n",
       " 0,\n",
       " 0,\n",
       " 1,\n",
       " 1,\n",
       " 1,\n",
       " 0,\n",
       " 1,\n",
       " 0,\n",
       " 0]"
      ]
     },
     "execution_count": 161,
     "metadata": {},
     "output_type": "execute_result"
    }
   ],
   "source": [
    "choiche = [rd.choice([1, 0]) for i in range(100)]\n",
    "choiche"
   ]
  },
  {
   "cell_type": "code",
   "execution_count": 162,
   "metadata": {},
   "outputs": [],
   "source": [
    "df = pd.DataFrame(np.array(choiche), columns=['choice'])"
   ]
  },
  {
   "cell_type": "code",
   "execution_count": 163,
   "metadata": {},
   "outputs": [],
   "source": [
    "dfi = pd.DataFrame(df.value_counts(normalize=True)).reset_index()\n",
    "dfarr = np.array(dfi).T"
   ]
  },
  {
   "cell_type": "code",
   "execution_count": 164,
   "metadata": {},
   "outputs": [
    {
     "data": {
      "text/plain": [
       "array([0.  , 0.53])"
      ]
     },
     "execution_count": 164,
     "metadata": {},
     "output_type": "execute_result"
    }
   ],
   "source": [
    "dfarr[:, 0]"
   ]
  },
  {
   "cell_type": "code",
   "execution_count": 165,
   "metadata": {},
   "outputs": [
    {
     "data": {
      "text/plain": [
       "array([[ 0.87016283,  0.43364355],\n",
       "       [-1.02293168, -0.87348183],\n",
       "       [-0.02568357, -0.86124835],\n",
       "       [ 0.68992267, -0.60516419],\n",
       "       [-1.01657556, -0.5273429 ],\n",
       "       [-0.81700421, -0.3014511 ],\n",
       "       [-0.94291292, -0.8600419 ],\n",
       "       [-0.37906723, -0.56031865],\n",
       "       [-0.42254414, -0.00988013],\n",
       "       [ 2.213247  , -0.42944087],\n",
       "       [ 1.65118254, -0.80640604],\n",
       "       [-0.79489311, -0.52405475],\n",
       "       [-1.00110259,  0.50845705],\n",
       "       [-1.01390961,  0.29793139],\n",
       "       [ 1.40426881, -0.07676113],\n",
       "       [ 0.97369544, -0.87415729],\n",
       "       [-0.69118977, -0.18080538],\n",
       "       [-0.21815796,  3.10246509],\n",
       "       [-0.9806232 , -0.42480934],\n",
       "       [-0.84040076,  1.27365208],\n",
       "       [-0.04026915,  1.25265024],\n",
       "       [ 0.77721568, -0.82789037],\n",
       "       [ 1.13971673,  2.23556942],\n",
       "       [-0.26622894, -0.7625548 ],\n",
       "       [-0.91549963, -0.72701275],\n",
       "       [-1.01383515,  2.66277459],\n",
       "       [-0.44291742,  0.90709247],\n",
       "       [-0.86931698, -0.39068811],\n",
       "       [ 0.13674408, -0.38911793],\n",
       "       [ 1.36973077, -0.27337605],\n",
       "       [ 0.87739305,  0.62539868],\n",
       "       [-0.60843028,  1.06758455],\n",
       "       [ 0.70769423,  0.05528517],\n",
       "       [-0.79949636,  0.13990552],\n",
       "       [ 0.81101665,  0.66237632],\n",
       "       [-0.96053021, -0.08009342],\n",
       "       [-1.00834728,  1.04517135],\n",
       "       [-0.01825253, -0.87432559],\n",
       "       [ 0.1861069 ,  0.25669436],\n",
       "       [ 0.94046081, -0.8703963 ],\n",
       "       [-0.90800631, -0.56830944],\n",
       "       [-0.94666216, -0.74493547],\n",
       "       [-0.94451162, -0.86608384],\n",
       "       [ 0.58674598, -0.78424669],\n",
       "       [ 0.1297744 ,  1.45888037],\n",
       "       [-0.66542767, -0.70655188],\n",
       "       [-1.01816807, -0.86636136],\n",
       "       [-0.94922937,  1.24297188],\n",
       "       [-0.97124384, -0.39219262],\n",
       "       [ 1.80833744,  2.66805332],\n",
       "       [ 0.86283956, -0.27672186],\n",
       "       [-0.81445642, -0.68146048],\n",
       "       [ 0.31060596, -0.76211552],\n",
       "       [ 0.52180565, -0.81112205],\n",
       "       [ 1.76275252, -0.84852226],\n",
       "       [ 1.44019246,  0.31314511],\n",
       "       [-0.29552026,  2.35956724],\n",
       "       [ 0.65937517,  2.10796076],\n",
       "       [-0.9555679 , -0.18993194],\n",
       "       [-0.87788577,  0.51674822],\n",
       "       [ 2.4165785 , -0.8571293 ],\n",
       "       [-1.01947615, -0.23064192],\n",
       "       [-0.32023665,  1.8371586 ],\n",
       "       [-0.75046631,  0.66769125],\n",
       "       [-0.1237765 ,  0.3994427 ],\n",
       "       [-1.00198695, -0.58930637],\n",
       "       [ 0.89154242, -0.84226628],\n",
       "       [ 1.0586326 , -0.83132696],\n",
       "       [ 0.44763951, -0.0754309 ],\n",
       "       [-0.33684362, -0.7899947 ],\n",
       "       [-0.67197732, -0.63169437],\n",
       "       [-0.41433555,  0.19181266],\n",
       "       [-0.1940584 , -0.41186159],\n",
       "       [ 2.31358582, -0.65462521],\n",
       "       [ 2.17342157, -0.48752759],\n",
       "       [-1.01881743,  1.43928222],\n",
       "       [-0.59538567, -0.53536971],\n",
       "       [-0.97782737,  2.86932585],\n",
       "       [-0.88366987, -0.65099937],\n",
       "       [-0.16911508, -0.56647474],\n",
       "       [-0.88453048, -0.86171092],\n",
       "       [ 0.02831938, -0.83635314],\n",
       "       [ 1.42373378,  2.01872261],\n",
       "       [ 0.2170171 ,  0.17217853],\n",
       "       [-0.3324881 , -0.58832309],\n",
       "       [-0.97829336, -0.16618688],\n",
       "       [-1.02339926, -0.71656095],\n",
       "       [-0.19388407,  0.4791491 ],\n",
       "       [-0.9455845 , -0.85130975],\n",
       "       [-0.97503064, -0.83985987],\n",
       "       [ 2.07473366, -0.77866663],\n",
       "       [ 1.87036085, -0.4550511 ],\n",
       "       [ 0.16149718, -0.77444239],\n",
       "       [ 0.88473847, -0.134783  ],\n",
       "       [-0.8866974 ,  1.59091621],\n",
       "       [ 0.0458067 , -0.64743128],\n",
       "       [-0.34782135,  0.60131403],\n",
       "       [-0.86922025, -0.86790398],\n",
       "       [ 1.5125263 , -0.355284  ],\n",
       "       [ 2.02060075, -0.82308193]])"
      ]
     },
     "execution_count": 165,
     "metadata": {},
     "output_type": "execute_result"
    }
   ],
   "source": [
    "(delta_sq - np.mean(delta_sq, axis=0))/np.std(delta_sq, axis=0)"
   ]
  },
  {
   "cell_type": "code",
   "execution_count": 166,
   "metadata": {},
   "outputs": [],
   "source": [
    "from neighbors._base import NearestNeighbors\n",
    "from neighbors.classifier import KNNClassifier"
   ]
  },
  {
   "cell_type": "code",
   "execution_count": 167,
   "metadata": {},
   "outputs": [],
   "source": [
    "knn = KNNClassifier()"
   ]
  },
  {
   "cell_type": "code",
   "execution_count": 168,
   "metadata": {},
   "outputs": [],
   "source": [
    "def func(x):\n",
    "    if not x:\n",
    "        return\n",
    "    print(\"true\")"
   ]
  },
  {
   "cell_type": "code",
   "execution_count": 169,
   "metadata": {},
   "outputs": [],
   "source": [
    "x = func(False)"
   ]
  },
  {
   "cell_type": "code",
   "execution_count": 170,
   "metadata": {},
   "outputs": [],
   "source": [
    "knn.fit(delta_sq, choiche)"
   ]
  },
  {
   "cell_type": "code",
   "execution_count": null,
   "metadata": {},
   "outputs": [],
   "source": []
  },
  {
   "cell_type": "code",
   "execution_count": 171,
   "metadata": {},
   "outputs": [
    {
     "data": {
      "text/plain": [
       "array([[0],\n",
       "       [0],\n",
       "       [0],\n",
       "       [1],\n",
       "       [1],\n",
       "       [0],\n",
       "       [1],\n",
       "       [1],\n",
       "       [1],\n",
       "       [1],\n",
       "       [0],\n",
       "       [0],\n",
       "       [0],\n",
       "       [1],\n",
       "       [0],\n",
       "       [1],\n",
       "       [1],\n",
       "       [0],\n",
       "       [1],\n",
       "       [0],\n",
       "       [0],\n",
       "       [0],\n",
       "       [1],\n",
       "       [0],\n",
       "       [1],\n",
       "       [1],\n",
       "       [1],\n",
       "       [0],\n",
       "       [0],\n",
       "       [0],\n",
       "       [1],\n",
       "       [0],\n",
       "       [0],\n",
       "       [0],\n",
       "       [0],\n",
       "       [0],\n",
       "       [1],\n",
       "       [0],\n",
       "       [0],\n",
       "       [0],\n",
       "       [1],\n",
       "       [0],\n",
       "       [1],\n",
       "       [1],\n",
       "       [1],\n",
       "       [0],\n",
       "       [0],\n",
       "       [1],\n",
       "       [1],\n",
       "       [1],\n",
       "       [0],\n",
       "       [1],\n",
       "       [1],\n",
       "       [0],\n",
       "       [1],\n",
       "       [0],\n",
       "       [1],\n",
       "       [0],\n",
       "       [0],\n",
       "       [0],\n",
       "       [1],\n",
       "       [0],\n",
       "       [1],\n",
       "       [1],\n",
       "       [1],\n",
       "       [1],\n",
       "       [1],\n",
       "       [0],\n",
       "       [0],\n",
       "       [0],\n",
       "       [0],\n",
       "       [1],\n",
       "       [1],\n",
       "       [1],\n",
       "       [0],\n",
       "       [1],\n",
       "       [1],\n",
       "       [0],\n",
       "       [0],\n",
       "       [0],\n",
       "       [1],\n",
       "       [1],\n",
       "       [0],\n",
       "       [1],\n",
       "       [0],\n",
       "       [0],\n",
       "       [0],\n",
       "       [1],\n",
       "       [0],\n",
       "       [1],\n",
       "       [0],\n",
       "       [0],\n",
       "       [0],\n",
       "       [1],\n",
       "       [1],\n",
       "       [1],\n",
       "       [0],\n",
       "       [1],\n",
       "       [0],\n",
       "       [0]])"
      ]
     },
     "execution_count": 171,
     "metadata": {},
     "output_type": "execute_result"
    }
   ],
   "source": [
    "knn._output_data"
   ]
  },
  {
   "cell_type": "code",
   "execution_count": 172,
   "metadata": {},
   "outputs": [],
   "source": [
    "test = np.array([[ 1.51676512, -2.47909951],\n",
    "       [ 4.92804763, -2.95066551],\n",
    "       [ 2.25077705,  0.92468329],\n",
    "       [ 1.25077705,  0.92468329]\n",
    "       ])"
   ]
  },
  {
   "cell_type": "code",
   "execution_count": 173,
   "metadata": {},
   "outputs": [
    {
     "data": {
      "text/plain": [
       "(2,)"
      ]
     },
     "execution_count": 173,
     "metadata": {},
     "output_type": "execute_result"
    }
   ],
   "source": [
    "test[0].shape"
   ]
  },
  {
   "cell_type": "code",
   "execution_count": 174,
   "metadata": {},
   "outputs": [
    {
     "name": "stdout",
     "output_type": "stream",
     "text": [
      "[1.]\n",
      "[1. 1.]\n",
      "[1. 1. 0.]\n",
      "[1. 1. 0. 0.]\n"
     ]
    },
    {
     "data": {
      "text/plain": [
       "array([1., 1., 0., 0.])"
      ]
     },
     "execution_count": 174,
     "metadata": {},
     "output_type": "execute_result"
    }
   ],
   "source": [
    "knn.predict(test)"
   ]
  },
  {
   "cell_type": "code",
   "execution_count": 175,
   "metadata": {},
   "outputs": [
    {
     "name": "stdout",
     "output_type": "stream",
     "text": [
      "0\n",
      "1\n"
     ]
    }
   ],
   "source": [
    "for cls in np.unique(knn._output_data):\n",
    "    print(cls)"
   ]
  },
  {
   "cell_type": "code",
   "execution_count": 176,
   "metadata": {},
   "outputs": [
    {
     "ename": "TypeError",
     "evalue": "KNNClassifier._predict_proba() got an unexpected keyword argument 'axis'",
     "output_type": "error",
     "traceback": [
      "\u001b[1;31m---------------------------------------------------------------------------\u001b[0m",
      "\u001b[1;31mTypeError\u001b[0m                                 Traceback (most recent call last)",
      "\u001b[1;32mc:\\Users\\Rahman Aziz F\\Desktop\\new\\mlfratch\\test.ipynb Cell 45\u001b[0m in \u001b[0;36m<cell line: 1>\u001b[1;34m()\u001b[0m\n\u001b[1;32m----> <a href='vscode-notebook-cell:/c%3A/Users/Rahman%20Aziz%20F/Desktop/new/mlfratch/test.ipynb#X62sZmlsZQ%3D%3D?line=0'>1</a>\u001b[0m out \u001b[39m=\u001b[39m knn\u001b[39m.\u001b[39;49m_predict_proba(test, axis\u001b[39m=\u001b[39;49m\u001b[39m0\u001b[39;49m)\n",
      "\u001b[1;31mTypeError\u001b[0m: KNNClassifier._predict_proba() got an unexpected keyword argument 'axis'"
     ]
    }
   ],
   "source": [
    "out = knn._predict_proba(test, axis=0)"
   ]
  },
  {
   "cell_type": "code",
   "execution_count": null,
   "metadata": {},
   "outputs": [
    {
     "data": {
      "text/plain": [
       "array([[0.        , 1.        ],\n",
       "       [0.66666667, 0.33333333]])"
      ]
     },
     "execution_count": 74,
     "metadata": {},
     "output_type": "execute_result"
    }
   ],
   "source": [
    "out"
   ]
  },
  {
   "cell_type": "code",
   "execution_count": null,
   "metadata": {},
   "outputs": [
    {
     "data": {
      "text/plain": [
       "0"
      ]
     },
     "execution_count": 81,
     "metadata": {},
     "output_type": "execute_result"
    }
   ],
   "source": [
    "np.argmax(out[1, :])"
   ]
  },
  {
   "cell_type": "code",
   "execution_count": null,
   "metadata": {},
   "outputs": [
    {
     "data": {
      "text/plain": [
       "0.0"
      ]
     },
     "execution_count": 84,
     "metadata": {},
     "output_type": "execute_result"
    }
   ],
   "source": [
    "out[0, np.argmax(out[1, :])]"
   ]
  },
  {
   "cell_type": "code",
   "execution_count": null,
   "metadata": {},
   "outputs": [
    {
     "data": {
      "text/plain": [
       "array([1.])"
      ]
     },
     "execution_count": 73,
     "metadata": {},
     "output_type": "execute_result"
    }
   ],
   "source": [
    "x = np.array([])\n",
    "np.append(x, [1])"
   ]
  },
  {
   "cell_type": "code",
   "execution_count": null,
   "metadata": {},
   "outputs": [
    {
     "ename": "",
     "evalue": "",
     "output_type": "error",
     "traceback": [
      "\u001b[1;31mThe kernel failed to start as a dll could not be loaded.\n",
      "\u001b[1;31mClick <a href='https://aka.ms/kernelFailuresDllLoad'>here</a> for more info."
     ]
    }
   ],
   "source": [
    "pd.DataFrame(out).value_counts(normalize=True).get('yes', 0)"
   ]
  },
  {
   "cell_type": "code",
   "execution_count": null,
   "metadata": {},
   "outputs": [
    {
     "ename": "",
     "evalue": "",
     "output_type": "error",
     "traceback": [
      "\u001b[1;31mThe kernel failed to start as a dll could not be loaded.\n",
      "\u001b[1;31mClick <a href='https://aka.ms/kernelFailuresDllLoad'>here</a> for more info."
     ]
    }
   ],
   "source": [
    "x=np.array(choiche)"
   ]
  },
  {
   "cell_type": "code",
   "execution_count": null,
   "metadata": {},
   "outputs": [
    {
     "ename": "",
     "evalue": "",
     "output_type": "error",
     "traceback": [
      "\u001b[1;31mThe kernel failed to start as a dll could not be loaded.\n",
      "\u001b[1;31mClick <a href='https://aka.ms/kernelFailuresDllLoad'>here</a> for more info."
     ]
    }
   ],
   "source": []
  },
  {
   "cell_type": "code",
   "execution_count": null,
   "metadata": {},
   "outputs": [
    {
     "ename": "",
     "evalue": "",
     "output_type": "error",
     "traceback": [
      "\u001b[1;31mThe kernel failed to start as a dll could not be loaded.\n",
      "\u001b[1;31mClick <a href='https://aka.ms/kernelFailuresDllLoad'>here</a> for more info."
     ]
    }
   ],
   "source": [
    "set(x.tolist())"
   ]
  },
  {
   "cell_type": "code",
   "execution_count": null,
   "metadata": {},
   "outputs": [
    {
     "ename": "",
     "evalue": "",
     "output_type": "error",
     "traceback": [
      "\u001b[1;31mThe kernel failed to start as a dll could not be loaded.\n",
      "\u001b[1;31mClick <a href='https://aka.ms/kernelFailuresDllLoad'>here</a> for more info."
     ]
    }
   ],
   "source": [
    "outt = np.zeros(shape=(2, 3))"
   ]
  },
  {
   "cell_type": "code",
   "execution_count": null,
   "metadata": {},
   "outputs": [
    {
     "ename": "",
     "evalue": "",
     "output_type": "error",
     "traceback": [
      "\u001b[1;31mThe kernel failed to start as a dll could not be loaded.\n",
      "\u001b[1;31mClick <a href='https://aka.ms/kernelFailuresDllLoad'>here</a> for more info."
     ]
    }
   ],
   "source": [
    "outt[0, 0] = 5"
   ]
  },
  {
   "cell_type": "code",
   "execution_count": null,
   "metadata": {},
   "outputs": [
    {
     "ename": "",
     "evalue": "",
     "output_type": "error",
     "traceback": [
      "\u001b[1;31mThe kernel failed to start as a dll could not be loaded.\n",
      "\u001b[1;31mClick <a href='https://aka.ms/kernelFailuresDllLoad'>here</a> for more info."
     ]
    }
   ],
   "source": [
    "outt[0, :]"
   ]
  },
  {
   "cell_type": "code",
   "execution_count": null,
   "metadata": {},
   "outputs": [
    {
     "ename": "",
     "evalue": "",
     "output_type": "error",
     "traceback": [
      "\u001b[1;31mThe kernel failed to start as a dll could not be loaded.\n",
      "\u001b[1;31mClick <a href='https://aka.ms/kernelFailuresDllLoad'>here</a> for more info."
     ]
    }
   ],
   "source": [
    "import hashlib"
   ]
  },
  {
   "cell_type": "code",
   "execution_count": null,
   "metadata": {},
   "outputs": [
    {
     "ename": "",
     "evalue": "",
     "output_type": "error",
     "traceback": [
      "\u001b[1;31mThe kernel failed to start as a dll could not be loaded.\n",
      "\u001b[1;31mClick <a href='https://aka.ms/kernelFailuresDllLoad'>here</a> for more info."
     ]
    }
   ],
   "source": []
  },
  {
   "cell_type": "code",
   "execution_count": null,
   "metadata": {},
   "outputs": [
    {
     "ename": "",
     "evalue": "",
     "output_type": "error",
     "traceback": [
      "\u001b[1;31mThe kernel failed to start as a dll could not be loaded.\n",
      "\u001b[1;31mClick <a href='https://aka.ms/kernelFailuresDllLoad'>here</a> for more info."
     ]
    }
   ],
   "source": [
    "hashlib.sha256(\"hello world\".encode()).hexdigest()"
   ]
  },
  {
   "cell_type": "code",
   "execution_count": null,
   "metadata": {},
   "outputs": [
    {
     "ename": "",
     "evalue": "",
     "output_type": "error",
     "traceback": [
      "\u001b[1;31mThe kernel failed to start as a dll could not be loaded.\n",
      "\u001b[1;31mClick <a href='https://aka.ms/kernelFailuresDllLoad'>here</a> for more info."
     ]
    }
   ],
   "source": [
    "hashlib.sha256(\"hello world-rahmanazizf\".encode()).hexdigest()"
   ]
  },
  {
   "cell_type": "code",
   "execution_count": null,
   "metadata": {},
   "outputs": [
    {
     "ename": "",
     "evalue": "",
     "output_type": "error",
     "traceback": [
      "\u001b[1;31mThe kernel failed to start as a dll could not be loaded.\n",
      "\u001b[1;31mClick <a href='https://aka.ms/kernelFailuresDllLoad'>here</a> for more info."
     ]
    }
   ],
   "source": [
    "rd.choices(asc)"
   ]
  },
  {
   "cell_type": "code",
   "execution_count": null,
   "metadata": {},
   "outputs": [
    {
     "ename": "",
     "evalue": "",
     "output_type": "error",
     "traceback": [
      "\u001b[1;31mThe kernel failed to start as a dll could not be loaded.\n",
      "\u001b[1;31mClick <a href='https://aka.ms/kernelFailuresDllLoad'>here</a> for more info."
     ]
    }
   ],
   "source": [
    "import string"
   ]
  },
  {
   "cell_type": "code",
   "execution_count": null,
   "metadata": {},
   "outputs": [
    {
     "ename": "",
     "evalue": "",
     "output_type": "error",
     "traceback": [
      "\u001b[1;31mThe kernel failed to start as a dll could not be loaded.\n",
      "\u001b[1;31mClick <a href='https://aka.ms/kernelFailuresDllLoad'>here</a> for more info."
     ]
    }
   ],
   "source": [
    "string.ascii_letters"
   ]
  },
  {
   "cell_type": "code",
   "execution_count": null,
   "metadata": {},
   "outputs": [
    {
     "ename": "",
     "evalue": "",
     "output_type": "error",
     "traceback": [
      "\u001b[1;31mThe kernel failed to start as a dll could not be loaded.\n",
      "\u001b[1;31mClick <a href='https://aka.ms/kernelFailuresDllLoad'>here</a> for more info."
     ]
    }
   ],
   "source": [
    "string.digits"
   ]
  },
  {
   "cell_type": "code",
   "execution_count": null,
   "metadata": {},
   "outputs": [
    {
     "ename": "",
     "evalue": "",
     "output_type": "error",
     "traceback": [
      "\u001b[1;31mThe kernel failed to start as a dll could not be loaded.\n",
      "\u001b[1;31mClick <a href='https://aka.ms/kernelFailuresDllLoad'>here</a> for more info."
     ]
    }
   ],
   "source": [
    "\"\".join(rd.choices(string.ascii_letters+string.digits, k=5))"
   ]
  }
 ],
 "metadata": {
  "kernelspec": {
   "display_name": "Python 3",
   "language": "python",
   "name": "python3"
  },
  "language_info": {
   "codemirror_mode": {
    "name": "ipython",
    "version": 3
   },
   "file_extension": ".py",
   "mimetype": "text/x-python",
   "name": "python",
   "nbconvert_exporter": "python",
   "pygments_lexer": "ipython3",
   "version": "3.10.7"
  },
  "orig_nbformat": 4
 },
 "nbformat": 4,
 "nbformat_minor": 2
}
