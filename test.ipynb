{
 "cells": [
  {
   "cell_type": "code",
   "execution_count": 1,
   "metadata": {},
   "outputs": [],
   "source": [
    "import numpy as np\n",
    "import pandas as pd"
   ]
  },
  {
   "cell_type": "code",
   "execution_count": 2,
   "metadata": {},
   "outputs": [],
   "source": [
    "import random as rd"
   ]
  },
  {
   "cell_type": "code",
   "execution_count": 3,
   "metadata": {},
   "outputs": [],
   "source": [
    "kolom_1 = [rd.random()*10 + 5 for i in range(100)]"
   ]
  },
  {
   "cell_type": "code",
   "execution_count": 4,
   "metadata": {},
   "outputs": [
    {
     "data": {
      "text/plain": [
       "[8.328125970294613,\n",
       " 9.118483995223986,\n",
       " 5.7596184689149155,\n",
       " 12.713288336277076,\n",
       " 10.641866440096415,\n",
       " 8.014717902372762,\n",
       " 7.9287139278443854,\n",
       " 11.569175348057415,\n",
       " 13.982105528493712,\n",
       " 10.443348190005658,\n",
       " 8.399447568812985,\n",
       " 8.962560494369962,\n",
       " 8.50551035708343,\n",
       " 5.7876435425397945,\n",
       " 8.630102851692989,\n",
       " 12.331313360591135,\n",
       " 5.086349872579607,\n",
       " 10.080750306882607,\n",
       " 6.377963603345242,\n",
       " 8.523499932376586,\n",
       " 6.093322391654051,\n",
       " 12.30498280355611,\n",
       " 9.864720055038052,\n",
       " 7.51722710727643,\n",
       " 8.685781515589028,\n",
       " 12.407331324951198,\n",
       " 5.681083705589954,\n",
       " 13.379495442870567,\n",
       " 12.04452985495344,\n",
       " 9.04947635256239,\n",
       " 10.020309270327118,\n",
       " 9.857755642777807,\n",
       " 9.961135975870347,\n",
       " 13.713000805218122,\n",
       " 8.051250062513931,\n",
       " 8.329225622454683,\n",
       " 7.682802005086982,\n",
       " 12.381465024575949,\n",
       " 13.330610491102616,\n",
       " 8.907526925599223,\n",
       " 11.240484429260233,\n",
       " 7.585086756854162,\n",
       " 13.762735267112271,\n",
       " 8.397674625072261,\n",
       " 5.938377588467619,\n",
       " 7.127394615697366,\n",
       " 10.757654599906148,\n",
       " 10.517643768461522,\n",
       " 8.143302357137479,\n",
       " 9.43258310729018,\n",
       " 10.53030152554116,\n",
       " 13.340835430002127,\n",
       " 13.2741400116298,\n",
       " 7.398267016058593,\n",
       " 6.081691813252734,\n",
       " 13.704062314868274,\n",
       " 12.387050215029715,\n",
       " 7.131468732591636,\n",
       " 8.944544495811748,\n",
       " 5.515683649655995,\n",
       " 13.738310861710405,\n",
       " 8.801048391327189,\n",
       " 7.854866889915698,\n",
       " 7.33768680978104,\n",
       " 8.124256892427473,\n",
       " 7.973393483001478,\n",
       " 11.813851291397928,\n",
       " 13.770554362499837,\n",
       " 10.126789014230742,\n",
       " 6.712169827059422,\n",
       " 11.471015067687334,\n",
       " 6.239428773101955,\n",
       " 6.816491064229998,\n",
       " 10.685637926185318,\n",
       " 11.32417838794431,\n",
       " 9.23847897754932,\n",
       " 13.26510523539854,\n",
       " 5.213062737293801,\n",
       " 6.238204438243036,\n",
       " 9.40796066426495,\n",
       " 11.893697697800219,\n",
       " 12.63570174099911,\n",
       " 5.5331873841995725,\n",
       " 5.760995938697867,\n",
       " 13.792415303289344,\n",
       " 14.131025683364847,\n",
       " 12.748986823255764,\n",
       " 9.527530070066302,\n",
       " 14.182224932583487,\n",
       " 13.733032079753405,\n",
       " 11.909680692138558,\n",
       " 14.214511239714641,\n",
       " 9.624763511392272,\n",
       " 14.401510501272474,\n",
       " 12.569615856934906,\n",
       " 5.063393372188518,\n",
       " 7.164288490917591,\n",
       " 13.745027336407272,\n",
       " 9.836220708069401,\n",
       " 7.267732370826644]"
      ]
     },
     "execution_count": 4,
     "metadata": {},
     "output_type": "execute_result"
    }
   ],
   "source": [
    "kolom_1"
   ]
  },
  {
   "cell_type": "code",
   "execution_count": 5,
   "metadata": {},
   "outputs": [
    {
     "data": {
      "text/plain": [
       "[9.648030646348236,\n",
       " 5.6895275571727915,\n",
       " 12.248305593191416,\n",
       " 7.27447936303972,\n",
       " 13.211529812472731,\n",
       " 8.409740518999705,\n",
       " 10.533536429825848,\n",
       " 10.824329570796333,\n",
       " 5.283917916317388,\n",
       " 12.148003335503496,\n",
       " 5.182838795770466,\n",
       " 6.21142796945215,\n",
       " 11.375012224371577,\n",
       " 13.870955560330147,\n",
       " 9.71298107073098,\n",
       " 8.2876781936112,\n",
       " 14.747046143451087,\n",
       " 14.15509117154177,\n",
       " 7.629844262589342,\n",
       " 9.15371801040965,\n",
       " 5.039417955386333,\n",
       " 14.88574867453163,\n",
       " 6.923206951462218,\n",
       " 14.726181501396546,\n",
       " 9.67882485162984,\n",
       " 7.203138578775007,\n",
       " 10.42516496528168,\n",
       " 7.603918964964874,\n",
       " 7.079450717494642,\n",
       " 8.537292904409538,\n",
       " 6.8365366667823455,\n",
       " 9.08731549080617,\n",
       " 10.716127004733295,\n",
       " 10.082099172635123,\n",
       " 12.298719668778563,\n",
       " 8.100265610767767,\n",
       " 5.367324968920205,\n",
       " 10.885191238347733,\n",
       " 11.491311085105357,\n",
       " 10.980823670522296,\n",
       " 8.910058901674113,\n",
       " 6.0233350314553045,\n",
       " 7.551794034153742,\n",
       " 7.033667123131647,\n",
       " 12.651949748577838,\n",
       " 10.857731393685222,\n",
       " 11.753797043413211,\n",
       " 8.50736833773557,\n",
       " 6.416739319611956,\n",
       " 11.59180428121328,\n",
       " 9.683890785830886,\n",
       " 6.586078796667367,\n",
       " 11.43618722372517,\n",
       " 7.2185296459293795,\n",
       " 13.913323486423623,\n",
       " 10.419226465767018,\n",
       " 14.222478638161014,\n",
       " 14.964116271690099,\n",
       " 13.288639439606392,\n",
       " 10.828272468947556,\n",
       " 14.3313635703744,\n",
       " 12.270227451922988,\n",
       " 13.390553406094282,\n",
       " 8.860999916146254,\n",
       " 14.918548778294555,\n",
       " 11.288392542205825,\n",
       " 10.19314316584859,\n",
       " 13.83858664820335,\n",
       " 5.1507490083360485,\n",
       " 8.82131713682596,\n",
       " 12.998367051944731,\n",
       " 10.47479654811912,\n",
       " 6.685629502805347,\n",
       " 11.529362984136782,\n",
       " 7.1473148465750755,\n",
       " 9.875534385012358,\n",
       " 6.660248299108038,\n",
       " 10.3788179462366,\n",
       " 13.663362024159554,\n",
       " 9.181673231115091,\n",
       " 7.568771612095309,\n",
       " 5.153284046847556,\n",
       " 9.878762756475174,\n",
       " 13.925159013656362,\n",
       " 10.932232801787602,\n",
       " 7.663844365081163,\n",
       " 8.431400209210729,\n",
       " 7.441924634857413,\n",
       " 11.3405925732512,\n",
       " 6.627538203952997,\n",
       " 7.944227032481484,\n",
       " 13.390890467582507,\n",
       " 14.684700261562156,\n",
       " 7.055851268993017,\n",
       " 13.57194231801203,\n",
       " 10.289092716641301,\n",
       " 6.0355058067980245,\n",
       " 6.61262403454028,\n",
       " 12.945237776463713,\n",
       " 12.075074952400353]"
      ]
     },
     "execution_count": 5,
     "metadata": {},
     "output_type": "execute_result"
    }
   ],
   "source": [
    "kolom_2 = [rd.random()*10 + 5 for i in range(100)]\n",
    "kolom_2"
   ]
  },
  {
   "cell_type": "code",
   "execution_count": 6,
   "metadata": {},
   "outputs": [],
   "source": [
    "target = [rd.randint(0, 1) for i in range(100)]"
   ]
  },
  {
   "cell_type": "code",
   "execution_count": 7,
   "metadata": {},
   "outputs": [],
   "source": [
    "dummy = {\n",
    "    'kolom_1': kolom_1,\n",
    "    'kolom_2': kolom_2,\n",
    "    'target': target\n",
    "}"
   ]
  },
  {
   "cell_type": "code",
   "execution_count": 8,
   "metadata": {},
   "outputs": [],
   "source": [
    "data = pd.DataFrame(dummy)"
   ]
  },
  {
   "cell_type": "code",
   "execution_count": 9,
   "metadata": {},
   "outputs": [],
   "source": [
    "test_many = [rd.random()*10+5 for i in range(20)]"
   ]
  },
  {
   "cell_type": "code",
   "execution_count": 10,
   "metadata": {},
   "outputs": [],
   "source": [
    "test = {\n",
    "    'kolom_1': [rd.random()*10 + 5],\n",
    "    'kolom_2': [rd.random()*10 + 5]\n",
    "}"
   ]
  },
  {
   "cell_type": "code",
   "execution_count": 11,
   "metadata": {},
   "outputs": [
    {
     "data": {
      "text/html": [
       "<div>\n",
       "<style scoped>\n",
       "    .dataframe tbody tr th:only-of-type {\n",
       "        vertical-align: middle;\n",
       "    }\n",
       "\n",
       "    .dataframe tbody tr th {\n",
       "        vertical-align: top;\n",
       "    }\n",
       "\n",
       "    .dataframe thead th {\n",
       "        text-align: right;\n",
       "    }\n",
       "</style>\n",
       "<table border=\"1\" class=\"dataframe\">\n",
       "  <thead>\n",
       "    <tr style=\"text-align: right;\">\n",
       "      <th></th>\n",
       "      <th>kolom_1</th>\n",
       "      <th>kolom_2</th>\n",
       "    </tr>\n",
       "  </thead>\n",
       "  <tbody>\n",
       "    <tr>\n",
       "      <th>0</th>\n",
       "      <td>14.885599</td>\n",
       "      <td>10.451508</td>\n",
       "    </tr>\n",
       "  </tbody>\n",
       "</table>\n",
       "</div>"
      ],
      "text/plain": [
       "     kolom_1    kolom_2\n",
       "0  14.885599  10.451508"
      ]
     },
     "execution_count": 11,
     "metadata": {},
     "output_type": "execute_result"
    }
   ],
   "source": [
    "data_test = pd.DataFrame(test)\n",
    "data_test"
   ]
  },
  {
   "cell_type": "code",
   "execution_count": 12,
   "metadata": {},
   "outputs": [],
   "source": [
    "import matplotlib.pyplot as plt"
   ]
  },
  {
   "cell_type": "code",
   "execution_count": 13,
   "metadata": {},
   "outputs": [
    {
     "data": {
      "image/png": "[encoded data removed]",
      "text/plain": [
       "<Figure size 576x432 with 1 Axes>"
      ]
     },
     "metadata": {
      "needs_background": "light"
     },
     "output_type": "display_data"
    }
   ],
   "source": [
    "fig, ax = plt.subplots(1, 1, figsize=(8, 6))\n",
    "ax.scatter(data['kolom_1'][data['target'] == 1], data['kolom_2'][data['target'] == 1], c='b')\n",
    "ax.scatter(data['kolom_1'][data['target'] == 0], data['kolom_2'][data['target'] == 0], c='r')\n",
    "ax.scatter(data_test['kolom_1'], data_test['kolom_2'], marker='x')\n",
    "plt.show()"
   ]
  },
  {
   "cell_type": "code",
   "execution_count": 14,
   "metadata": {},
   "outputs": [],
   "source": [
    "train_arr = np.array(data[['kolom_1', 'kolom_2']])\n",
    "test_arr = np.array(data_test)"
   ]
  },
  {
   "cell_type": "code",
   "execution_count": 15,
   "metadata": {},
   "outputs": [
    {
     "data": {
      "text/plain": [
       "array([[ 8.32812597,  9.64803065],\n",
       "       [ 9.118484  ,  5.68952756],\n",
       "       [ 5.75961847, 12.24830559],\n",
       "       [12.71328834,  7.27447936],\n",
       "       [10.64186644, 13.21152981],\n",
       "       [ 8.0147179 ,  8.40974052],\n",
       "       [ 7.92871393, 10.53353643],\n",
       "       [11.56917535, 10.82432957],\n",
       "       [13.98210553,  5.28391792],\n",
       "       [10.44334819, 12.14800334],\n",
       "       [ 8.39944757,  5.1828388 ],\n",
       "       [ 8.96256049,  6.21142797],\n",
       "       [ 8.50551036, 11.37501222],\n",
       "       [ 5.78764354, 13.87095556],\n",
       "       [ 8.63010285,  9.71298107],\n",
       "       [12.33131336,  8.28767819],\n",
       "       [ 5.08634987, 14.74704614],\n",
       "       [10.08075031, 14.15509117],\n",
       "       [ 6.3779636 ,  7.62984426],\n",
       "       [ 8.52349993,  9.15371801],\n",
       "       [ 6.09332239,  5.03941796],\n",
       "       [12.3049828 , 14.88574867],\n",
       "       [ 9.86472006,  6.92320695],\n",
       "       [ 7.51722711, 14.7261815 ],\n",
       "       [ 8.68578152,  9.67882485],\n",
       "       [12.40733132,  7.20313858],\n",
       "       [ 5.68108371, 10.42516497],\n",
       "       [13.37949544,  7.60391896],\n",
       "       [12.04452985,  7.07945072],\n",
       "       [ 9.04947635,  8.5372929 ],\n",
       "       [10.02030927,  6.83653667],\n",
       "       [ 9.85775564,  9.08731549],\n",
       "       [ 9.96113598, 10.716127  ],\n",
       "       [13.71300081, 10.08209917],\n",
       "       [ 8.05125006, 12.29871967],\n",
       "       [ 8.32922562,  8.10026561],\n",
       "       [ 7.68280201,  5.36732497],\n",
       "       [12.38146502, 10.88519124],\n",
       "       [13.33061049, 11.49131109],\n",
       "       [ 8.90752693, 10.98082367],\n",
       "       [11.24048443,  8.9100589 ],\n",
       "       [ 7.58508676,  6.02333503],\n",
       "       [13.76273527,  7.55179403],\n",
       "       [ 8.39767463,  7.03366712],\n",
       "       [ 5.93837759, 12.65194975],\n",
       "       [ 7.12739462, 10.85773139],\n",
       "       [10.7576546 , 11.75379704],\n",
       "       [10.51764377,  8.50736834],\n",
       "       [ 8.14330236,  6.41673932],\n",
       "       [ 9.43258311, 11.59180428],\n",
       "       [10.53030153,  9.68389079],\n",
       "       [13.34083543,  6.5860788 ],\n",
       "       [13.27414001, 11.43618722],\n",
       "       [ 7.39826702,  7.21852965],\n",
       "       [ 6.08169181, 13.91332349],\n",
       "       [13.70406231, 10.41922647],\n",
       "       [12.38705022, 14.22247864],\n",
       "       [ 7.13146873, 14.96411627],\n",
       "       [ 8.9445445 , 13.28863944],\n",
       "       [ 5.51568365, 10.82827247],\n",
       "       [13.73831086, 14.33136357],\n",
       "       [ 8.80104839, 12.27022745],\n",
       "       [ 7.85486689, 13.39055341],\n",
       "       [ 7.33768681,  8.86099992],\n",
       "       [ 8.12425689, 14.91854878],\n",
       "       [ 7.97339348, 11.28839254],\n",
       "       [11.81385129, 10.19314317],\n",
       "       [13.77055436, 13.83858665],\n",
       "       [10.12678901,  5.15074901],\n",
       "       [ 6.71216983,  8.82131714],\n",
       "       [11.47101507, 12.99836705],\n",
       "       [ 6.23942877, 10.47479655],\n",
       "       [ 6.81649106,  6.6856295 ],\n",
       "       [10.68563793, 11.52936298],\n",
       "       [11.32417839,  7.14731485],\n",
       "       [ 9.23847898,  9.87553439],\n",
       "       [13.26510524,  6.6602483 ],\n",
       "       [ 5.21306274, 10.37881795],\n",
       "       [ 6.23820444, 13.66336202],\n",
       "       [ 9.40796066,  9.18167323],\n",
       "       [11.8936977 ,  7.56877161],\n",
       "       [12.63570174,  5.15328405],\n",
       "       [ 5.53318738,  9.87876276],\n",
       "       [ 5.76099594, 13.92515901],\n",
       "       [13.7924153 , 10.9322328 ],\n",
       "       [14.13102568,  7.66384437],\n",
       "       [12.74898682,  8.43140021],\n",
       "       [ 9.52753007,  7.44192463],\n",
       "       [14.18222493, 11.34059257],\n",
       "       [13.73303208,  6.6275382 ],\n",
       "       [11.90968069,  7.94422703],\n",
       "       [14.21451124, 13.39089047],\n",
       "       [ 9.62476351, 14.68470026],\n",
       "       [14.4015105 ,  7.05585127],\n",
       "       [12.56961586, 13.57194232],\n",
       "       [ 5.06339337, 10.28909272],\n",
       "       [ 7.16428849,  6.03550581],\n",
       "       [13.74502734,  6.61262403],\n",
       "       [ 9.83622071, 12.94523778],\n",
       "       [ 7.26773237, 12.07507495]])"
      ]
     },
     "execution_count": 15,
     "metadata": {},
     "output_type": "execute_result"
    }
   ],
   "source": [
    "train_arr"
   ]
  },
  {
   "cell_type": "code",
   "execution_count": 16,
   "metadata": {},
   "outputs": [
    {
     "data": {
      "text/plain": [
       "array([[14.88559907, 10.45150787]])"
      ]
     },
     "execution_count": 16,
     "metadata": {},
     "output_type": "execute_result"
    }
   ],
   "source": [
    "test_arr"
   ]
  },
  {
   "cell_type": "code",
   "execution_count": 17,
   "metadata": {},
   "outputs": [],
   "source": [
    "delta_sq = (train_arr - test_arr)**2"
   ]
  },
  {
   "cell_type": "code",
   "execution_count": 18,
   "metadata": {},
   "outputs": [
    {
     "data": {
      "text/plain": [
       "array([[4.30004535e+01, 6.45575653e-01],\n",
       "       [3.32596163e+01, 2.26764565e+01],\n",
       "       [8.32835220e+01, 3.22848205e+00],\n",
       "       [4.71893394e+00, 1.00935101e+01],\n",
       "       [1.80092667e+01, 7.61772111e+00],\n",
       "       [4.72090081e+01, 4.16881392e+00],\n",
       "       [4.83982509e+01, 6.72868426e-03],\n",
       "       [1.09986663e+01, 1.38996019e-01],\n",
       "       [8.16300588e-01, 2.67039860e+01],\n",
       "       [1.97335929e+01, 2.87809686e+00],\n",
       "       [4.20701614e+01, 2.77588738e+01],\n",
       "       [3.50823860e+01, 1.79782776e+01],\n",
       "       [4.07055320e+01, 8.52860288e-01],\n",
       "       [8.27727949e+01, 1.16926225e+01],\n",
       "       [3.91312330e+01, 5.45421837e-01],\n",
       "       [6.52437551e+00, 4.68215888e+00],\n",
       "       [9.60252849e+01, 1.84516490e+01],\n",
       "       [2.30865717e+01, 1.37165293e+01],\n",
       "       [7.23798613e+01, 7.96178553e+00],\n",
       "       [4.04763055e+01, 1.68425853e+00],\n",
       "       [7.73041293e+01, 2.92907173e+01],\n",
       "       [6.65958034e+00, 1.96624915e+01],\n",
       "       [2.52092261e+01, 1.24489074e+01],\n",
       "       [5.42929055e+01, 1.82728346e+01],\n",
       "       [3.84377378e+01, 5.97039050e-01],\n",
       "       [6.14181104e+00, 1.05519031e+01],\n",
       "       [8.47231032e+01, 6.93948747e-04],\n",
       "       [2.26834815e+00, 8.10876258e+00],\n",
       "       [8.07167431e+00, 1.13707695e+01],\n",
       "       [3.40603284e+01, 3.66421894e+00],\n",
       "       [2.36710449e+01, 1.30680168e+01],\n",
       "       [2.52792096e+01, 1.86102085e+00],\n",
       "       [2.42503368e+01, 7.00232853e-02],\n",
       "       [1.37498670e+00, 1.36462787e-01],\n",
       "       [4.67083264e+01, 3.41219142e+00],\n",
       "       [4.29860328e+01, 5.52834017e+00],\n",
       "       [5.18802856e+01, 2.58489158e+01],\n",
       "       [6.27068734e+00, 1.88081262e-01],\n",
       "       [2.41798950e+00, 1.08119072e+00],\n",
       "       [3.57373466e+01, 2.80175214e-01],\n",
       "       [1.32868608e+01, 2.37606493e+00],\n",
       "       [5.32974801e+01, 1.96087147e+01],\n",
       "       [1.26082313e+00, 8.40834034e+00],\n",
       "       [4.20931637e+01, 1.16816354e+01],\n",
       "       [8.00527723e+01, 4.84194445e+00],\n",
       "       [6.01897364e+01, 1.65017549e-01],\n",
       "       [1.70399256e+01, 1.69595709e+00],\n",
       "       [1.90790336e+01, 3.77967853e+00],\n",
       "       [4.54585650e+01, 1.62793573e+01],\n",
       "       [2.97353831e+01, 1.30027590e+00],\n",
       "       [1.89686167e+01, 5.89235991e-01],\n",
       "       [2.38629472e+00, 1.49415419e+01],\n",
       "       [2.59680031e+00, 9.69593425e-01],\n",
       "       [5.60601414e+01, 1.04521482e+01],\n",
       "       [7.75087831e+01, 1.19841673e+01],\n",
       "       [1.39602911e+00, 1.04208920e-03],\n",
       "       [6.24274640e+00, 1.42202205e+01],\n",
       "       [6.01265374e+01, 2.03636346e+01],\n",
       "       [3.52961295e+01, 8.04931553e+00],\n",
       "       [8.77953151e+01, 1.41951561e-01],\n",
       "       [1.31627024e+00, 1.50532802e+01],\n",
       "       [3.70217570e+01, 3.30774091e+00],\n",
       "       [4.94311951e+01, 8.63798865e+00],\n",
       "       [5.69709796e+01, 2.52971556e+00],\n",
       "       [4.57157481e+01, 1.99544545e+01],\n",
       "       [4.77785861e+01, 7.00375951e-01],\n",
       "       [9.43563444e+00, 6.67523215e-02],\n",
       "       [1.24332471e+00, 1.14723026e+01],\n",
       "       [2.26462732e+01, 2.80980445e+01],\n",
       "       [6.68049457e+01, 2.65752183e+00],\n",
       "       [1.16593839e+01, 6.48649168e+00],\n",
       "       [7.47562609e+01, 5.42362425e-04],\n",
       "       [6.51105041e+01, 1.41818399e+01],\n",
       "       [1.76396736e+01, 1.16177164e+00],\n",
       "       [1.26837173e+01, 1.09176916e+01],\n",
       "       [3.18899654e+01, 3.31745458e-01],\n",
       "       [2.62600028e+00, 1.43736492e+01],\n",
       "       [9.35579592e+01, 5.28382534e-03],\n",
       "       [7.47774340e+01, 1.03160071e+01],\n",
       "       [3.00045226e+01, 1.61248002e+00],\n",
       "       [8.95147385e+00, 8.31016835e+00],\n",
       "       [5.06203801e+00, 2.80711757e+01],\n",
       "       [8.74676044e+01, 3.28036968e-01],\n",
       "       [8.32583824e+01, 1.20662523e+01],\n",
       "       [1.19505076e+00, 2.31096458e-01],\n",
       "       [5.69381003e-01, 7.77106783e+00],\n",
       "       [4.56511191e+00, 4.08083497e+00],\n",
       "       [2.87089035e+01, 9.05759126e+00],\n",
       "       [4.94735184e-01, 7.90471606e-01],\n",
       "       [1.32841068e+00, 1.46227440e+01],\n",
       "       [8.85609022e+00, 6.28645721e+00],\n",
       "       [4.50358882e-01, 8.63997004e+00],\n",
       "       [2.76763908e+01, 1.79199178e+01],\n",
       "       [2.34341747e-01, 1.15304838e+01],\n",
       "       [5.36377826e+00, 9.73711113e+00],\n",
       "       [9.64757249e+01, 2.63786828e-02],\n",
       "       [5.96186371e+01, 1.95010742e+01],\n",
       "       [1.30090389e+00, 1.47370291e+01],\n",
       "       [2.54962219e+01, 6.21868884e+00],\n",
       "       [5.80318931e+01, 2.63597006e+00]])"
      ]
     },
     "execution_count": 18,
     "metadata": {},
     "output_type": "execute_result"
    }
   ],
   "source": [
    "delta_sq"
   ]
  },
  {
   "cell_type": "code",
   "execution_count": 19,
   "metadata": {},
   "outputs": [
    {
     "data": {
      "text/plain": [
       "2"
      ]
     },
     "execution_count": 19,
     "metadata": {},
     "output_type": "execute_result"
    }
   ],
   "source": [
    "delta_sq.shape[1]"
   ]
  },
  {
   "cell_type": "code",
   "execution_count": 20,
   "metadata": {},
   "outputs": [
    {
     "data": {
      "text/plain": [
       "array([ 6.60651415,  7.47904224,  9.30118294,  3.84869382,  5.06231052,\n",
       "        7.16783245,  6.95736873,  3.33731364,  5.24597813,  4.75517505,\n",
       "        8.35637692,  7.28427509,  6.44657989,  9.71933215,  6.29894077,\n",
       "        3.34761622, 10.69938942,  6.06655594,  8.9633502 ,  6.49311666,\n",
       "       10.32447803,  5.13050405,  6.13662232,  8.5185527 ,  6.24778175,\n",
       "        4.08579418,  9.20455307,  3.22135231,  4.40935866,  6.14203121,\n",
       "        6.06127558,  5.20962863,  4.93156771,  1.22941022,  7.07958458,\n",
       "        6.96522598,  8.81641659,  2.54141075,  1.87060958,  6.00145998,\n",
       "        3.95764143,  8.53851245,  3.10952785,  7.33313024,  9.2138329 ,\n",
       "        7.76883221,  4.32849658,  4.78107855,  7.8573483 ,  5.57096572,\n",
       "        4.42242611,  4.16267182,  1.8884898 ,  8.1555067 ,  9.46007137,\n",
       "        1.18197767,  4.5236011 ,  8.97163151,  6.58372577,  9.37748722,\n",
       "        4.04593011,  6.35055099,  7.62031388,  7.71366937,  8.10371536,\n",
       "        6.96268354,  3.08259416,  3.56589783,  7.1235046 ,  8.33441465,\n",
       "        4.2597976 ,  8.64620167,  8.90462486,  4.33606334,  4.85812812,\n",
       "        5.67641708,  4.12306311,  9.67280947,  9.22461062,  5.62289984,\n",
       "        4.15471325,  5.75614573,  9.36993284,  9.76343355,  1.19421406,\n",
       "        2.88798352,  2.9403991 ,  6.14544504,  1.13366961,  3.99388967,\n",
       "        3.89134263,  3.01501723,  6.75250388,  3.42998914,  3.88598628,\n",
       "        9.82354842,  8.89492616,  4.00473882,  5.6315993 ,  7.78895777])"
      ]
     },
     "execution_count": 20,
     "metadata": {},
     "output_type": "execute_result"
    }
   ],
   "source": [
    "(delta_sq[:, 0] + delta_sq[:, 1])**0.5"
   ]
  },
  {
   "cell_type": "code",
   "execution_count": 21,
   "metadata": {},
   "outputs": [
    {
     "data": {
      "text/plain": [
       "array([ True,  True,  True,  True,  True,  True,  True,  True,  True,\n",
       "        True,  True,  True,  True,  True,  True,  True,  True,  True,\n",
       "        True,  True,  True,  True,  True,  True,  True,  True,  True,\n",
       "        True,  True,  True,  True,  True,  True,  True,  True,  True,\n",
       "        True,  True,  True,  True,  True,  True,  True,  True,  True,\n",
       "        True,  True,  True,  True,  True,  True,  True,  True,  True,\n",
       "        True,  True,  True,  True,  True,  True,  True,  True,  True,\n",
       "        True,  True,  True,  True,  True,  True,  True,  True,  True,\n",
       "        True,  True,  True,  True,  True,  True,  True,  True,  True,\n",
       "        True,  True,  True,  True,  True,  True,  True,  True,  True,\n",
       "        True,  True,  True,  True,  True,  True,  True,  True,  True,\n",
       "        True])"
      ]
     },
     "execution_count": 21,
     "metadata": {},
     "output_type": "execute_result"
    }
   ],
   "source": [
    "np.sum(delta_sq, axis=1) == delta_sq[:, 0] + delta_sq[:, 1]"
   ]
  },
  {
   "cell_type": "code",
   "execution_count": 22,
   "metadata": {},
   "outputs": [
    {
     "data": {
      "text/plain": [
       "(1, 2)"
      ]
     },
     "execution_count": 22,
     "metadata": {},
     "output_type": "execute_result"
    }
   ],
   "source": [
    "test_arr.shape"
   ]
  },
  {
   "cell_type": "code",
   "execution_count": 23,
   "metadata": {},
   "outputs": [],
   "source": [
    "def calc_dist(X_target:np.ndarray, X_train:np.ndarray) -> np.ndarray:\n",
    "    delta_squared = (X_train - X_target)**2\n",
    "    row_sum = np.sum(delta_squared, axis=1)\n",
    "    return row_sum**0.5"
   ]
  },
  {
   "cell_type": "code",
   "execution_count": 24,
   "metadata": {},
   "outputs": [],
   "source": [
    "dist = calc_dist(test_arr, train_arr)"
   ]
  },
  {
   "cell_type": "code",
   "execution_count": 25,
   "metadata": {},
   "outputs": [
    {
     "data": {
      "text/plain": [
       "[0.6666666666666666, 0.3333333333333333]"
      ]
     },
     "execution_count": 25,
     "metadata": {},
     "output_type": "execute_result"
    }
   ],
   "source": [
    "list(data['target'][list(dist.argsort())[:3]].value_counts(normalize=True))"
   ]
  },
  {
   "cell_type": "code",
   "execution_count": 26,
   "metadata": {},
   "outputs": [
    {
     "data": {
      "text/plain": [
       "6.493116664760799"
      ]
     },
     "execution_count": 26,
     "metadata": {},
     "output_type": "execute_result"
    }
   ],
   "source": [
    "dist[19]"
   ]
  },
  {
   "cell_type": "code",
   "execution_count": 27,
   "metadata": {},
   "outputs": [
    {
     "data": {
      "text/plain": [
       "(1, 2)"
      ]
     },
     "execution_count": 27,
     "metadata": {},
     "output_type": "execute_result"
    }
   ],
   "source": [
    "test_arr.shape"
   ]
  },
  {
   "cell_type": "code",
   "execution_count": 28,
   "metadata": {},
   "outputs": [
    {
     "data": {
      "text/plain": [
       "array([[4.30004535e+01, 6.45575653e-01],\n",
       "       [3.32596163e+01, 2.26764565e+01],\n",
       "       [8.32835220e+01, 3.22848205e+00],\n",
       "       [4.71893394e+00, 1.00935101e+01],\n",
       "       [1.80092667e+01, 7.61772111e+00],\n",
       "       [4.72090081e+01, 4.16881392e+00],\n",
       "       [4.83982509e+01, 6.72868426e-03],\n",
       "       [1.09986663e+01, 1.38996019e-01],\n",
       "       [8.16300588e-01, 2.67039860e+01],\n",
       "       [1.97335929e+01, 2.87809686e+00],\n",
       "       [4.20701614e+01, 2.77588738e+01],\n",
       "       [3.50823860e+01, 1.79782776e+01],\n",
       "       [4.07055320e+01, 8.52860288e-01],\n",
       "       [8.27727949e+01, 1.16926225e+01],\n",
       "       [3.91312330e+01, 5.45421837e-01],\n",
       "       [6.52437551e+00, 4.68215888e+00],\n",
       "       [9.60252849e+01, 1.84516490e+01],\n",
       "       [2.30865717e+01, 1.37165293e+01],\n",
       "       [7.23798613e+01, 7.96178553e+00],\n",
       "       [4.04763055e+01, 1.68425853e+00],\n",
       "       [7.73041293e+01, 2.92907173e+01],\n",
       "       [6.65958034e+00, 1.96624915e+01],\n",
       "       [2.52092261e+01, 1.24489074e+01],\n",
       "       [5.42929055e+01, 1.82728346e+01],\n",
       "       [3.84377378e+01, 5.97039050e-01],\n",
       "       [6.14181104e+00, 1.05519031e+01],\n",
       "       [8.47231032e+01, 6.93948747e-04],\n",
       "       [2.26834815e+00, 8.10876258e+00],\n",
       "       [8.07167431e+00, 1.13707695e+01],\n",
       "       [3.40603284e+01, 3.66421894e+00],\n",
       "       [2.36710449e+01, 1.30680168e+01],\n",
       "       [2.52792096e+01, 1.86102085e+00],\n",
       "       [2.42503368e+01, 7.00232853e-02],\n",
       "       [1.37498670e+00, 1.36462787e-01],\n",
       "       [4.67083264e+01, 3.41219142e+00],\n",
       "       [4.29860328e+01, 5.52834017e+00],\n",
       "       [5.18802856e+01, 2.58489158e+01],\n",
       "       [6.27068734e+00, 1.88081262e-01],\n",
       "       [2.41798950e+00, 1.08119072e+00],\n",
       "       [3.57373466e+01, 2.80175214e-01],\n",
       "       [1.32868608e+01, 2.37606493e+00],\n",
       "       [5.32974801e+01, 1.96087147e+01],\n",
       "       [1.26082313e+00, 8.40834034e+00],\n",
       "       [4.20931637e+01, 1.16816354e+01],\n",
       "       [8.00527723e+01, 4.84194445e+00],\n",
       "       [6.01897364e+01, 1.65017549e-01],\n",
       "       [1.70399256e+01, 1.69595709e+00],\n",
       "       [1.90790336e+01, 3.77967853e+00],\n",
       "       [4.54585650e+01, 1.62793573e+01],\n",
       "       [2.97353831e+01, 1.30027590e+00],\n",
       "       [1.89686167e+01, 5.89235991e-01],\n",
       "       [2.38629472e+00, 1.49415419e+01],\n",
       "       [2.59680031e+00, 9.69593425e-01],\n",
       "       [5.60601414e+01, 1.04521482e+01],\n",
       "       [7.75087831e+01, 1.19841673e+01],\n",
       "       [1.39602911e+00, 1.04208920e-03],\n",
       "       [6.24274640e+00, 1.42202205e+01],\n",
       "       [6.01265374e+01, 2.03636346e+01],\n",
       "       [3.52961295e+01, 8.04931553e+00],\n",
       "       [8.77953151e+01, 1.41951561e-01],\n",
       "       [1.31627024e+00, 1.50532802e+01],\n",
       "       [3.70217570e+01, 3.30774091e+00],\n",
       "       [4.94311951e+01, 8.63798865e+00],\n",
       "       [5.69709796e+01, 2.52971556e+00],\n",
       "       [4.57157481e+01, 1.99544545e+01],\n",
       "       [4.77785861e+01, 7.00375951e-01],\n",
       "       [9.43563444e+00, 6.67523215e-02],\n",
       "       [1.24332471e+00, 1.14723026e+01],\n",
       "       [2.26462732e+01, 2.80980445e+01],\n",
       "       [6.68049457e+01, 2.65752183e+00],\n",
       "       [1.16593839e+01, 6.48649168e+00],\n",
       "       [7.47562609e+01, 5.42362425e-04],\n",
       "       [6.51105041e+01, 1.41818399e+01],\n",
       "       [1.76396736e+01, 1.16177164e+00],\n",
       "       [1.26837173e+01, 1.09176916e+01],\n",
       "       [3.18899654e+01, 3.31745458e-01],\n",
       "       [2.62600028e+00, 1.43736492e+01],\n",
       "       [9.35579592e+01, 5.28382534e-03],\n",
       "       [7.47774340e+01, 1.03160071e+01],\n",
       "       [3.00045226e+01, 1.61248002e+00],\n",
       "       [8.95147385e+00, 8.31016835e+00],\n",
       "       [5.06203801e+00, 2.80711757e+01],\n",
       "       [8.74676044e+01, 3.28036968e-01],\n",
       "       [8.32583824e+01, 1.20662523e+01],\n",
       "       [1.19505076e+00, 2.31096458e-01],\n",
       "       [5.69381003e-01, 7.77106783e+00],\n",
       "       [4.56511191e+00, 4.08083497e+00],\n",
       "       [2.87089035e+01, 9.05759126e+00],\n",
       "       [4.94735184e-01, 7.90471606e-01],\n",
       "       [1.32841068e+00, 1.46227440e+01],\n",
       "       [8.85609022e+00, 6.28645721e+00],\n",
       "       [4.50358882e-01, 8.63997004e+00],\n",
       "       [2.76763908e+01, 1.79199178e+01],\n",
       "       [2.34341747e-01, 1.15304838e+01],\n",
       "       [5.36377826e+00, 9.73711113e+00],\n",
       "       [9.64757249e+01, 2.63786828e-02],\n",
       "       [5.96186371e+01, 1.95010742e+01],\n",
       "       [1.30090389e+00, 1.47370291e+01],\n",
       "       [2.54962219e+01, 6.21868884e+00],\n",
       "       [5.80318931e+01, 2.63597006e+00]])"
      ]
     },
     "execution_count": 28,
     "metadata": {},
     "output_type": "execute_result"
    }
   ],
   "source": [
    "delta_sq"
   ]
  },
  {
   "cell_type": "code",
   "execution_count": 29,
   "metadata": {},
   "outputs": [
    {
     "data": {
      "text/plain": [
       "['yes',\n",
       " 'no',\n",
       " 'yes',\n",
       " 'yes',\n",
       " 'yes',\n",
       " 'yes',\n",
       " 'no',\n",
       " 'yes',\n",
       " 'no',\n",
       " 'no',\n",
       " 'no',\n",
       " 'no',\n",
       " 'no',\n",
       " 'no',\n",
       " 'no',\n",
       " 'yes',\n",
       " 'yes',\n",
       " 'no',\n",
       " 'yes',\n",
       " 'no']"
      ]
     },
     "execution_count": 29,
     "metadata": {},
     "output_type": "execute_result"
    }
   ],
   "source": [
    "choiche = [rd.choice(['yes', 'no']) for i in range(20)]\n",
    "choiche"
   ]
  },
  {
   "cell_type": "code",
   "execution_count": 30,
   "metadata": {},
   "outputs": [],
   "source": [
    "df = pd.DataFrame(np.array(choiche), columns=['choice'])"
   ]
  },
  {
   "cell_type": "code",
   "execution_count": 31,
   "metadata": {},
   "outputs": [],
   "source": [
    "dfi = pd.DataFrame(df.value_counts(normalize=True)).reset_index()\n",
    "dfarr = np.array(dfi).T"
   ]
  },
  {
   "cell_type": "code",
   "execution_count": 32,
   "metadata": {},
   "outputs": [
    {
     "data": {
      "text/plain": [
       "array(['no', 0.55], dtype=object)"
      ]
     },
     "execution_count": 32,
     "metadata": {},
     "output_type": "execute_result"
    }
   ],
   "source": [
    "dfarr[:, 0]"
   ]
  },
  {
   "cell_type": "code",
   "execution_count": 33,
   "metadata": {},
   "outputs": [
    {
     "data": {
      "text/plain": [
       "array([[ 0.33679108, -0.97038192],\n",
       "       [-0.0097889 ,  1.80370211],\n",
       "       [ 1.77006675, -0.64514756],\n",
       "       [-1.02526927,  0.21928291],\n",
       "       [-0.55239789, -0.09246345],\n",
       "       [ 0.48653188, -0.52674287],\n",
       "       [ 0.52884526, -1.05082424],\n",
       "       [-0.80183576, -1.03416941],\n",
       "       [-1.16412537,  2.31084048],\n",
       "       [-0.49104618, -0.68926736],\n",
       "       [ 0.30369119,  2.44366983],\n",
       "       [ 0.05506543,  1.2121169 ],\n",
       "       [ 0.25513754, -0.94428106],\n",
       "       [ 1.75189502,  0.42063991],\n",
       "       [ 0.19912382, -0.98299309],\n",
       "       [-0.96103148, -0.46210351],\n",
       "       [ 2.22341997,  1.27172288],\n",
       "       [-0.37174686,  0.67548616],\n",
       "       [ 1.38211339, -0.04913955],\n",
       "       [ 0.24698164, -0.83959307],\n",
       "       [ 1.55731935,  2.63655646],\n",
       "       [-0.95622088,  1.42418972],\n",
       "       [-0.2962226 ,  0.51586977],\n",
       "       [ 0.73857767,  1.24920693],\n",
       "       [ 0.17444919, -0.97649355],\n",
       "       [-0.97464316,  0.27700282],\n",
       "       [ 1.82128719, -1.05158412],\n",
       "       [-1.11246137, -0.03063249],\n",
       "       [-0.90597843,  0.38011282],\n",
       "       [ 0.01870052, -0.59028045],\n",
       "       [-0.35095124,  0.59382678],\n",
       "       [-0.29373258, -0.81733552],\n",
       "       [-0.33033998, -1.04285431],\n",
       "       [-1.14424726, -1.03448838],\n",
       "       [ 0.46871757, -0.62201525],\n",
       "       [ 0.33627799, -0.35555407],\n",
       "       [ 0.65273641,  2.20317177],\n",
       "       [-0.97005773, -1.02798869],\n",
       "       [-1.10713711, -0.91553015],\n",
       "       [ 0.078369  , -1.01639241],\n",
       "       [-0.72042157, -0.75248221],\n",
       "       [ 0.70316033,  1.41741825],\n",
       "       [-1.14830921,  0.00708973],\n",
       "       [ 0.30450961,  0.41925643],\n",
       "       [ 1.65511634, -0.44198364],\n",
       "       [ 0.94838751, -1.03089283],\n",
       "       [-0.58688714, -0.83812001],\n",
       "       [-0.51433547, -0.57574202],\n",
       "       [ 0.42425094,  0.99819229],\n",
       "       [-0.13518147, -0.88794339],\n",
       "       [-0.51826411, -0.9774761 ],\n",
       "       [-1.10826482,  0.82973728],\n",
       "       [-1.10077501, -0.92958226],\n",
       "       [ 0.8014561 ,  0.26444189],\n",
       "       [ 1.56460095,  0.45735065],\n",
       "       [-1.14349857, -1.05154029],\n",
       "       [-0.97105187,  0.73890995],\n",
       "       [ 0.94613888,  1.51247624],\n",
       "       [ 0.06267045, -0.03811795],\n",
       "       [ 1.9305968 , -1.03379725],\n",
       "       [-1.14633639,  0.84380714],\n",
       "       [ 0.12406845, -0.63516745],\n",
       "       [ 0.56559752,  0.03600658],\n",
       "       [ 0.83386381, -0.73313483],\n",
       "       [ 0.43340154,  1.4609531 ],\n",
       "       [ 0.50679752, -0.96348158],\n",
       "       [-0.85744859, -1.04326619],\n",
       "       [-1.1489318 ,  0.39289768],\n",
       "       [-0.38741272,  2.48637752],\n",
       "       [ 1.18375733, -0.71704172],\n",
       "       [-0.77832736, -0.23490557],\n",
       "       [ 1.46666593, -1.05160321],\n",
       "       [ 1.12346892,  0.73407714],\n",
       "       [-0.56554804, -0.90538356],\n",
       "       [-0.74188147,  0.32306217],\n",
       "       [-0.05852122, -1.00989879],\n",
       "       [-1.09973607,  0.75822937],\n",
       "       [ 2.13563227, -1.05100617],\n",
       "       [ 1.46741927,  0.24729928],\n",
       "       [-0.12560546, -0.84863128],\n",
       "       [-0.87467508, -0.00527189],\n",
       "       [-1.0130616 ,  2.48299425],\n",
       "       [ 1.91893682, -1.01036575],\n",
       "       [ 1.76917228,  0.46768661],\n",
       "       [-1.1506494 , -1.0225723 ],\n",
       "       [-1.17291079, -0.07315434],\n",
       "       [-1.03074228, -0.53782101],\n",
       "       [-0.17170372,  0.0888421 ],\n",
       "       [-1.1755667 , -0.95213692],\n",
       "       [-1.14590444,  0.78959489],\n",
       "       [-0.87806883, -0.26009351],\n",
       "       [-1.17714561,  0.03625608],\n",
       "       [-0.20844063,  1.20476836],\n",
       "       [-1.18483152,  0.40022373],\n",
       "       [-1.00232565,  0.17440587],\n",
       "       [ 2.23944666, -1.04834995],\n",
       "       [ 0.92806774,  1.40386438],\n",
       "       [-1.14688313,  0.80398544],\n",
       "       [-0.28601126, -0.26862676],\n",
       "       [ 0.87161123, -0.71975548]])"
      ]
     },
     "execution_count": 33,
     "metadata": {},
     "output_type": "execute_result"
    }
   ],
   "source": [
    "(delta_sq - np.mean(delta_sq, axis=0))/np.std(delta_sq, axis=0)"
   ]
  },
  {
   "cell_type": "code",
   "execution_count": 39,
   "metadata": {},
   "outputs": [],
   "source": [
    "from neighbors._base import NearestNeighbors"
   ]
  },
  {
   "cell_type": "code",
   "execution_count": 40,
   "metadata": {},
   "outputs": [],
   "source": [
    "knn = NearestNeighbors()"
   ]
  },
  {
   "cell_type": "code",
   "execution_count": 36,
   "metadata": {},
   "outputs": [],
   "source": [
    "def func(x):\n",
    "    if not x:\n",
    "        return\n",
    "    print(\"true\")"
   ]
  },
  {
   "cell_type": "code",
   "execution_count": 37,
   "metadata": {},
   "outputs": [],
   "source": [
    "x = func(False)"
   ]
  },
  {
   "cell_type": "code",
   "execution_count": 38,
   "metadata": {},
   "outputs": [],
   "source": [
    "x"
   ]
  },
  {
   "cell_type": "code",
   "execution_count": 41,
   "metadata": {},
   "outputs": [],
   "source": [
    "knn.fit(delta_sq, choiche)"
   ]
  },
  {
   "cell_type": "code",
   "execution_count": 43,
   "metadata": {},
   "outputs": [
    {
     "data": {
      "text/plain": [
       "array([['yes'],\n",
       "       ['no'],\n",
       "       ['yes'],\n",
       "       ['yes'],\n",
       "       ['yes'],\n",
       "       ['yes'],\n",
       "       ['no'],\n",
       "       ['yes'],\n",
       "       ['no'],\n",
       "       ['no'],\n",
       "       ['no'],\n",
       "       ['no'],\n",
       "       ['no'],\n",
       "       ['no'],\n",
       "       ['no'],\n",
       "       ['yes'],\n",
       "       ['yes'],\n",
       "       ['no'],\n",
       "       ['yes'],\n",
       "       ['no']], dtype='<U3')"
      ]
     },
     "execution_count": 43,
     "metadata": {},
     "output_type": "execute_result"
    }
   ],
   "source": [
    "knn._output_data"
   ]
  }
 ],
 "metadata": {
  "kernelspec": {
   "display_name": "Python 3",
   "language": "python",
   "name": "python3"
  },
  "language_info": {
   "codemirror_mode": {
    "name": "ipython",
    "version": 3
   },
   "file_extension": ".py",
   "mimetype": "text/x-python",
   "name": "python",
   "nbconvert_exporter": "python",
   "pygments_lexer": "ipython3",
   "version": "3.10.7"
  },
  "orig_nbformat": 4
 },
 "nbformat": 4,
 "nbformat_minor": 2
}
