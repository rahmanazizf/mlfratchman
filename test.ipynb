{
 "cells": [
  {
   "cell_type": "code",
   "execution_count": 1,
   "metadata": {},
   "outputs": [],
   "source": [
    "import numpy as np\n",
    "import pandas as pd"
   ]
  },
  {
   "cell_type": "code",
   "execution_count": 2,
   "metadata": {},
   "outputs": [],
   "source": [
    "import random as rd"
   ]
  },
  {
   "cell_type": "code",
   "execution_count": 3,
   "metadata": {},
   "outputs": [],
   "source": [
    "kolom_1 = [rd.random()*10 + 5 for i in range(100)]"
   ]
  },
  {
   "cell_type": "code",
   "execution_count": 4,
   "metadata": {},
   "outputs": [
    {
     "data": {
      "text/plain": [
       "[13.474051460413188,\n",
       " 6.8498657816738,\n",
       " 13.944442429684784,\n",
       " 8.261930171707979,\n",
       " 7.909215550062999,\n",
       " 12.770271247229608,\n",
       " 6.252944883761535,\n",
       " 10.662921590857504,\n",
       " 13.910210544599023,\n",
       " 11.649057360969843,\n",
       " 8.24426652509172,\n",
       " 12.196942163815056,\n",
       " 8.068544257616459,\n",
       " 10.4406752468212,\n",
       " 11.884524803755095,\n",
       " 10.065074581341214,\n",
       " 8.895882227314601,\n",
       " 14.507125709005429,\n",
       " 14.015917419963365,\n",
       " 14.78029305259639,\n",
       " 9.254570484685178,\n",
       " 12.35676822907341,\n",
       " 6.544669208277247,\n",
       " 11.069935066112397,\n",
       " 5.07510059696095,\n",
       " 8.642995822735887,\n",
       " 11.163288270288072,\n",
       " 6.438212694074283,\n",
       " 14.658089402319844,\n",
       " 14.167756449041573,\n",
       " 9.070248769875109,\n",
       " 7.810732506326511,\n",
       " 11.303950665092096,\n",
       " 9.156962968250156,\n",
       " 12.680733239030609,\n",
       " 13.830285962290176,\n",
       " 7.62849485505366,\n",
       " 14.191072415232531,\n",
       " 11.281023811434494,\n",
       " 13.091707147813208,\n",
       " 11.053255383470807,\n",
       " 12.047484381154026,\n",
       " 7.880959519012637,\n",
       " 7.305582823247992,\n",
       " 9.767041225253577,\n",
       " 7.5610171443012835,\n",
       " 7.696639660554658,\n",
       " 7.152271733926719,\n",
       " 13.806706582917013,\n",
       " 8.91078205141399,\n",
       " 14.332057343171009,\n",
       " 9.842702215322628,\n",
       " 13.130075743446808,\n",
       " 5.471366247255167,\n",
       " 9.58192574264153,\n",
       " 6.9210999739662995,\n",
       " 7.29126040187767,\n",
       " 9.082272891245587,\n",
       " 10.528879296858516,\n",
       " 12.053121514793318,\n",
       " 9.309048635785,\n",
       " 14.804192021405271,\n",
       " 6.744198803300256,\n",
       " 6.593539639486279,\n",
       " 10.396926327483147,\n",
       " 12.815059739368227,\n",
       " 13.806943257109113,\n",
       " 6.534476169271899,\n",
       " 5.53112709247249,\n",
       " 5.4276803356346095,\n",
       " 10.034082835098657,\n",
       " 9.16404064439608,\n",
       " 5.521161927142791,\n",
       " 10.689559059199096,\n",
       " 14.534675551515976,\n",
       " 7.558713670375062,\n",
       " 11.815909319773562,\n",
       " 5.651413567498199,\n",
       " 13.471591541615558,\n",
       " 14.32048234282917,\n",
       " 9.577158342315055,\n",
       " 9.716623828799957,\n",
       " 7.433177797459588,\n",
       " 8.941685036019189,\n",
       " 6.334884827242569,\n",
       " 9.460845378188498,\n",
       " 10.89067629623757,\n",
       " 5.858378429788296,\n",
       " 5.232814679983882,\n",
       " 14.770078997899027,\n",
       " 13.191353775716696,\n",
       " 8.697961481948413,\n",
       " 11.542486926005934,\n",
       " 10.887668065991067,\n",
       " 11.393955806421914,\n",
       " 7.238582085655528,\n",
       " 6.5838511979372605,\n",
       " 6.729195199343133,\n",
       " 6.574545491967795,\n",
       " 13.375886676221548]"
      ]
     },
     "execution_count": 4,
     "metadata": {},
     "output_type": "execute_result"
    }
   ],
   "source": [
    "kolom_1"
   ]
  },
  {
   "cell_type": "code",
   "execution_count": 5,
   "metadata": {},
   "outputs": [
    {
     "data": {
      "text/plain": [
       "[12.349602678410765,\n",
       " 9.825687420262806,\n",
       " 5.858034111706432,\n",
       " 6.269234019294593,\n",
       " 12.984634352886841,\n",
       " 12.555046761949837,\n",
       " 10.58237374017003,\n",
       " 8.292447291679776,\n",
       " 11.73517376700654,\n",
       " 8.173716235448826,\n",
       " 7.256273669240266,\n",
       " 11.166502554930188,\n",
       " 11.009674055335832,\n",
       " 13.401196894760925,\n",
       " 8.688013012996802,\n",
       " 8.48252808522422,\n",
       " 14.7270371415615,\n",
       " 14.789199228421655,\n",
       " 8.440792665804896,\n",
       " 12.116726796616256,\n",
       " 7.11275750859012,\n",
       " 13.603799835323226,\n",
       " 14.565728525094672,\n",
       " 8.442994715123596,\n",
       " 10.138061427232511,\n",
       " 7.797532984790876,\n",
       " 10.449781229875533,\n",
       " 9.096377699978499,\n",
       " 5.730625433261478,\n",
       " 10.409726549905752,\n",
       " 12.042985896192572,\n",
       " 12.916588033026043,\n",
       " 7.076113386911103,\n",
       " 9.807687195332496,\n",
       " 7.490047366067203,\n",
       " 11.273966538843414,\n",
       " 7.534486813659823,\n",
       " 8.395861287330574,\n",
       " 7.436179238831043,\n",
       " 12.01835824940057,\n",
       " 8.970775451659652,\n",
       " 9.358977765641896,\n",
       " 11.711109648530936,\n",
       " 13.172662519809235,\n",
       " 10.668622830043814,\n",
       " 9.178621022249164,\n",
       " 12.644919887484356,\n",
       " 14.739339359105822,\n",
       " 6.811268536586866,\n",
       " 13.370675754504278,\n",
       " 14.205126704613942,\n",
       " 9.387534116718978,\n",
       " 8.671160679853504,\n",
       " 6.3452656843788375,\n",
       " 9.474570811617186,\n",
       " 11.036229033501979,\n",
       " 5.326360668642622,\n",
       " 11.017993123894806,\n",
       " 11.901720817780996,\n",
       " 9.95814787272229,\n",
       " 8.210164042408092,\n",
       " 7.3552846771767495,\n",
       " 5.801908293084686,\n",
       " 9.981309113391484,\n",
       " 5.91490330090505,\n",
       " 5.577236625888844,\n",
       " 12.211715959360252,\n",
       " 5.398169888630724,\n",
       " 11.237268817248909,\n",
       " 8.333800003452053,\n",
       " 12.276277551853292,\n",
       " 8.062126072171719,\n",
       " 5.0419759553329815,\n",
       " 11.880266076787542,\n",
       " 14.565326492692249,\n",
       " 11.314549178111193,\n",
       " 8.164049531377817,\n",
       " 13.611056412414216,\n",
       " 11.791311404080366,\n",
       " 9.861668871349902,\n",
       " 10.066529307498104,\n",
       " 6.776397753247937,\n",
       " 7.515711383192954,\n",
       " 13.383687995764266,\n",
       " 12.719038746995798,\n",
       " 12.795991699812596,\n",
       " 10.861458173148147,\n",
       " 10.569979993265228,\n",
       " 10.529113458265208,\n",
       " 14.537729179300285,\n",
       " 5.885930180698095,\n",
       " 14.580270299092883,\n",
       " 13.50882990498529,\n",
       " 13.225616397212859,\n",
       " 8.919770205221468,\n",
       " 12.83624078862869,\n",
       " 10.756701991837867,\n",
       " 11.95798158314267,\n",
       " 6.302148476539059,\n",
       " 8.072781205490822]"
      ]
     },
     "execution_count": 5,
     "metadata": {},
     "output_type": "execute_result"
    }
   ],
   "source": [
    "kolom_2 = [rd.random()*10 + 5 for i in range(100)]\n",
    "kolom_2"
   ]
  },
  {
   "cell_type": "code",
   "execution_count": 6,
   "metadata": {},
   "outputs": [],
   "source": [
    "target = [rd.randint(0, 1) for i in range(100)]"
   ]
  },
  {
   "cell_type": "code",
   "execution_count": 7,
   "metadata": {},
   "outputs": [],
   "source": [
    "dummy = {\n",
    "    'kolom_1': kolom_1,\n",
    "    'kolom_2': kolom_2,\n",
    "    'target': target\n",
    "}"
   ]
  },
  {
   "cell_type": "code",
   "execution_count": 8,
   "metadata": {},
   "outputs": [],
   "source": [
    "data = pd.DataFrame(dummy)"
   ]
  },
  {
   "cell_type": "code",
   "execution_count": 9,
   "metadata": {},
   "outputs": [],
   "source": [
    "test_many = [rd.random()*10+5 for i in range(20)]"
   ]
  },
  {
   "cell_type": "code",
   "execution_count": 10,
   "metadata": {},
   "outputs": [],
   "source": [
    "test = {\n",
    "    'kolom_1': [rd.random()*10 + 5],\n",
    "    'kolom_2': [rd.random()*10 + 5]\n",
    "}"
   ]
  },
  {
   "cell_type": "code",
   "execution_count": 11,
   "metadata": {},
   "outputs": [
    {
     "data": {
      "text/html": [
       "<div>\n",
       "<style scoped>\n",
       "    .dataframe tbody tr th:only-of-type {\n",
       "        vertical-align: middle;\n",
       "    }\n",
       "\n",
       "    .dataframe tbody tr th {\n",
       "        vertical-align: top;\n",
       "    }\n",
       "\n",
       "    .dataframe thead th {\n",
       "        text-align: right;\n",
       "    }\n",
       "</style>\n",
       "<table border=\"1\" class=\"dataframe\">\n",
       "  <thead>\n",
       "    <tr style=\"text-align: right;\">\n",
       "      <th></th>\n",
       "      <th>kolom_1</th>\n",
       "      <th>kolom_2</th>\n",
       "    </tr>\n",
       "  </thead>\n",
       "  <tbody>\n",
       "    <tr>\n",
       "      <th>0</th>\n",
       "      <td>9.152219</td>\n",
       "      <td>14.19767</td>\n",
       "    </tr>\n",
       "  </tbody>\n",
       "</table>\n",
       "</div>"
      ],
      "text/plain": [
       "    kolom_1   kolom_2\n",
       "0  9.152219  14.19767"
      ]
     },
     "execution_count": 11,
     "metadata": {},
     "output_type": "execute_result"
    }
   ],
   "source": [
    "data_test = pd.DataFrame(test)\n",
    "data_test"
   ]
  },
  {
   "cell_type": "code",
   "execution_count": 12,
   "metadata": {},
   "outputs": [],
   "source": [
    "import matplotlib.pyplot as plt"
   ]
  },
  {
   "cell_type": "code",
   "execution_count": 13,
   "metadata": {},
   "outputs": [
    {
     "data": {
      "image/png": "[encoded data removed]",
      "text/plain": [
       "<Figure size 576x432 with 1 Axes>"
      ]
     },
     "metadata": {
      "needs_background": "light"
     },
     "output_type": "display_data"
    }
   ],
   "source": [
    "fig, ax = plt.subplots(1, 1, figsize=(8, 6))\n",
    "ax.scatter(data['kolom_1'][data['target'] == 1], data['kolom_2'][data['target'] == 1], c='b')\n",
    "ax.scatter(data['kolom_1'][data['target'] == 0], data['kolom_2'][data['target'] == 0], c='r')\n",
    "ax.scatter(data_test['kolom_1'], data_test['kolom_2'], marker='x')\n",
    "plt.show()"
   ]
  },
  {
   "cell_type": "code",
   "execution_count": 14,
   "metadata": {},
   "outputs": [],
   "source": [
    "train_arr = np.array(data[['kolom_1', 'kolom_2']])\n",
    "test_arr = np.array(data_test)"
   ]
  },
  {
   "cell_type": "code",
   "execution_count": 15,
   "metadata": {},
   "outputs": [
    {
     "data": {
      "text/plain": [
       "array([[13.47405146, 12.34960268],\n",
       "       [ 6.84986578,  9.82568742],\n",
       "       [13.94444243,  5.85803411],\n",
       "       [ 8.26193017,  6.26923402],\n",
       "       [ 7.90921555, 12.98463435],\n",
       "       [12.77027125, 12.55504676],\n",
       "       [ 6.25294488, 10.58237374],\n",
       "       [10.66292159,  8.29244729],\n",
       "       [13.91021054, 11.73517377],\n",
       "       [11.64905736,  8.17371624],\n",
       "       [ 8.24426653,  7.25627367],\n",
       "       [12.19694216, 11.16650255],\n",
       "       [ 8.06854426, 11.00967406],\n",
       "       [10.44067525, 13.40119689],\n",
       "       [11.8845248 ,  8.68801301],\n",
       "       [10.06507458,  8.48252809],\n",
       "       [ 8.89588223, 14.72703714],\n",
       "       [14.50712571, 14.78919923],\n",
       "       [14.01591742,  8.44079267],\n",
       "       [14.78029305, 12.1167268 ],\n",
       "       [ 9.25457048,  7.11275751],\n",
       "       [12.35676823, 13.60379984],\n",
       "       [ 6.54466921, 14.56572853],\n",
       "       [11.06993507,  8.44299472],\n",
       "       [ 5.0751006 , 10.13806143],\n",
       "       [ 8.64299582,  7.79753298],\n",
       "       [11.16328827, 10.44978123],\n",
       "       [ 6.43821269,  9.0963777 ],\n",
       "       [14.6580894 ,  5.73062543],\n",
       "       [14.16775645, 10.40972655],\n",
       "       [ 9.07024877, 12.0429859 ],\n",
       "       [ 7.81073251, 12.91658803],\n",
       "       [11.30395067,  7.07611339],\n",
       "       [ 9.15696297,  9.8076872 ],\n",
       "       [12.68073324,  7.49004737],\n",
       "       [13.83028596, 11.27396654],\n",
       "       [ 7.62849486,  7.53448681],\n",
       "       [14.19107242,  8.39586129],\n",
       "       [11.28102381,  7.43617924],\n",
       "       [13.09170715, 12.01835825],\n",
       "       [11.05325538,  8.97077545],\n",
       "       [12.04748438,  9.35897777],\n",
       "       [ 7.88095952, 11.71110965],\n",
       "       [ 7.30558282, 13.17266252],\n",
       "       [ 9.76704123, 10.66862283],\n",
       "       [ 7.56101714,  9.17862102],\n",
       "       [ 7.69663966, 12.64491989],\n",
       "       [ 7.15227173, 14.73933936],\n",
       "       [13.80670658,  6.81126854],\n",
       "       [ 8.91078205, 13.37067575],\n",
       "       [14.33205734, 14.2051267 ],\n",
       "       [ 9.84270222,  9.38753412],\n",
       "       [13.13007574,  8.67116068],\n",
       "       [ 5.47136625,  6.34526568],\n",
       "       [ 9.58192574,  9.47457081],\n",
       "       [ 6.92109997, 11.03622903],\n",
       "       [ 7.2912604 ,  5.32636067],\n",
       "       [ 9.08227289, 11.01799312],\n",
       "       [10.5288793 , 11.90172082],\n",
       "       [12.05312151,  9.95814787],\n",
       "       [ 9.30904864,  8.21016404],\n",
       "       [14.80419202,  7.35528468],\n",
       "       [ 6.7441988 ,  5.80190829],\n",
       "       [ 6.59353964,  9.98130911],\n",
       "       [10.39692633,  5.9149033 ],\n",
       "       [12.81505974,  5.57723663],\n",
       "       [13.80694326, 12.21171596],\n",
       "       [ 6.53447617,  5.39816989],\n",
       "       [ 5.53112709, 11.23726882],\n",
       "       [ 5.42768034,  8.3338    ],\n",
       "       [10.03408284, 12.27627755],\n",
       "       [ 9.16404064,  8.06212607],\n",
       "       [ 5.52116193,  5.04197596],\n",
       "       [10.68955906, 11.88026608],\n",
       "       [14.53467555, 14.56532649],\n",
       "       [ 7.55871367, 11.31454918],\n",
       "       [11.81590932,  8.16404953],\n",
       "       [ 5.65141357, 13.61105641],\n",
       "       [13.47159154, 11.7913114 ],\n",
       "       [14.32048234,  9.86166887],\n",
       "       [ 9.57715834, 10.06652931],\n",
       "       [ 9.71662383,  6.77639775],\n",
       "       [ 7.4331778 ,  7.51571138],\n",
       "       [ 8.94168504, 13.383688  ],\n",
       "       [ 6.33488483, 12.71903875],\n",
       "       [ 9.46084538, 12.7959917 ],\n",
       "       [10.8906763 , 10.86145817],\n",
       "       [ 5.85837843, 10.56997999],\n",
       "       [ 5.23281468, 10.52911346],\n",
       "       [14.770079  , 14.53772918],\n",
       "       [13.19135378,  5.88593018],\n",
       "       [ 8.69796148, 14.5802703 ],\n",
       "       [11.54248693, 13.5088299 ],\n",
       "       [10.88766807, 13.2256164 ],\n",
       "       [11.39395581,  8.91977021],\n",
       "       [ 7.23858209, 12.83624079],\n",
       "       [ 6.5838512 , 10.75670199],\n",
       "       [ 6.7291952 , 11.95798158],\n",
       "       [ 6.57454549,  6.30214848],\n",
       "       [13.37588668,  8.07278121]])"
      ]
     },
     "execution_count": 15,
     "metadata": {},
     "output_type": "execute_result"
    }
   ],
   "source": [
    "train_arr"
   ]
  },
  {
   "cell_type": "code",
   "execution_count": 16,
   "metadata": {},
   "outputs": [
    {
     "data": {
      "text/plain": [
       "array([[ 9.15221902, 14.19766958]])"
      ]
     },
     "execution_count": 16,
     "metadata": {},
     "output_type": "execute_result"
    }
   ],
   "source": [
    "test_arr"
   ]
  },
  {
   "cell_type": "code",
   "execution_count": 17,
   "metadata": {},
   "outputs": [],
   "source": [
    "delta_sq = (train_arr - test_arr)**2"
   ]
  },
  {
   "cell_type": "code",
   "execution_count": 18,
   "metadata": {},
   "outputs": [
    {
     "data": {
      "text/plain": [
       "array([[1.86782357e+01, 3.41535126e+00],\n",
       "       [5.30083043e+00, 1.91142280e+01],\n",
       "       [2.29654052e+01, 6.95495197e+01],\n",
       "       [7.92614231e-01, 6.28600904e+01],\n",
       "       [1.54505762e+00, 1.47145446e+00],\n",
       "       [1.30903019e+01, 2.69820972e+00],\n",
       "       [8.40579051e+00, 1.30703640e+01],\n",
       "       [2.28222226e+00, 3.48716502e+01],\n",
       "       [2.26384834e+01, 6.06388562e+00],\n",
       "       [6.23420171e+00, 3.62880139e+01],\n",
       "       [8.24377731e-01, 4.81829772e+01],\n",
       "       [9.27033903e+00, 9.18797352e+00],\n",
       "       [1.17435099e+00, 1.01633155e+01],\n",
       "       [1.66011945e+00, 6.34368735e-01],\n",
       "       [7.46549490e+00, 3.03563155e+01],\n",
       "       [8.33305278e-01, 3.26628423e+01],\n",
       "       [6.57085507e-02, 2.80230018e-01],\n",
       "       [2.86750257e+01, 3.49907328e-01],\n",
       "       [2.36555621e+01, 3.31416318e+01],\n",
       "       [3.16752173e+01, 4.33032286e+00],\n",
       "       [1.04758226e-02, 5.01959790e+01],\n",
       "       [1.02691356e+01, 3.52681271e-01],\n",
       "       [6.79931601e+00, 1.35467389e-01],\n",
       "       [3.67763484e+00, 3.31162828e+01],\n",
       "       [1.66228946e+01, 1.64804183e+01],\n",
       "       [2.59308263e-01, 4.09617484e+01],\n",
       "       [4.04439953e+00, 1.40466671e+01],\n",
       "       [7.36583033e+00, 2.60231788e+01],\n",
       "       [3.03146087e+01, 7.16908365e+01],\n",
       "       [2.51556157e+01, 1.43485124e+01],\n",
       "       [6.71912172e-03, 4.64266177e+00],\n",
       "       [1.79958606e+00, 1.64116992e+00],\n",
       "       [4.62994908e+00, 5.07165626e+01],\n",
       "       [2.25050558e-05, 1.92719453e+01],\n",
       "       [1.24504126e+01, 4.49921957e+01],\n",
       "       [2.18843103e+01, 8.54803946e+00],\n",
       "       [2.32173533e+00, 4.43980045e+01],\n",
       "       [2.53900436e+01, 3.36609794e+01],\n",
       "       [4.53180984e+00, 4.57177516e+01],\n",
       "       [1.55195667e+01, 4.74939787e+00],\n",
       "       [3.61393926e+00, 2.73204222e+01],\n",
       "       [8.38256152e+00, 2.34129385e+01],\n",
       "       [1.61610072e+00, 6.18298028e+00],\n",
       "       [3.41006524e+00, 1.05063947e+00],\n",
       "       [3.78006345e-01, 1.24541709e+01],\n",
       "       [2.53192341e+00, 2.51908484e+01],\n",
       "       [2.11871127e+00, 2.41103160e+00],\n",
       "       [3.99978914e+00, 2.93406152e-01],\n",
       "       [2.16642545e+01, 5.45589203e+01],\n",
       "       [5.82918093e-02, 6.83918784e-01],\n",
       "       [2.68307251e+01, 5.56087409e-05],\n",
       "       [4.76767045e-01, 2.31374032e+01],\n",
       "       [1.58233441e+01, 3.05423006e+01],\n",
       "       [1.35486771e+01, 6.16602469e+01],\n",
       "       [1.84647868e-01, 2.23076620e+01],\n",
       "       [4.97789219e+00, 9.99470631e+00],\n",
       "       [3.46316697e+00, 7.87001218e+01],\n",
       "       [4.89246077e-03, 1.01103424e+01],\n",
       "       [1.89519352e+00, 5.27138071e+00],\n",
       "       [8.41523529e+00, 1.79735443e+01],\n",
       "       [2.45955287e-02, 3.58502225e+01],\n",
       "       [3.19447988e+01, 4.68182311e+01],\n",
       "       [5.79856136e+00, 7.04888075e+01],\n",
       "       [6.54684017e+00, 1.77776956e+01],\n",
       "       [1.54929628e+00, 6.86042172e+01],\n",
       "       [1.34164021e+01, 7.43118643e+01],\n",
       "       [2.16664577e+01, 3.94401177e+00],\n",
       "       [6.85257763e+00, 7.74311948e+01],\n",
       "       [1.31123067e+01, 8.76397266e+00],\n",
       "       [1.38721884e+01, 3.43849664e+01],\n",
       "       [7.77683790e-01, 3.69174732e+00],\n",
       "       [1.39750830e-04, 3.76448941e+01],\n",
       "       [1.31845756e+01, 8.38267257e+01],\n",
       "       [2.36341440e+00, 5.37035899e+00],\n",
       "       [2.89708383e+01, 1.35171607e-01],\n",
       "       [2.53925930e+00, 8.31238324e+00],\n",
       "       [7.09524602e+00, 3.64045709e+01],\n",
       "       [1.22556388e+01, 3.44115006e-01],\n",
       "       [1.86569790e+01, 5.79055966e+00],\n",
       "       [2.67109458e+01, 1.88009021e+01],\n",
       "       [1.80573429e-01, 1.70663199e+01],\n",
       "       [3.18552789e-01, 5.50752755e+01],\n",
       "       [2.95510272e+00, 4.46485653e+01],\n",
       "       [4.43245579e-02, 6.62566016e-01],\n",
       "       [7.93737195e+00, 2.18634913e+00],\n",
       "       [9.52502297e-02, 1.96470087e+00],\n",
       "       [3.02223371e+00, 1.11303065e+01],\n",
       "       [1.08493858e+01, 1.31601317e+01],\n",
       "       [1.53617304e+01, 1.34583040e+01],\n",
       "       [3.15603507e+01, 1.15640533e-01],\n",
       "       [1.63146096e+01, 6.90850118e+01],\n",
       "       [2.06349910e-01, 1.46383312e-01],\n",
       "       [5.71338067e+00, 4.74500095e-01],\n",
       "       [3.01178340e+00, 9.44887386e-01],\n",
       "       [5.02538382e+00, 2.78562218e+01],\n",
       "       [3.66200631e+00, 1.85348835e+00],\n",
       "       [6.59651326e+00, 1.18402579e+01],\n",
       "       [5.87104443e+00, 5.01620231e+00],\n",
       "       [6.64440081e+00, 6.23392535e+01],\n",
       "       [1.78393685e+01, 3.75142576e+01]])"
      ]
     },
     "execution_count": 18,
     "metadata": {},
     "output_type": "execute_result"
    }
   ],
   "source": [
    "delta_sq"
   ]
  },
  {
   "cell_type": "code",
   "execution_count": 19,
   "metadata": {},
   "outputs": [
    {
     "data": {
      "text/plain": [
       "2"
      ]
     },
     "execution_count": 19,
     "metadata": {},
     "output_type": "execute_result"
    }
   ],
   "source": [
    "delta_sq.shape[1]"
   ]
  },
  {
   "cell_type": "code",
   "execution_count": 20,
   "metadata": {},
   "outputs": [
    {
     "data": {
      "text/plain": [
       "array([ 4.70038157,  4.94115962,  9.61846791,  7.97826451,  1.73681089,\n",
       "        3.97347602,  4.63423721,  6.09539765,  5.35745919,  6.52090604,\n",
       "        7.00052533,  4.29631383,  3.36714515,  1.51475681,  6.14994393,\n",
       "        5.78758564,  0.58816543,  5.38747928,  7.53639131,  6.00046166,\n",
       "        7.08565134,  3.2591129 ,  2.63339769,  6.06579901,  5.75354786,\n",
       "        6.42036266,  4.25335945,  5.77832235, 10.09977451,  6.28523095,\n",
       "        2.15624231,  1.85492749,  7.43952362,  4.38998495,  7.57909021,\n",
       "        5.51655235,  6.83518397,  7.68446634,  7.08869251,  4.50210668,\n",
       "        5.56186672,  5.63874986,  2.79268348,  2.11203805,  3.58220285,\n",
       "        5.26524186,  2.12831926,  2.07200273,  8.73058846,  0.86151645,\n",
       "        5.17984369,  4.85944135,  6.80923232,  8.67230788,  4.74260581,\n",
       "        3.86944421,  9.06439677,  3.18044569,  2.6770458 ,  5.13700103,\n",
       "        5.98955909,  8.8748538 ,  8.73426407,  4.93199105,  8.37576943,\n",
       "        9.36633687,  5.06067876,  9.18061939,  4.67720851,  6.94673699,\n",
       "        2.11410291,  6.13555489,  9.84943152,  2.78096627,  5.3949986 ,\n",
       "        3.29418314,  6.5954391 ,  3.54961319,  4.94444523,  6.74624695,\n",
       "        4.15293792,  7.44270302,  6.89954115,  0.84076785,  3.18177955,\n",
       "        1.43525298,  3.76198621,  4.89995077,  5.36842941,  5.62814279,\n",
       "        9.24119156,  0.59391348,  2.48754513,  1.9891382 ,  5.73424848,\n",
       "        2.34850903,  4.29380614,  3.29958281,  8.30563991,  7.44000175])"
      ]
     },
     "execution_count": 20,
     "metadata": {},
     "output_type": "execute_result"
    }
   ],
   "source": [
    "(delta_sq[:, 0] + delta_sq[:, 1])**0.5"
   ]
  },
  {
   "cell_type": "code",
   "execution_count": 21,
   "metadata": {},
   "outputs": [
    {
     "data": {
      "text/plain": [
       "array([ True,  True,  True,  True,  True,  True,  True,  True,  True,\n",
       "        True,  True,  True,  True,  True,  True,  True,  True,  True,\n",
       "        True,  True,  True,  True,  True,  True,  True,  True,  True,\n",
       "        True,  True,  True,  True,  True,  True,  True,  True,  True,\n",
       "        True,  True,  True,  True,  True,  True,  True,  True,  True,\n",
       "        True,  True,  True,  True,  True,  True,  True,  True,  True,\n",
       "        True,  True,  True,  True,  True,  True,  True,  True,  True,\n",
       "        True,  True,  True,  True,  True,  True,  True,  True,  True,\n",
       "        True,  True,  True,  True,  True,  True,  True,  True,  True,\n",
       "        True,  True,  True,  True,  True,  True,  True,  True,  True,\n",
       "        True,  True,  True,  True,  True,  True,  True,  True,  True,\n",
       "        True])"
      ]
     },
     "execution_count": 21,
     "metadata": {},
     "output_type": "execute_result"
    }
   ],
   "source": [
    "np.sum(delta_sq, axis=1) == delta_sq[:, 0] + delta_sq[:, 1]"
   ]
  },
  {
   "cell_type": "code",
   "execution_count": 22,
   "metadata": {},
   "outputs": [
    {
     "data": {
      "text/plain": [
       "(1, 2)"
      ]
     },
     "execution_count": 22,
     "metadata": {},
     "output_type": "execute_result"
    }
   ],
   "source": [
    "test_arr.shape"
   ]
  },
  {
   "cell_type": "code",
   "execution_count": 23,
   "metadata": {},
   "outputs": [],
   "source": [
    "def calc_dist(X_target:np.ndarray, X_train:np.ndarray) -> np.ndarray:\n",
    "    delta_squared = (X_train - X_target)**2\n",
    "    row_sum = np.sum(delta_squared, axis=1)\n",
    "    return row_sum**0.5"
   ]
  },
  {
   "cell_type": "code",
   "execution_count": 24,
   "metadata": {},
   "outputs": [],
   "source": [
    "dist = calc_dist(test_arr, train_arr)"
   ]
  },
  {
   "cell_type": "code",
   "execution_count": 25,
   "metadata": {},
   "outputs": [
    {
     "data": {
      "text/plain": [
       "[0.6666666666666666, 0.3333333333333333]"
      ]
     },
     "execution_count": 25,
     "metadata": {},
     "output_type": "execute_result"
    }
   ],
   "source": [
    "list(data['target'][list(dist.argsort())[:3]].value_counts(normalize=True))"
   ]
  },
  {
   "cell_type": "code",
   "execution_count": 26,
   "metadata": {},
   "outputs": [
    {
     "data": {
      "text/plain": [
       "6.000461664537668"
      ]
     },
     "execution_count": 26,
     "metadata": {},
     "output_type": "execute_result"
    }
   ],
   "source": [
    "dist[19]"
   ]
  },
  {
   "cell_type": "code",
   "execution_count": 27,
   "metadata": {},
   "outputs": [
    {
     "data": {
      "text/plain": [
       "(1, 2)"
      ]
     },
     "execution_count": 27,
     "metadata": {},
     "output_type": "execute_result"
    }
   ],
   "source": [
    "test_arr.shape"
   ]
  },
  {
   "cell_type": "code",
   "execution_count": 28,
   "metadata": {},
   "outputs": [
    {
     "data": {
      "text/plain": [
       "array([[1.86782357e+01, 3.41535126e+00],\n",
       "       [5.30083043e+00, 1.91142280e+01],\n",
       "       [2.29654052e+01, 6.95495197e+01],\n",
       "       [7.92614231e-01, 6.28600904e+01],\n",
       "       [1.54505762e+00, 1.47145446e+00],\n",
       "       [1.30903019e+01, 2.69820972e+00],\n",
       "       [8.40579051e+00, 1.30703640e+01],\n",
       "       [2.28222226e+00, 3.48716502e+01],\n",
       "       [2.26384834e+01, 6.06388562e+00],\n",
       "       [6.23420171e+00, 3.62880139e+01],\n",
       "       [8.24377731e-01, 4.81829772e+01],\n",
       "       [9.27033903e+00, 9.18797352e+00],\n",
       "       [1.17435099e+00, 1.01633155e+01],\n",
       "       [1.66011945e+00, 6.34368735e-01],\n",
       "       [7.46549490e+00, 3.03563155e+01],\n",
       "       [8.33305278e-01, 3.26628423e+01],\n",
       "       [6.57085507e-02, 2.80230018e-01],\n",
       "       [2.86750257e+01, 3.49907328e-01],\n",
       "       [2.36555621e+01, 3.31416318e+01],\n",
       "       [3.16752173e+01, 4.33032286e+00],\n",
       "       [1.04758226e-02, 5.01959790e+01],\n",
       "       [1.02691356e+01, 3.52681271e-01],\n",
       "       [6.79931601e+00, 1.35467389e-01],\n",
       "       [3.67763484e+00, 3.31162828e+01],\n",
       "       [1.66228946e+01, 1.64804183e+01],\n",
       "       [2.59308263e-01, 4.09617484e+01],\n",
       "       [4.04439953e+00, 1.40466671e+01],\n",
       "       [7.36583033e+00, 2.60231788e+01],\n",
       "       [3.03146087e+01, 7.16908365e+01],\n",
       "       [2.51556157e+01, 1.43485124e+01],\n",
       "       [6.71912172e-03, 4.64266177e+00],\n",
       "       [1.79958606e+00, 1.64116992e+00],\n",
       "       [4.62994908e+00, 5.07165626e+01],\n",
       "       [2.25050558e-05, 1.92719453e+01],\n",
       "       [1.24504126e+01, 4.49921957e+01],\n",
       "       [2.18843103e+01, 8.54803946e+00],\n",
       "       [2.32173533e+00, 4.43980045e+01],\n",
       "       [2.53900436e+01, 3.36609794e+01],\n",
       "       [4.53180984e+00, 4.57177516e+01],\n",
       "       [1.55195667e+01, 4.74939787e+00],\n",
       "       [3.61393926e+00, 2.73204222e+01],\n",
       "       [8.38256152e+00, 2.34129385e+01],\n",
       "       [1.61610072e+00, 6.18298028e+00],\n",
       "       [3.41006524e+00, 1.05063947e+00],\n",
       "       [3.78006345e-01, 1.24541709e+01],\n",
       "       [2.53192341e+00, 2.51908484e+01],\n",
       "       [2.11871127e+00, 2.41103160e+00],\n",
       "       [3.99978914e+00, 2.93406152e-01],\n",
       "       [2.16642545e+01, 5.45589203e+01],\n",
       "       [5.82918093e-02, 6.83918784e-01],\n",
       "       [2.68307251e+01, 5.56087409e-05],\n",
       "       [4.76767045e-01, 2.31374032e+01],\n",
       "       [1.58233441e+01, 3.05423006e+01],\n",
       "       [1.35486771e+01, 6.16602469e+01],\n",
       "       [1.84647868e-01, 2.23076620e+01],\n",
       "       [4.97789219e+00, 9.99470631e+00],\n",
       "       [3.46316697e+00, 7.87001218e+01],\n",
       "       [4.89246077e-03, 1.01103424e+01],\n",
       "       [1.89519352e+00, 5.27138071e+00],\n",
       "       [8.41523529e+00, 1.79735443e+01],\n",
       "       [2.45955287e-02, 3.58502225e+01],\n",
       "       [3.19447988e+01, 4.68182311e+01],\n",
       "       [5.79856136e+00, 7.04888075e+01],\n",
       "       [6.54684017e+00, 1.77776956e+01],\n",
       "       [1.54929628e+00, 6.86042172e+01],\n",
       "       [1.34164021e+01, 7.43118643e+01],\n",
       "       [2.16664577e+01, 3.94401177e+00],\n",
       "       [6.85257763e+00, 7.74311948e+01],\n",
       "       [1.31123067e+01, 8.76397266e+00],\n",
       "       [1.38721884e+01, 3.43849664e+01],\n",
       "       [7.77683790e-01, 3.69174732e+00],\n",
       "       [1.39750830e-04, 3.76448941e+01],\n",
       "       [1.31845756e+01, 8.38267257e+01],\n",
       "       [2.36341440e+00, 5.37035899e+00],\n",
       "       [2.89708383e+01, 1.35171607e-01],\n",
       "       [2.53925930e+00, 8.31238324e+00],\n",
       "       [7.09524602e+00, 3.64045709e+01],\n",
       "       [1.22556388e+01, 3.44115006e-01],\n",
       "       [1.86569790e+01, 5.79055966e+00],\n",
       "       [2.67109458e+01, 1.88009021e+01],\n",
       "       [1.80573429e-01, 1.70663199e+01],\n",
       "       [3.18552789e-01, 5.50752755e+01],\n",
       "       [2.95510272e+00, 4.46485653e+01],\n",
       "       [4.43245579e-02, 6.62566016e-01],\n",
       "       [7.93737195e+00, 2.18634913e+00],\n",
       "       [9.52502297e-02, 1.96470087e+00],\n",
       "       [3.02223371e+00, 1.11303065e+01],\n",
       "       [1.08493858e+01, 1.31601317e+01],\n",
       "       [1.53617304e+01, 1.34583040e+01],\n",
       "       [3.15603507e+01, 1.15640533e-01],\n",
       "       [1.63146096e+01, 6.90850118e+01],\n",
       "       [2.06349910e-01, 1.46383312e-01],\n",
       "       [5.71338067e+00, 4.74500095e-01],\n",
       "       [3.01178340e+00, 9.44887386e-01],\n",
       "       [5.02538382e+00, 2.78562218e+01],\n",
       "       [3.66200631e+00, 1.85348835e+00],\n",
       "       [6.59651326e+00, 1.18402579e+01],\n",
       "       [5.87104443e+00, 5.01620231e+00],\n",
       "       [6.64440081e+00, 6.23392535e+01],\n",
       "       [1.78393685e+01, 3.75142576e+01]])"
      ]
     },
     "execution_count": 28,
     "metadata": {},
     "output_type": "execute_result"
    }
   ],
   "source": [
    "delta_sq"
   ]
  },
  {
   "cell_type": "code",
   "execution_count": 29,
   "metadata": {},
   "outputs": [
    {
     "data": {
      "text/plain": [
       "[1,\n",
       " 1,\n",
       " 1,\n",
       " 0,\n",
       " 1,\n",
       " 1,\n",
       " 0,\n",
       " 0,\n",
       " 1,\n",
       " 1,\n",
       " 0,\n",
       " 0,\n",
       " 1,\n",
       " 0,\n",
       " 0,\n",
       " 0,\n",
       " 1,\n",
       " 1,\n",
       " 0,\n",
       " 1,\n",
       " 0,\n",
       " 1,\n",
       " 1,\n",
       " 1,\n",
       " 0,\n",
       " 0,\n",
       " 0,\n",
       " 0,\n",
       " 1,\n",
       " 1,\n",
       " 0,\n",
       " 0,\n",
       " 1,\n",
       " 1,\n",
       " 1,\n",
       " 0,\n",
       " 0,\n",
       " 1,\n",
       " 0,\n",
       " 1,\n",
       " 1,\n",
       " 1,\n",
       " 0,\n",
       " 0,\n",
       " 1,\n",
       " 1,\n",
       " 0,\n",
       " 0,\n",
       " 1,\n",
       " 1,\n",
       " 0,\n",
       " 0,\n",
       " 1,\n",
       " 0,\n",
       " 1,\n",
       " 1,\n",
       " 0,\n",
       " 0,\n",
       " 1,\n",
       " 0,\n",
       " 1,\n",
       " 0,\n",
       " 0,\n",
       " 1,\n",
       " 1,\n",
       " 0,\n",
       " 1,\n",
       " 0,\n",
       " 0,\n",
       " 1,\n",
       " 0,\n",
       " 0,\n",
       " 0,\n",
       " 0,\n",
       " 0,\n",
       " 1,\n",
       " 1,\n",
       " 1,\n",
       " 0,\n",
       " 0,\n",
       " 1,\n",
       " 0,\n",
       " 0,\n",
       " 1,\n",
       " 0,\n",
       " 0,\n",
       " 0,\n",
       " 0,\n",
       " 0,\n",
       " 1,\n",
       " 0,\n",
       " 1,\n",
       " 1,\n",
       " 0,\n",
       " 1,\n",
       " 1,\n",
       " 0,\n",
       " 0,\n",
       " 0,\n",
       " 0]"
      ]
     },
     "execution_count": 29,
     "metadata": {},
     "output_type": "execute_result"
    }
   ],
   "source": [
    "choiche = [rd.choice([1, 0]) for i in range(100)]\n",
    "choiche"
   ]
  },
  {
   "cell_type": "code",
   "execution_count": 30,
   "metadata": {},
   "outputs": [],
   "source": [
    "df = pd.DataFrame(np.array(choiche), columns=['choice'])"
   ]
  },
  {
   "cell_type": "code",
   "execution_count": 31,
   "metadata": {},
   "outputs": [],
   "source": [
    "dfi = pd.DataFrame(df.value_counts(normalize=True)).reset_index()\n",
    "dfarr = np.array(dfi).T"
   ]
  },
  {
   "cell_type": "code",
   "execution_count": 32,
   "metadata": {},
   "outputs": [
    {
     "data": {
      "text/plain": [
       "array([0.  , 0.54])"
      ]
     },
     "execution_count": 32,
     "metadata": {},
     "output_type": "execute_result"
    }
   ],
   "source": [
    "dfarr[:, 0]"
   ]
  },
  {
   "cell_type": "code",
   "execution_count": 33,
   "metadata": {},
   "outputs": [
    {
     "data": {
      "text/plain": [
       "array([[ 1.06222348, -0.87204425],\n",
       "       [-0.39729463, -0.1980993 ],\n",
       "       [ 1.52996752,  1.96706262],\n",
       "       [-0.88915558,  1.67988875],\n",
       "       [-0.80706158, -0.95549477],\n",
       "       [ 0.45256186, -0.90283078],\n",
       "       [-0.05853346, -0.45755937],\n",
       "       [-0.72663453,  0.47835898],\n",
       "       [ 1.49429929, -0.75834399],\n",
       "       [-0.29546081,  0.53916276],\n",
       "       [-0.88569008,  1.0498076 ],\n",
       "       [ 0.03579157, -0.62422846],\n",
       "       [-0.84750687, -0.58235752],\n",
       "       [-0.79450796, -0.99143045],\n",
       "       [-0.16112275,  0.2845179 ],\n",
       "       [-0.88471606,  0.38353595],\n",
       "       [-0.96846334, -1.00663344],\n",
       "       [ 2.15290555, -1.00364223],\n",
       "       [ 1.60526587,  0.40409015],\n",
       "       [ 2.48023615, -0.83276498],\n",
       "       [-0.97448941,  1.13622477],\n",
       "       [ 0.14476351, -1.00352315],\n",
       "       [-0.23380502, -1.01284803],\n",
       "       [-0.57439052,  0.40300193],\n",
       "       [ 0.83797913, -0.31116744],\n",
       "       [-0.94734098,  0.73980385],\n",
       "       [-0.5343753 , -0.41564717],\n",
       "       [-0.17199648,  0.09849851],\n",
       "       [ 2.33178935,  2.05898828],\n",
       "       [ 1.76892656, -0.4026891 ],\n",
       "       [-0.97489928, -0.81935643],\n",
       "       [-0.7792917 , -0.94820897],\n",
       "       [-0.47048996,  1.15857316],\n",
       "       [-0.9756299 , -0.19132858],\n",
       "       [ 0.38274787,  0.91282895],\n",
       "       [ 1.41201658, -0.65170051],\n",
       "       [-0.72232353,  0.88732062],\n",
       "       [ 1.79450339,  0.42638548],\n",
       "       [-0.48119726,  0.9439767 ],\n",
       "       [ 0.7176025 , -0.8147743 ],\n",
       "       [-0.58133991,  0.15418852],\n",
       "       [-0.06106782, -0.01355781],\n",
       "       [-0.79931055, -0.75323132],\n",
       "       [-0.60358322, -0.97356015],\n",
       "       [-0.93439064, -0.48401223],\n",
       "       [-0.69939133,  0.06276698],\n",
       "       [-0.74447411, -0.9151592 ],\n",
       "       [-0.53924244, -1.0060678 ],\n",
       "       [ 1.38800777,  1.32352366],\n",
       "       [-0.96927253, -0.98930329],\n",
       "       [ 1.9516864 , -1.01866119],\n",
       "       [-0.92361553, -0.0253864 ],\n",
       "       [ 0.75074559,  0.29250215],\n",
       "       [ 0.50257208,  1.62838007],\n",
       "       [-0.95548667, -0.06100678],\n",
       "       [-0.43252824, -0.58959582],\n",
       "       [-0.59778965,  2.3598934 ],\n",
       "       [-0.97509857, -0.58463162],\n",
       "       [-0.76886062, -0.79236583],\n",
       "       [-0.05750301, -0.24706829],\n",
       "       [-0.9729489 ,  0.5203686 ],\n",
       "       [ 2.50964836,  0.99121974],\n",
       "       [-0.34299058,  2.00738578],\n",
       "       [-0.26135095, -0.25547597],\n",
       "       [-0.80659913,  1.92648125],\n",
       "       [ 0.48814045,  2.1715077 ],\n",
       "       [ 1.38824816, -0.84934912],\n",
       "       [-0.227994  ,  2.305419  ],\n",
       "       [ 0.45496266, -0.6424306 ],\n",
       "       [ 0.5378682 ,  0.45746588],\n",
       "       [-0.89078454, -0.86017871],\n",
       "       [-0.97561711,  0.59741295],\n",
       "       [ 0.46284742,  2.57997595],\n",
       "       [-0.71777621, -0.78811675],\n",
       "       [ 2.18517967, -1.01286073],\n",
       "       [-0.69859096, -0.66181711],\n",
       "       [-0.2015181 ,  0.54416649],\n",
       "       [ 0.36149742, -1.00389089],\n",
       "       [ 1.05990431, -0.77007774],\n",
       "       [ 1.93861809, -0.21155023],\n",
       "       [-0.95593121, -0.28601498],\n",
       "       [-0.94087722,  1.34569053],\n",
       "       [-0.6532211 ,  0.89807706],\n",
       "       [-0.9707964 , -0.99021995],\n",
       "       [-0.10963944, -0.9248047 ],\n",
       "       [-0.96524025, -0.93431995],\n",
       "       [-0.6458969 , -0.54084507],\n",
       "       [ 0.20807068, -0.45370569],\n",
       "       [ 0.70038204, -0.4409053 ],\n",
       "       [ 2.46770384, -1.01369919],\n",
       "       [ 0.80434424,  1.94712153],\n",
       "       [-0.95311891, -1.01237942],\n",
       "       [-0.35228407, -0.99829353],\n",
       "       [-0.64703706, -0.97810004],\n",
       "       [-0.42734675,  0.17719013],\n",
       "       [-0.57609564, -0.93909425],\n",
       "       [-0.25593145, -0.51036721],\n",
       "       [-0.33508245, -0.80332052],\n",
       "       [-0.25070677,  1.65752948],\n",
       "       [ 0.97070036,  0.59180479]])"
      ]
     },
     "execution_count": 33,
     "metadata": {},
     "output_type": "execute_result"
    }
   ],
   "source": [
    "(delta_sq - np.mean(delta_sq, axis=0))/np.std(delta_sq, axis=0)"
   ]
  },
  {
   "cell_type": "code",
   "execution_count": 34,
   "metadata": {},
   "outputs": [],
   "source": [
    "from neighbors._base import NearestNeighbors\n",
    "from neighbors.classifier import KNNClassifier"
   ]
  },
  {
   "cell_type": "code",
   "execution_count": 35,
   "metadata": {},
   "outputs": [],
   "source": [
    "knn = KNNClassifier()"
   ]
  },
  {
   "cell_type": "code",
   "execution_count": 36,
   "metadata": {},
   "outputs": [],
   "source": [
    "def func(x):\n",
    "    if not x:\n",
    "        return\n",
    "    print(\"true\")"
   ]
  },
  {
   "cell_type": "code",
   "execution_count": 37,
   "metadata": {},
   "outputs": [],
   "source": [
    "x = func(False)"
   ]
  },
  {
   "cell_type": "code",
   "execution_count": 38,
   "metadata": {},
   "outputs": [],
   "source": [
    "knn.fit(delta_sq, choiche)"
   ]
  },
  {
   "cell_type": "code",
   "execution_count": null,
   "metadata": {},
   "outputs": [],
   "source": []
  },
  {
   "cell_type": "code",
   "execution_count": 39,
   "metadata": {},
   "outputs": [
    {
     "data": {
      "text/plain": [
       "array([[1],\n",
       "       [1],\n",
       "       [1],\n",
       "       [0],\n",
       "       [1],\n",
       "       [1],\n",
       "       [0],\n",
       "       [0],\n",
       "       [1],\n",
       "       [1],\n",
       "       [0],\n",
       "       [0],\n",
       "       [1],\n",
       "       [0],\n",
       "       [0],\n",
       "       [0],\n",
       "       [1],\n",
       "       [1],\n",
       "       [0],\n",
       "       [1],\n",
       "       [0],\n",
       "       [1],\n",
       "       [1],\n",
       "       [1],\n",
       "       [0],\n",
       "       [0],\n",
       "       [0],\n",
       "       [0],\n",
       "       [1],\n",
       "       [1],\n",
       "       [0],\n",
       "       [0],\n",
       "       [1],\n",
       "       [1],\n",
       "       [1],\n",
       "       [0],\n",
       "       [0],\n",
       "       [1],\n",
       "       [0],\n",
       "       [1],\n",
       "       [1],\n",
       "       [1],\n",
       "       [0],\n",
       "       [0],\n",
       "       [1],\n",
       "       [1],\n",
       "       [0],\n",
       "       [0],\n",
       "       [1],\n",
       "       [1],\n",
       "       [0],\n",
       "       [0],\n",
       "       [1],\n",
       "       [0],\n",
       "       [1],\n",
       "       [1],\n",
       "       [0],\n",
       "       [0],\n",
       "       [1],\n",
       "       [0],\n",
       "       [1],\n",
       "       [0],\n",
       "       [0],\n",
       "       [1],\n",
       "       [1],\n",
       "       [0],\n",
       "       [1],\n",
       "       [0],\n",
       "       [0],\n",
       "       [1],\n",
       "       [0],\n",
       "       [0],\n",
       "       [0],\n",
       "       [0],\n",
       "       [0],\n",
       "       [1],\n",
       "       [1],\n",
       "       [1],\n",
       "       [0],\n",
       "       [0],\n",
       "       [1],\n",
       "       [0],\n",
       "       [0],\n",
       "       [1],\n",
       "       [0],\n",
       "       [0],\n",
       "       [0],\n",
       "       [0],\n",
       "       [0],\n",
       "       [1],\n",
       "       [0],\n",
       "       [1],\n",
       "       [1],\n",
       "       [0],\n",
       "       [1],\n",
       "       [1],\n",
       "       [0],\n",
       "       [0],\n",
       "       [0],\n",
       "       [0]])"
      ]
     },
     "execution_count": 39,
     "metadata": {},
     "output_type": "execute_result"
    }
   ],
   "source": [
    "knn._output_data"
   ]
  },
  {
   "cell_type": "code",
   "execution_count": 46,
   "metadata": {},
   "outputs": [],
   "source": [
    "test = np.array([[ 1.51676512, -2.47909951],\n",
    "       [ 4.92804763, -2.95066551],\n",
    "       [ 2.25077705,  0.92468329],\n",
    "       [ 1.25077705,  0.92468329]\n",
    "       ])"
   ]
  },
  {
   "cell_type": "code",
   "execution_count": 41,
   "metadata": {},
   "outputs": [
    {
     "data": {
      "text/plain": [
       "(2,)"
      ]
     },
     "execution_count": 41,
     "metadata": {},
     "output_type": "execute_result"
    }
   ],
   "source": [
    "test[0].shape"
   ]
  },
  {
   "cell_type": "code",
   "execution_count": 47,
   "metadata": {},
   "outputs": [
    {
     "name": "stdout",
     "output_type": "stream",
     "text": [
      "[0.]\n",
      "[0. 1.]\n",
      "[0. 1. 0.]\n",
      "[0. 1. 0. 0.]\n"
     ]
    },
    {
     "data": {
      "text/plain": [
       "array([0., 1., 0., 0.])"
      ]
     },
     "execution_count": 47,
     "metadata": {},
     "output_type": "execute_result"
    }
   ],
   "source": [
    "knn.predict(test)"
   ]
  },
  {
   "cell_type": "code",
   "execution_count": 43,
   "metadata": {},
   "outputs": [
    {
     "name": "stdout",
     "output_type": "stream",
     "text": [
      "0\n",
      "1\n"
     ]
    }
   ],
   "source": [
    "for cls in np.unique(knn._output_data):\n",
    "    print(cls)"
   ]
  },
  {
   "cell_type": "code",
   "execution_count": 44,
   "metadata": {},
   "outputs": [
    {
     "ename": "TypeError",
     "evalue": "KNNClassifier._predict_proba() got an unexpected keyword argument 'axis'",
     "output_type": "error",
     "traceback": [
      "\u001b[1;31m---------------------------------------------------------------------------\u001b[0m",
      "\u001b[1;31mTypeError\u001b[0m                                 Traceback (most recent call last)",
      "\u001b[1;32mc:\\Users\\Rahman Aziz F\\Desktop\\new\\mlfratch\\test.ipynb Cell 45\u001b[0m in \u001b[0;36m<cell line: 1>\u001b[1;34m()\u001b[0m\n\u001b[1;32m----> <a href='vscode-notebook-cell:/c%3A/Users/Rahman%20Aziz%20F/Desktop/new/mlfratch/test.ipynb#X61sZmlsZQ%3D%3D?line=0'>1</a>\u001b[0m out \u001b[39m=\u001b[39m knn\u001b[39m.\u001b[39;49m_predict_proba(test, axis\u001b[39m=\u001b[39;49m\u001b[39m0\u001b[39;49m)\n",
      "\u001b[1;31mTypeError\u001b[0m: KNNClassifier._predict_proba() got an unexpected keyword argument 'axis'"
     ]
    }
   ],
   "source": [
    "out = knn._predict_proba(test, axis=0)"
   ]
  },
  {
   "cell_type": "code",
   "execution_count": null,
   "metadata": {},
   "outputs": [
    {
     "data": {
      "text/plain": [
       "array([[0.        , 1.        ],\n",
       "       [0.66666667, 0.33333333]])"
      ]
     },
     "execution_count": 74,
     "metadata": {},
     "output_type": "execute_result"
    }
   ],
   "source": [
    "out"
   ]
  },
  {
   "cell_type": "code",
   "execution_count": null,
   "metadata": {},
   "outputs": [
    {
     "data": {
      "text/plain": [
       "0"
      ]
     },
     "execution_count": 81,
     "metadata": {},
     "output_type": "execute_result"
    }
   ],
   "source": [
    "np.argmax(out[1, :])"
   ]
  },
  {
   "cell_type": "code",
   "execution_count": null,
   "metadata": {},
   "outputs": [
    {
     "data": {
      "text/plain": [
       "0.0"
      ]
     },
     "execution_count": 84,
     "metadata": {},
     "output_type": "execute_result"
    }
   ],
   "source": [
    "out[0, np.argmax(out[1, :])]"
   ]
  },
  {
   "cell_type": "code",
   "execution_count": null,
   "metadata": {},
   "outputs": [
    {
     "data": {
      "text/plain": [
       "array([1.])"
      ]
     },
     "execution_count": 73,
     "metadata": {},
     "output_type": "execute_result"
    }
   ],
   "source": [
    "x = np.array([])\n",
    "np.append(x, [1])"
   ]
  },
  {
   "cell_type": "code",
   "execution_count": null,
   "metadata": {},
   "outputs": [
    {
     "ename": "",
     "evalue": "",
     "output_type": "error",
     "traceback": [
      "\u001b[1;31mThe kernel failed to start as a dll could not be loaded.\n",
      "\u001b[1;31mClick <a href='https://aka.ms/kernelFailuresDllLoad'>here</a> for more info."
     ]
    }
   ],
   "source": [
    "pd.DataFrame(out).value_counts(normalize=True).get('yes', 0)"
   ]
  },
  {
   "cell_type": "code",
   "execution_count": null,
   "metadata": {},
   "outputs": [
    {
     "ename": "",
     "evalue": "",
     "output_type": "error",
     "traceback": [
      "\u001b[1;31mThe kernel failed to start as a dll could not be loaded.\n",
      "\u001b[1;31mClick <a href='https://aka.ms/kernelFailuresDllLoad'>here</a> for more info."
     ]
    }
   ],
   "source": [
    "x=np.array(choiche)"
   ]
  },
  {
   "cell_type": "code",
   "execution_count": null,
   "metadata": {},
   "outputs": [
    {
     "ename": "",
     "evalue": "",
     "output_type": "error",
     "traceback": [
      "\u001b[1;31mThe kernel failed to start as a dll could not be loaded.\n",
      "\u001b[1;31mClick <a href='https://aka.ms/kernelFailuresDllLoad'>here</a> for more info."
     ]
    }
   ],
   "source": []
  },
  {
   "cell_type": "code",
   "execution_count": null,
   "metadata": {},
   "outputs": [
    {
     "ename": "",
     "evalue": "",
     "output_type": "error",
     "traceback": [
      "\u001b[1;31mThe kernel failed to start as a dll could not be loaded.\n",
      "\u001b[1;31mClick <a href='https://aka.ms/kernelFailuresDllLoad'>here</a> for more info."
     ]
    }
   ],
   "source": [
    "set(x.tolist())"
   ]
  },
  {
   "cell_type": "code",
   "execution_count": null,
   "metadata": {},
   "outputs": [
    {
     "ename": "",
     "evalue": "",
     "output_type": "error",
     "traceback": [
      "\u001b[1;31mThe kernel failed to start as a dll could not be loaded.\n",
      "\u001b[1;31mClick <a href='https://aka.ms/kernelFailuresDllLoad'>here</a> for more info."
     ]
    }
   ],
   "source": [
    "outt = np.zeros(shape=(2, 3))"
   ]
  },
  {
   "cell_type": "code",
   "execution_count": null,
   "metadata": {},
   "outputs": [
    {
     "ename": "",
     "evalue": "",
     "output_type": "error",
     "traceback": [
      "\u001b[1;31mThe kernel failed to start as a dll could not be loaded.\n",
      "\u001b[1;31mClick <a href='https://aka.ms/kernelFailuresDllLoad'>here</a> for more info."
     ]
    }
   ],
   "source": [
    "outt[0, 0] = 5"
   ]
  },
  {
   "cell_type": "code",
   "execution_count": null,
   "metadata": {},
   "outputs": [
    {
     "ename": "",
     "evalue": "",
     "output_type": "error",
     "traceback": [
      "\u001b[1;31mThe kernel failed to start as a dll could not be loaded.\n",
      "\u001b[1;31mClick <a href='https://aka.ms/kernelFailuresDllLoad'>here</a> for more info."
     ]
    }
   ],
   "source": [
    "outt[0, :]"
   ]
  },
  {
   "cell_type": "code",
   "execution_count": null,
   "metadata": {},
   "outputs": [
    {
     "ename": "",
     "evalue": "",
     "output_type": "error",
     "traceback": [
      "\u001b[1;31mThe kernel failed to start as a dll could not be loaded.\n",
      "\u001b[1;31mClick <a href='https://aka.ms/kernelFailuresDllLoad'>here</a> for more info."
     ]
    }
   ],
   "source": [
    "import hashlib"
   ]
  },
  {
   "cell_type": "code",
   "execution_count": null,
   "metadata": {},
   "outputs": [
    {
     "ename": "",
     "evalue": "",
     "output_type": "error",
     "traceback": [
      "\u001b[1;31mThe kernel failed to start as a dll could not be loaded.\n",
      "\u001b[1;31mClick <a href='https://aka.ms/kernelFailuresDllLoad'>here</a> for more info."
     ]
    }
   ],
   "source": []
  },
  {
   "cell_type": "code",
   "execution_count": null,
   "metadata": {},
   "outputs": [
    {
     "ename": "",
     "evalue": "",
     "output_type": "error",
     "traceback": [
      "\u001b[1;31mThe kernel failed to start as a dll could not be loaded.\n",
      "\u001b[1;31mClick <a href='https://aka.ms/kernelFailuresDllLoad'>here</a> for more info."
     ]
    }
   ],
   "source": [
    "hashlib.sha256(\"hello world\".encode()).hexdigest()"
   ]
  },
  {
   "cell_type": "code",
   "execution_count": null,
   "metadata": {},
   "outputs": [
    {
     "ename": "",
     "evalue": "",
     "output_type": "error",
     "traceback": [
      "\u001b[1;31mThe kernel failed to start as a dll could not be loaded.\n",
      "\u001b[1;31mClick <a href='https://aka.ms/kernelFailuresDllLoad'>here</a> for more info."
     ]
    }
   ],
   "source": [
    "hashlib.sha256(\"hello world-rahmanazizf\".encode()).hexdigest()"
   ]
  },
  {
   "cell_type": "code",
   "execution_count": null,
   "metadata": {},
   "outputs": [
    {
     "ename": "",
     "evalue": "",
     "output_type": "error",
     "traceback": [
      "\u001b[1;31mThe kernel failed to start as a dll could not be loaded.\n",
      "\u001b[1;31mClick <a href='https://aka.ms/kernelFailuresDllLoad'>here</a> for more info."
     ]
    }
   ],
   "source": [
    "rd.choices(asc)"
   ]
  },
  {
   "cell_type": "code",
   "execution_count": null,
   "metadata": {},
   "outputs": [
    {
     "ename": "",
     "evalue": "",
     "output_type": "error",
     "traceback": [
      "\u001b[1;31mThe kernel failed to start as a dll could not be loaded.\n",
      "\u001b[1;31mClick <a href='https://aka.ms/kernelFailuresDllLoad'>here</a> for more info."
     ]
    }
   ],
   "source": [
    "import string"
   ]
  },
  {
   "cell_type": "code",
   "execution_count": null,
   "metadata": {},
   "outputs": [
    {
     "ename": "",
     "evalue": "",
     "output_type": "error",
     "traceback": [
      "\u001b[1;31mThe kernel failed to start as a dll could not be loaded.\n",
      "\u001b[1;31mClick <a href='https://aka.ms/kernelFailuresDllLoad'>here</a> for more info."
     ]
    }
   ],
   "source": [
    "string.ascii_letters"
   ]
  },
  {
   "cell_type": "code",
   "execution_count": null,
   "metadata": {},
   "outputs": [
    {
     "ename": "",
     "evalue": "",
     "output_type": "error",
     "traceback": [
      "\u001b[1;31mThe kernel failed to start as a dll could not be loaded.\n",
      "\u001b[1;31mClick <a href='https://aka.ms/kernelFailuresDllLoad'>here</a> for more info."
     ]
    }
   ],
   "source": [
    "string.digits"
   ]
  },
  {
   "cell_type": "code",
   "execution_count": null,
   "metadata": {},
   "outputs": [
    {
     "ename": "",
     "evalue": "",
     "output_type": "error",
     "traceback": [
      "\u001b[1;31mThe kernel failed to start as a dll could not be loaded.\n",
      "\u001b[1;31mClick <a href='https://aka.ms/kernelFailuresDllLoad'>here</a> for more info."
     ]
    }
   ],
   "source": [
    "\"\".join(rd.choices(string.ascii_letters+string.digits, k=5))"
   ]
  }
 ],
 "metadata": {
  "kernelspec": {
   "display_name": "Python 3",
   "language": "python",
   "name": "python3"
  },
  "language_info": {
   "codemirror_mode": {
    "name": "ipython",
    "version": 3
   },
   "file_extension": ".py",
   "mimetype": "text/x-python",
   "name": "python",
   "nbconvert_exporter": "python",
   "pygments_lexer": "ipython3",
   "version": "3.10.7"
  },
  "orig_nbformat": 4
 },
 "nbformat": 4,
 "nbformat_minor": 2
}
